{
  "nbformat": 4,
  "nbformat_minor": 0,
  "metadata": {
    "colab": {
      "name": "01_numpy_intro.ipynb",
      "provenance": [],
      "collapsed_sections": [],
      "include_colab_link": true
    },
    "kernelspec": {
      "name": "python3",
      "display_name": "Python 3"
    }
  },
  "cells": [
    {
      "cell_type": "markdown",
      "metadata": {
        "id": "view-in-github",
        "colab_type": "text"
      },
      "source": [
        "<a href=\"https://colab.research.google.com/github/J000lka/data-science-bootcamp/blob/main/01_wprowadzenie/01_numpy_intro.ipynb\" target=\"_parent\"><img src=\"https://colab.research.google.com/assets/colab-badge.svg\" alt=\"Open In Colab\"/></a>"
      ]
    },
    {
      "cell_type": "markdown",
      "metadata": {
        "id": "Egt9_Z5ZH0QE"
      },
      "source": [
        "* @author: krakowiakpawel9@gmail.com  \n",
        "* @site: e-smartdata.org"
      ]
    },
    {
      "cell_type": "markdown",
      "metadata": {
        "id": "ZlL4HqNannLQ"
      },
      "source": [
        "### NumPy\n",
        ">Strona biblioteki: [https://numpy.org/](https://numpy.org/)  \n",
        ">Dokumentacja: [https://numpy.org/doc/](https://numpy.org/doc/)  \n",
        ">\n",
        ">Podstawowa biblioteka do obliczeń numerycznych w języku Python.\n",
        ">\n",
        ">Aby zainstalować bibliotekę NumPy, użyj polecenia poniżej:\n",
        "```\n",
        "pip install numpy\n",
        "```\n",
        "\n",
        "### Spis treści:\n",
        "1. [Podstawy](#a1)\n",
        "2. [Typy danych](#a2)\n",
        "3. [Tworzenie tablic](#a3)\n",
        "4. [Podstawowe operacje na tablicach](#a4)\n",
        "5. [Generowanie liczb pseudolosowych](#a5)\n",
        "6. [Podstawowe funkcje](#a6)\n",
        "7. [Indeksowanie, Wycinanie](#a7)\n",
        "8. [Iteracja po tablicach](#a8)\n",
        "9. [Zmiana rozmiaru tablic](#a9)\n",
        "10. [Maski logiczne](#a10)\n"
      ]
    },
    {
      "cell_type": "markdown",
      "metadata": {
        "id": "IMpcjlz1rxLL"
      },
      "source": [
        "### <a name='a1'></a> Podstawy"
      ]
    },
    {
      "cell_type": "markdown",
      "source": [
        "np - numerical python\n",
        "sprawdzamy wersję"
      ],
      "metadata": {
        "id": "NcPCCjzhODb4"
      }
    },
    {
      "cell_type": "code",
      "metadata": {
        "id": "liUwW0GyX6rZ",
        "outputId": "715659ec-1d5c-4d4e-c722-a525c6f4c374",
        "colab": {
          "base_uri": "https://localhost:8080/",
          "height": 35
        }
      },
      "source": [
        "import numpy as np\n",
        "np.__version__"
      ],
      "execution_count": 3,
      "outputs": [
        {
          "output_type": "execute_result",
          "data": {
            "text/plain": [
              "'1.21.6'"
            ],
            "application/vnd.google.colaboratory.intrinsic+json": {
              "type": "string"
            }
          },
          "metadata": {},
          "execution_count": 3
        }
      ]
    },
    {
      "cell_type": "markdown",
      "source": [
        "jakie mamy klasy, metody, atrybuty do wyboru"
      ],
      "metadata": {
        "id": "8wSZBd5YOXLS"
      }
    },
    {
      "cell_type": "code",
      "source": [
        "dir(np)"
      ],
      "metadata": {
        "id": "AYZXhekLOhCA"
      },
      "execution_count": null,
      "outputs": []
    },
    {
      "cell_type": "code",
      "metadata": {
        "id": "dAgLPBdCYMhF"
      },
      "source": [
        "print(dir(np))"
      ],
      "execution_count": null,
      "outputs": []
    },
    {
      "cell_type": "markdown",
      "source": [
        "array - jedna z podstawowych funkcji do tworzenia tablic"
      ],
      "metadata": {
        "id": "Gsa0jmFlOvfq"
      }
    },
    {
      "cell_type": "code",
      "metadata": {
        "id": "nv9jqgzoYdSl"
      },
      "source": [
        "help(np.array)"
      ],
      "execution_count": null,
      "outputs": []
    },
    {
      "cell_type": "markdown",
      "metadata": {
        "id": "k2tFMBzHvwqU"
      },
      "source": [
        "1D Array"
      ]
    },
    {
      "cell_type": "markdown",
      "source": [
        "tworzenie prostej tablicy\n",
        "podstawowym obiektem numpy jest wielowymiarowa tablica, kazdy element musi byc tego samego typu\n",
        "w numpy wymiary są nazywane osiami (axes) a klasa to ndarray\n",
        "\n"
      ],
      "metadata": {
        "id": "E4jpSWHPO-Wk"
      }
    },
    {
      "cell_type": "markdown",
      "source": [
        "tablica jednowymiarowa, argumenty jako lista"
      ],
      "metadata": {
        "id": "TdGpERkgUKUq"
      }
    },
    {
      "cell_type": "code",
      "metadata": {
        "id": "Uaa1zSelY0mz",
        "outputId": "65b41a05-99b9-481e-d8e6-1278d391ebb6",
        "colab": {
          "base_uri": "https://localhost:8080/"
        }
      },
      "source": [
        "x = np.array([1, 3])\n",
        "x"
      ],
      "execution_count": 6,
      "outputs": [
        {
          "output_type": "execute_result",
          "data": {
            "text/plain": [
              "array([1, 3])"
            ]
          },
          "metadata": {},
          "execution_count": 6
        }
      ]
    },
    {
      "cell_type": "code",
      "metadata": {
        "id": "aY97neIfZAJ8",
        "outputId": "f34cf4fb-9e4e-43e5-ff90-d13a00d4bd21",
        "colab": {
          "base_uri": "https://localhost:8080/"
        }
      },
      "source": [
        "print(x)"
      ],
      "execution_count": 7,
      "outputs": [
        {
          "output_type": "stream",
          "name": "stdout",
          "text": [
            "[1 3]\n"
          ]
        }
      ]
    },
    {
      "cell_type": "code",
      "metadata": {
        "id": "A817SyhmZDMm",
        "outputId": "66eb8de7-531e-4854-94c8-92aee1056f1d",
        "colab": {
          "base_uri": "https://localhost:8080/"
        }
      },
      "source": [
        "type(x)"
      ],
      "execution_count": 8,
      "outputs": [
        {
          "output_type": "execute_result",
          "data": {
            "text/plain": [
              "numpy.ndarray"
            ]
          },
          "metadata": {},
          "execution_count": 8
        }
      ]
    },
    {
      "cell_type": "markdown",
      "source": [
        "atrubuty: \n",
        "liczba wymiarów\n",
        "kształt - tu jest tupla, bo są dwa elementy\n",
        "rozmiar - liczba elemwntów\n",
        "dtype - typ danych, tu integer\n"
      ],
      "metadata": {
        "id": "h3P50xV2UeHW"
      }
    },
    {
      "cell_type": "code",
      "metadata": {
        "id": "TiMci5quZ_1C",
        "outputId": "c8df053b-21c8-4504-9976-10ec08025438",
        "colab": {
          "base_uri": "https://localhost:8080/"
        }
      },
      "source": [
        "x.ndim"
      ],
      "execution_count": 9,
      "outputs": [
        {
          "output_type": "execute_result",
          "data": {
            "text/plain": [
              "1"
            ]
          },
          "metadata": {},
          "execution_count": 9
        }
      ]
    },
    {
      "cell_type": "code",
      "metadata": {
        "id": "lTctYxeTaEfi",
        "outputId": "3428ec7d-456a-443b-f437-c1d3b56b303a",
        "colab": {
          "base_uri": "https://localhost:8080/"
        }
      },
      "source": [
        "x.shape"
      ],
      "execution_count": 10,
      "outputs": [
        {
          "output_type": "execute_result",
          "data": {
            "text/plain": [
              "(2,)"
            ]
          },
          "metadata": {},
          "execution_count": 10
        }
      ]
    },
    {
      "cell_type": "code",
      "metadata": {
        "id": "5SJ8KizDaJZW",
        "outputId": "c2424c0e-8bf0-4bf1-ebae-cd885a88218d",
        "colab": {
          "base_uri": "https://localhost:8080/"
        }
      },
      "source": [
        "x.size"
      ],
      "execution_count": 11,
      "outputs": [
        {
          "output_type": "execute_result",
          "data": {
            "text/plain": [
              "2"
            ]
          },
          "metadata": {},
          "execution_count": 11
        }
      ]
    },
    {
      "cell_type": "code",
      "metadata": {
        "id": "8E-IdTJfaM8b",
        "outputId": "44bf4480-762d-44ff-c596-7bebd8a14afa",
        "colab": {
          "base_uri": "https://localhost:8080/"
        }
      },
      "source": [
        "x.dtype"
      ],
      "execution_count": 12,
      "outputs": [
        {
          "output_type": "execute_result",
          "data": {
            "text/plain": [
              "dtype('int64')"
            ]
          },
          "metadata": {},
          "execution_count": 12
        }
      ]
    },
    {
      "cell_type": "code",
      "metadata": {
        "id": "z_RPy2eBaWWW",
        "outputId": "7f68ff7f-9518-4865-8d08-90ccbbb1dca1",
        "colab": {
          "base_uri": "https://localhost:8080/"
        }
      },
      "source": [
        "x = np.array([1.3, 2.3, 1.4])\n",
        "print(x)"
      ],
      "execution_count": 13,
      "outputs": [
        {
          "output_type": "stream",
          "name": "stdout",
          "text": [
            "[1.3 2.3 1.4]\n"
          ]
        }
      ]
    },
    {
      "cell_type": "code",
      "metadata": {
        "id": "fFCgrbRpajCe",
        "outputId": "68b65d5b-5aaa-45b9-c109-b06bd41f8835",
        "colab": {
          "base_uri": "https://localhost:8080/"
        }
      },
      "source": [
        "x.dtype"
      ],
      "execution_count": 14,
      "outputs": [
        {
          "output_type": "execute_result",
          "data": {
            "text/plain": [
              "dtype('float64')"
            ]
          },
          "metadata": {},
          "execution_count": 14
        }
      ]
    },
    {
      "cell_type": "markdown",
      "metadata": {
        "id": "nzax3ujLv6k9"
      },
      "source": [
        "2D Array"
      ]
    },
    {
      "cell_type": "markdown",
      "source": [
        "tablice dwuwymiarowe\n",
        " podajemy zagnieżdżone listy"
      ],
      "metadata": {
        "id": "Z2wLJbJEU9pi"
      }
    },
    {
      "cell_type": "code",
      "metadata": {
        "id": "WgIYISozanNp",
        "outputId": "021921d1-545d-4b59-d0ca-0ac668f54bfc",
        "colab": {
          "base_uri": "https://localhost:8080/"
        }
      },
      "source": [
        "x = np.array([[1, 2], [-3, 1]])\n",
        "x"
      ],
      "execution_count": 15,
      "outputs": [
        {
          "output_type": "execute_result",
          "data": {
            "text/plain": [
              "array([[ 1,  2],\n",
              "       [-3,  1]])"
            ]
          },
          "metadata": {},
          "execution_count": 15
        }
      ]
    },
    {
      "cell_type": "code",
      "metadata": {
        "id": "fBsDfQ4Xa1bU",
        "outputId": "0fddecb1-c688-4757-cba8-6dc2072d617b",
        "colab": {
          "base_uri": "https://localhost:8080/"
        }
      },
      "source": [
        "x.ndim"
      ],
      "execution_count": 17,
      "outputs": [
        {
          "output_type": "execute_result",
          "data": {
            "text/plain": [
              "2"
            ]
          },
          "metadata": {},
          "execution_count": 17
        }
      ]
    },
    {
      "cell_type": "code",
      "metadata": {
        "id": "ySPwrvOXa5Hu",
        "outputId": "add1908c-5b24-4f97-ef32-970ebd27c31a",
        "colab": {
          "base_uri": "https://localhost:8080/"
        }
      },
      "source": [
        "x.shape"
      ],
      "execution_count": 16,
      "outputs": [
        {
          "output_type": "execute_result",
          "data": {
            "text/plain": [
              "(2, 2)"
            ]
          },
          "metadata": {},
          "execution_count": 16
        }
      ]
    },
    {
      "cell_type": "markdown",
      "source": [
        "jeśli budujemy sieć neuronową to ważżne jest poprawne posługiwanie sie wymiarami tablic, ten element powdouje poprawne działanie funkcji, któ©ą jest sieć neuronowa"
      ],
      "metadata": {
        "id": "-G4P8dzHVkND"
      }
    },
    {
      "cell_type": "code",
      "metadata": {
        "id": "4ul5se3lbOvO",
        "outputId": "0d2e8700-99fd-4e8e-a4c7-fa93ac835d12",
        "colab": {
          "base_uri": "https://localhost:8080/"
        }
      },
      "source": [
        "x = np.array([[1, 2, 4], [4, 2, 1]])\n",
        "print(x)"
      ],
      "execution_count": 18,
      "outputs": [
        {
          "output_type": "stream",
          "name": "stdout",
          "text": [
            "[[1 2 4]\n",
            " [4 2 1]]\n"
          ]
        }
      ]
    },
    {
      "cell_type": "code",
      "metadata": {
        "id": "EtFwKRQdbWsU",
        "outputId": "9243dbf5-3fef-432f-bd6a-a95ec4695260",
        "colab": {
          "base_uri": "https://localhost:8080/"
        }
      },
      "source": [
        "x.shape"
      ],
      "execution_count": 19,
      "outputs": [
        {
          "output_type": "execute_result",
          "data": {
            "text/plain": [
              "(2, 3)"
            ]
          },
          "metadata": {},
          "execution_count": 19
        }
      ]
    },
    {
      "cell_type": "markdown",
      "metadata": {
        "id": "v6ojTlPywsFW"
      },
      "source": [
        "3D Array"
      ]
    },
    {
      "cell_type": "markdown",
      "source": [
        "tablice trójwymiarowe, np. przechowywanie obrazu"
      ],
      "metadata": {
        "id": "VppH--SBWP2f"
      }
    },
    {
      "cell_type": "markdown",
      "source": [
        "żeby ładniej wyglądało i było bardziej czytelnie"
      ],
      "metadata": {
        "id": "h3iWGJZ-Wdee"
      }
    },
    {
      "cell_type": "code",
      "metadata": {
        "id": "afnINRJ-ba09",
        "outputId": "96ad7d38-a0b9-46ee-b620-a02f046395af",
        "colab": {
          "base_uri": "https://localhost:8080/"
        }
      },
      "source": [
        "x = np.array(\n",
        "    [[[4, 3, 1],\n",
        "      [3, 1, 2]],\n",
        "     \n",
        "     [[4, 1, 3],\n",
        "      [4, 2, 1]],\n",
        "     \n",
        "     [[3, 2, 1],\n",
        "      [4, 3, 2]]]\n",
        ")\n",
        "x"
      ],
      "execution_count": 20,
      "outputs": [
        {
          "output_type": "execute_result",
          "data": {
            "text/plain": [
              "array([[[4, 3, 1],\n",
              "        [3, 1, 2]],\n",
              "\n",
              "       [[4, 1, 3],\n",
              "        [4, 2, 1]],\n",
              "\n",
              "       [[3, 2, 1],\n",
              "        [4, 3, 2]]])"
            ]
          },
          "metadata": {},
          "execution_count": 20
        }
      ]
    },
    {
      "cell_type": "code",
      "metadata": {
        "id": "Q6cbJy-YbuOV",
        "outputId": "f015afff-e900-4ff5-a956-b0c8e2d73e09",
        "colab": {
          "base_uri": "https://localhost:8080/"
        }
      },
      "source": [
        "x.ndim"
      ],
      "execution_count": 21,
      "outputs": [
        {
          "output_type": "execute_result",
          "data": {
            "text/plain": [
              "3"
            ]
          },
          "metadata": {},
          "execution_count": 21
        }
      ]
    },
    {
      "cell_type": "markdown",
      "source": [
        "trzy tablice, dwa wiersze i trzy kolumny"
      ],
      "metadata": {
        "id": "0DAL2nB3WujR"
      }
    },
    {
      "cell_type": "code",
      "metadata": {
        "id": "JSMi4aj3bwCz",
        "outputId": "ff958cae-3a8c-40b8-e103-5f34b4f4895e",
        "colab": {
          "base_uri": "https://localhost:8080/"
        }
      },
      "source": [
        "x.shape"
      ],
      "execution_count": 22,
      "outputs": [
        {
          "output_type": "execute_result",
          "data": {
            "text/plain": [
              "(3, 2, 3)"
            ]
          },
          "metadata": {},
          "execution_count": 22
        }
      ]
    },
    {
      "cell_type": "markdown",
      "metadata": {
        "id": "7e_t9WDPyxwI"
      },
      "source": [
        "### <a name='a2'></a> Typy danych"
      ]
    },
    {
      "cell_type": "code",
      "metadata": {
        "id": "MVgNvIAjc25D",
        "outputId": "22a383a1-4464-4f75-8c73-0c0298d8e264",
        "colab": {
          "base_uri": "https://localhost:8080/"
        }
      },
      "source": [
        "A = np.array([1, 2, 3])\n",
        "A.dtype"
      ],
      "execution_count": 23,
      "outputs": [
        {
          "output_type": "execute_result",
          "data": {
            "text/plain": [
              "dtype('int64')"
            ]
          },
          "metadata": {},
          "execution_count": 23
        }
      ]
    },
    {
      "cell_type": "code",
      "metadata": {
        "id": "B8SuNhsqc9HR",
        "outputId": "11702463-e060-4371-8d27-17b57099ddeb",
        "colab": {
          "base_uri": "https://localhost:8080/"
        }
      },
      "source": [
        "A = np.array([1.0, 2.3, 3.3])\n",
        "A.dtype"
      ],
      "execution_count": 24,
      "outputs": [
        {
          "output_type": "execute_result",
          "data": {
            "text/plain": [
              "dtype('float64')"
            ]
          },
          "metadata": {},
          "execution_count": 24
        }
      ]
    },
    {
      "cell_type": "markdown",
      "source": [
        "ręcznie dodatkowy parametr dtype w konstrukcji tabeli, zeby python nie brał na podstawie tego co widzi tylko to co może się zdażyć"
      ],
      "metadata": {
        "id": "xoQv2He_XOaU"
      }
    },
    {
      "cell_type": "code",
      "metadata": {
        "id": "hWrlSHoQdBro",
        "outputId": "56974b9e-293d-4280-952b-8963a225d738",
        "colab": {
          "base_uri": "https://localhost:8080/"
        }
      },
      "source": [
        "A = np.array([1, 2, 3], dtype='float')\n",
        "A.dtype\n",
        "print(A)"
      ],
      "execution_count": 27,
      "outputs": [
        {
          "output_type": "stream",
          "name": "stdout",
          "text": [
            "[1. 2. 3.]\n"
          ]
        }
      ]
    },
    {
      "cell_type": "code",
      "metadata": {
        "id": "siqWSzt0dK8x",
        "outputId": "af359d1b-c6a5-48cb-85a2-1e88aa876fcb",
        "colab": {
          "base_uri": "https://localhost:8080/"
        }
      },
      "source": [
        "A = np.array([1, 2, 3], dtype='complex')\n",
        "A.dtype"
      ],
      "execution_count": 26,
      "outputs": [
        {
          "output_type": "execute_result",
          "data": {
            "text/plain": [
              "dtype('complex128')"
            ]
          },
          "metadata": {},
          "execution_count": 26
        }
      ]
    },
    {
      "cell_type": "markdown",
      "source": [
        "jeśli zzrobimy floaty a typ nadamy integer, to python obetnie to co po przecinku"
      ],
      "metadata": {
        "id": "VRdxicTNX4Sk"
      }
    },
    {
      "cell_type": "code",
      "metadata": {
        "id": "i59_D14kdRFg",
        "outputId": "7e05fd0d-04c9-40ee-f7da-1b0723bf57d9",
        "colab": {
          "base_uri": "https://localhost:8080/"
        }
      },
      "source": [
        "A = np.array([1.0, 2.7, 3.3], dtype='int')\n",
        "A.dtype"
      ],
      "execution_count": 28,
      "outputs": [
        {
          "output_type": "execute_result",
          "data": {
            "text/plain": [
              "dtype('int64')"
            ]
          },
          "metadata": {},
          "execution_count": 28
        }
      ]
    },
    {
      "cell_type": "code",
      "metadata": {
        "id": "yXJOQ7XvdYwV",
        "outputId": "f12303cb-0e07-4222-d868-e61bba2e46b9",
        "colab": {
          "base_uri": "https://localhost:8080/"
        }
      },
      "source": [
        "A"
      ],
      "execution_count": 29,
      "outputs": [
        {
          "output_type": "execute_result",
          "data": {
            "text/plain": [
              "array([1, 2, 3])"
            ]
          },
          "metadata": {},
          "execution_count": 29
        }
      ]
    },
    {
      "cell_type": "markdown",
      "source": [
        "wartości logiczne"
      ],
      "metadata": {
        "id": "hYEW9PKmmD7W"
      }
    },
    {
      "cell_type": "code",
      "metadata": {
        "id": "7BDEXkhudgZY",
        "outputId": "8a636973-0d75-4f3f-f990-9937636d2b04",
        "colab": {
          "base_uri": "https://localhost:8080/"
        }
      },
      "source": [
        "A = np.array([True, False])\n",
        "A.dtype"
      ],
      "execution_count": 30,
      "outputs": [
        {
          "output_type": "execute_result",
          "data": {
            "text/plain": [
              "dtype('bool')"
            ]
          },
          "metadata": {},
          "execution_count": 30
        }
      ]
    },
    {
      "cell_type": "markdown",
      "source": [
        "wbudowane typy danych \n",
        "np tablica, która ma opisać zdjęcie"
      ],
      "metadata": {
        "id": "OtIpVG10mKEr"
      }
    },
    {
      "cell_type": "code",
      "metadata": {
        "id": "tDvP-Vyjdn2Y",
        "outputId": "aeb99b79-0807-47f8-9aad-3db1247bfca3",
        "colab": {
          "base_uri": "https://localhost:8080/"
        }
      },
      "source": [
        "A = np.array([24, 120, 230], dtype=np.int8)\n",
        "A.dtype"
      ],
      "execution_count": 31,
      "outputs": [
        {
          "output_type": "execute_result",
          "data": {
            "text/plain": [
              "dtype('int8')"
            ]
          },
          "metadata": {},
          "execution_count": 31
        }
      ]
    },
    {
      "cell_type": "markdown",
      "source": [
        "uint8 - od 0 do 255"
      ],
      "metadata": {
        "id": "W25uPaofoLaN"
      }
    },
    {
      "cell_type": "code",
      "metadata": {
        "id": "YTXFNQq_d0NB",
        "outputId": "d403526c-1538-42bb-99e5-86960160576f",
        "colab": {
          "base_uri": "https://localhost:8080/"
        }
      },
      "source": [
        "A = np.array([24, 120, 230], dtype=np.uint8)\n",
        "A.dtype"
      ],
      "execution_count": 32,
      "outputs": [
        {
          "output_type": "execute_result",
          "data": {
            "text/plain": [
              "dtype('uint8')"
            ]
          },
          "metadata": {},
          "execution_count": 32
        }
      ]
    },
    {
      "cell_type": "markdown",
      "metadata": {
        "id": "LJBVmwy0zYUI"
      },
      "source": [
        "### <a name='a3'></a> Tworzenie tablic"
      ]
    },
    {
      "cell_type": "markdown",
      "source": [
        "wbudowane funkcje, które ułatwiają budowanie zaawansowanych tablic\n"
      ],
      "metadata": {
        "id": "ZewdILqopDt3"
      }
    },
    {
      "cell_type": "markdown",
      "source": [
        " zeros - tablica dowolnego rozmiaru z zer"
      ],
      "metadata": {
        "id": "l6wmZd1RpRWe"
      }
    },
    {
      "cell_type": "code",
      "metadata": {
        "id": "zEuE1HaTeO6_",
        "outputId": "7c8902b9-4372-46f8-c1d4-4fca709365e5",
        "colab": {
          "base_uri": "https://localhost:8080/"
        }
      },
      "source": [
        "np.zeros(shape=(4, 10))"
      ],
      "execution_count": 33,
      "outputs": [
        {
          "output_type": "execute_result",
          "data": {
            "text/plain": [
              "array([[0., 0., 0., 0., 0., 0., 0., 0., 0., 0.],\n",
              "       [0., 0., 0., 0., 0., 0., 0., 0., 0., 0.],\n",
              "       [0., 0., 0., 0., 0., 0., 0., 0., 0., 0.],\n",
              "       [0., 0., 0., 0., 0., 0., 0., 0., 0., 0.]])"
            ]
          },
          "metadata": {},
          "execution_count": 33
        }
      ]
    },
    {
      "cell_type": "markdown",
      "source": [
        "domyślnie typ float, można zmienić na int"
      ],
      "metadata": {
        "id": "3oLftXiQpWCr"
      }
    },
    {
      "cell_type": "code",
      "metadata": {
        "id": "sflIdlnHeb9Y",
        "outputId": "889115af-715e-4f8b-9e33-828456f0b635",
        "colab": {
          "base_uri": "https://localhost:8080/"
        }
      },
      "source": [
        "np.zeros(shape=(4, 10), dtype='int')"
      ],
      "execution_count": 34,
      "outputs": [
        {
          "output_type": "execute_result",
          "data": {
            "text/plain": [
              "array([[0, 0, 0, 0, 0, 0, 0, 0, 0, 0],\n",
              "       [0, 0, 0, 0, 0, 0, 0, 0, 0, 0],\n",
              "       [0, 0, 0, 0, 0, 0, 0, 0, 0, 0],\n",
              "       [0, 0, 0, 0, 0, 0, 0, 0, 0, 0]])"
            ]
          },
          "metadata": {},
          "execution_count": 34
        }
      ]
    },
    {
      "cell_type": "markdown",
      "source": [
        "taka funkcja np. do otworzenia masem do zdjęć w computer vision, np. 600 na 800 piksel, która jest czarnym tłem to np.zeros"
      ],
      "metadata": {
        "id": "HiXcoC9Fpc3Q"
      }
    },
    {
      "cell_type": "markdown",
      "source": [
        "a teraz same jedynki"
      ],
      "metadata": {
        "id": "CbMu0McxpvTD"
      }
    },
    {
      "cell_type": "code",
      "metadata": {
        "id": "MwL2aFmMehnj",
        "outputId": "5aae24d8-4889-48dc-951e-2e280b4e40b1",
        "colab": {
          "base_uri": "https://localhost:8080/"
        }
      },
      "source": [
        "np.ones(shape=(5, 5))"
      ],
      "execution_count": 35,
      "outputs": [
        {
          "output_type": "execute_result",
          "data": {
            "text/plain": [
              "array([[1., 1., 1., 1., 1.],\n",
              "       [1., 1., 1., 1., 1.],\n",
              "       [1., 1., 1., 1., 1.],\n",
              "       [1., 1., 1., 1., 1.],\n",
              "       [1., 1., 1., 1., 1.]])"
            ]
          },
          "metadata": {},
          "execution_count": 35
        }
      ]
    },
    {
      "cell_type": "code",
      "metadata": {
        "id": "NZC3pCTgeuK8",
        "outputId": "2c32ef51-c29c-4f86-b922-57be15ae48c4",
        "colab": {
          "base_uri": "https://localhost:8080/"
        }
      },
      "source": [
        "np.ones(shape=(5, 5), dtype='int')"
      ],
      "execution_count": 36,
      "outputs": [
        {
          "output_type": "execute_result",
          "data": {
            "text/plain": [
              "array([[1, 1, 1, 1, 1],\n",
              "       [1, 1, 1, 1, 1],\n",
              "       [1, 1, 1, 1, 1],\n",
              "       [1, 1, 1, 1, 1],\n",
              "       [1, 1, 1, 1, 1]])"
            ]
          },
          "metadata": {},
          "execution_count": 36
        }
      ]
    },
    {
      "cell_type": "markdown",
      "source": [
        "uzupełnienie dowolną wartością"
      ],
      "metadata": {
        "id": "aFBR8vppp5ut"
      }
    },
    {
      "cell_type": "code",
      "metadata": {
        "id": "O9tqbqOieyfo",
        "outputId": "0bbc097c-27d1-4aeb-e282-1106c2195ec3",
        "colab": {
          "base_uri": "https://localhost:8080/"
        }
      },
      "source": [
        "np.full(shape=(3, 3), fill_value=4, dtype='int')"
      ],
      "execution_count": 37,
      "outputs": [
        {
          "output_type": "execute_result",
          "data": {
            "text/plain": [
              "array([[4, 4, 4],\n",
              "       [4, 4, 4],\n",
              "       [4, 4, 4]])"
            ]
          },
          "metadata": {},
          "execution_count": 37
        }
      ]
    },
    {
      "cell_type": "markdown",
      "source": [
        "generowanie danych w tablicy, tworzy się zakres, jeśli nie podamy początku i końca to od zero do n-1"
      ],
      "metadata": {
        "id": "LpTJDx3pqCd4"
      }
    },
    {
      "cell_type": "code",
      "metadata": {
        "id": "tjkYWFPKe9zT",
        "outputId": "52ef91fa-c4f8-4828-f58d-15dbd7e0da02",
        "colab": {
          "base_uri": "https://localhost:8080/"
        }
      },
      "source": [
        "np.arange(10)"
      ],
      "execution_count": 38,
      "outputs": [
        {
          "output_type": "execute_result",
          "data": {
            "text/plain": [
              "array([0, 1, 2, 3, 4, 5, 6, 7, 8, 9])"
            ]
          },
          "metadata": {},
          "execution_count": 38
        }
      ]
    },
    {
      "cell_type": "code",
      "metadata": {
        "id": "i6Xk5WeZfI6l",
        "outputId": "2377ca2f-15ab-4aac-c1bc-01d51dcf46c8",
        "colab": {
          "base_uri": "https://localhost:8080/"
        }
      },
      "source": [
        "np.arange(start=5, stop=10)"
      ],
      "execution_count": 39,
      "outputs": [
        {
          "output_type": "execute_result",
          "data": {
            "text/plain": [
              "array([5, 6, 7, 8, 9])"
            ]
          },
          "metadata": {},
          "execution_count": 39
        }
      ]
    },
    {
      "cell_type": "code",
      "metadata": {
        "id": "OtEt1whpfQTz",
        "outputId": "2bac850f-9866-45a1-a812-e6f876522f00",
        "colab": {
          "base_uri": "https://localhost:8080/"
        }
      },
      "source": [
        "np.arange(start=10, stop=100, step=10)"
      ],
      "execution_count": 43,
      "outputs": [
        {
          "output_type": "execute_result",
          "data": {
            "text/plain": [
              "array([10, 20, 30, 40, 50, 60, 70, 80, 90])"
            ]
          },
          "metadata": {},
          "execution_count": 43
        }
      ]
    },
    {
      "cell_type": "code",
      "metadata": {
        "id": "6wLj_tHKfWTY",
        "outputId": "9cd1d232-ff8a-43a4-e446-6b2c5ba42cab",
        "colab": {
          "base_uri": "https://localhost:8080/"
        }
      },
      "source": [
        "np.arange(start=100, stop=10, step=-10)"
      ],
      "execution_count": 44,
      "outputs": [
        {
          "output_type": "execute_result",
          "data": {
            "text/plain": [
              "array([100,  90,  80,  70,  60,  50,  40,  30,  20])"
            ]
          },
          "metadata": {},
          "execution_count": 44
        }
      ]
    },
    {
      "cell_type": "code",
      "metadata": {
        "id": "RzRRAqjRfdOE",
        "outputId": "665c7655-516c-46a7-c806-25fb5473fd51",
        "colab": {
          "base_uri": "https://localhost:8080/"
        }
      },
      "source": [
        "np.arange(start=0, stop=1, step=0.05)"
      ],
      "execution_count": 45,
      "outputs": [
        {
          "output_type": "execute_result",
          "data": {
            "text/plain": [
              "array([0.  , 0.05, 0.1 , 0.15, 0.2 , 0.25, 0.3 , 0.35, 0.4 , 0.45, 0.5 ,\n",
              "       0.55, 0.6 , 0.65, 0.7 , 0.75, 0.8 , 0.85, 0.9 , 0.95])"
            ]
          },
          "metadata": {},
          "execution_count": 45
        }
      ]
    },
    {
      "cell_type": "markdown",
      "source": [
        "działa podobnie do arange, parametry start, stop i num = liczba ile elementów z tego przedziału, które są równomiernie rozłożone"
      ],
      "metadata": {
        "id": "7v2jAUe4q9qk"
      }
    },
    {
      "cell_type": "code",
      "metadata": {
        "id": "7aLtoDX2fmKG",
        "outputId": "d97f5629-70ff-4b65-9dfb-c93cb28ba810",
        "colab": {
          "base_uri": "https://localhost:8080/"
        }
      },
      "source": [
        "np.linspace(start=0, stop=1, num=11)"
      ],
      "execution_count": 46,
      "outputs": [
        {
          "output_type": "execute_result",
          "data": {
            "text/plain": [
              "array([0. , 0.1, 0.2, 0.3, 0.4, 0.5, 0.6, 0.7, 0.8, 0.9, 1. ])"
            ]
          },
          "metadata": {},
          "execution_count": 46
        }
      ]
    },
    {
      "cell_type": "code",
      "source": [
        "np.linspace(start=0, stop=1, num=10)"
      ],
      "metadata": {
        "id": "d6G9y-yQrNH-",
        "outputId": "8cebd1c8-16ca-4a15-9ac0-6733dde53ca0",
        "colab": {
          "base_uri": "https://localhost:8080/"
        }
      },
      "execution_count": 47,
      "outputs": [
        {
          "output_type": "execute_result",
          "data": {
            "text/plain": [
              "array([0.        , 0.11111111, 0.22222222, 0.33333333, 0.44444444,\n",
              "       0.55555556, 0.66666667, 0.77777778, 0.88888889, 1.        ])"
            ]
          },
          "metadata": {},
          "execution_count": 47
        }
      ]
    },
    {
      "cell_type": "markdown",
      "source": [
        "zmeinianie kształtu danych"
      ],
      "metadata": {
        "id": "vQVX61F4rRl4"
      }
    },
    {
      "cell_type": "code",
      "metadata": {
        "id": "E5J8GDVafyCp",
        "outputId": "e0e3c796-5301-4f3f-9712-a41cb9addf1b",
        "colab": {
          "base_uri": "https://localhost:8080/"
        }
      },
      "source": [
        "A = np.arange(15)\n",
        "A"
      ],
      "execution_count": 48,
      "outputs": [
        {
          "output_type": "execute_result",
          "data": {
            "text/plain": [
              "array([ 0,  1,  2,  3,  4,  5,  6,  7,  8,  9, 10, 11, 12, 13, 14])"
            ]
          },
          "metadata": {},
          "execution_count": 48
        }
      ]
    },
    {
      "cell_type": "code",
      "metadata": {
        "id": "1A6Ce-TKf3fB",
        "outputId": "2e180ae9-6862-4c5a-a5e9-1d8b0ec423c2",
        "colab": {
          "base_uri": "https://localhost:8080/"
        }
      },
      "source": [
        "A.reshape((3, 5))"
      ],
      "execution_count": 49,
      "outputs": [
        {
          "output_type": "execute_result",
          "data": {
            "text/plain": [
              "array([[ 0,  1,  2,  3,  4],\n",
              "       [ 5,  6,  7,  8,  9],\n",
              "       [10, 11, 12, 13, 14]])"
            ]
          },
          "metadata": {},
          "execution_count": 49
        }
      ]
    },
    {
      "cell_type": "markdown",
      "source": [
        "automatyczne wykrywanie drugiego parametru: liczby kolumn"
      ],
      "metadata": {
        "id": "5kKHvSrFreoQ"
      }
    },
    {
      "cell_type": "code",
      "metadata": {
        "id": "tB3-dSyMgBoO",
        "outputId": "2219270f-10a0-476c-bd78-64c619af32f8",
        "colab": {
          "base_uri": "https://localhost:8080/"
        }
      },
      "source": [
        "A.reshape((3, -1))"
      ],
      "execution_count": 50,
      "outputs": [
        {
          "output_type": "execute_result",
          "data": {
            "text/plain": [
              "array([[ 0,  1,  2,  3,  4],\n",
              "       [ 5,  6,  7,  8,  9],\n",
              "       [10, 11, 12, 13, 14]])"
            ]
          },
          "metadata": {},
          "execution_count": 50
        }
      ]
    },
    {
      "cell_type": "markdown",
      "source": [
        "analogicznie automatyczna liczba wierszy"
      ],
      "metadata": {
        "id": "_EeO9lxhrpsQ"
      }
    },
    {
      "cell_type": "code",
      "metadata": {
        "id": "EQHJAdRIgJE7",
        "outputId": "b84843ac-05e9-43b5-e3a5-0d581664146a",
        "colab": {
          "base_uri": "https://localhost:8080/"
        }
      },
      "source": [
        "A.reshape((-1, 3))"
      ],
      "execution_count": 51,
      "outputs": [
        {
          "output_type": "execute_result",
          "data": {
            "text/plain": [
              "array([[ 0,  1,  2],\n",
              "       [ 3,  4,  5],\n",
              "       [ 6,  7,  8],\n",
              "       [ 9, 10, 11],\n",
              "       [12, 13, 14]])"
            ]
          },
          "metadata": {},
          "execution_count": 51
        }
      ]
    },
    {
      "cell_type": "markdown",
      "metadata": {
        "id": "EyXM5Qfi5gfR"
      },
      "source": [
        "### <a name='a4'></a> Podstawowe operacje na tablicach"
      ]
    },
    {
      "cell_type": "code",
      "metadata": {
        "id": "K95rVbtvpGMG",
        "outputId": "fc3fdb91-ec67-45a4-ea43-3cdcd6c51e62",
        "colab": {
          "base_uri": "https://localhost:8080/"
        }
      },
      "source": [
        "A = np.array([3, 1, 4, 2])\n",
        "B = np.array([3, -1, 3, 2])\n",
        "print(A)\n",
        "print(B)"
      ],
      "execution_count": 59,
      "outputs": [
        {
          "output_type": "stream",
          "name": "stdout",
          "text": [
            "[3 1 4 2]\n",
            "[ 3 -1  3  2]\n"
          ]
        }
      ]
    },
    {
      "cell_type": "markdown",
      "source": [
        "operacje są wykonywane po elementach"
      ],
      "metadata": {
        "id": "mhu8_k3dsGkG"
      }
    },
    {
      "cell_type": "code",
      "metadata": {
        "id": "bYFJjd6vpQHL",
        "outputId": "784b4292-d118-4da1-caa7-df2bd9e30904",
        "colab": {
          "base_uri": "https://localhost:8080/"
        }
      },
      "source": [
        "A + B"
      ],
      "execution_count": 53,
      "outputs": [
        {
          "output_type": "execute_result",
          "data": {
            "text/plain": [
              "array([6, 0, 7, 4])"
            ]
          },
          "metadata": {},
          "execution_count": 53
        }
      ]
    },
    {
      "cell_type": "code",
      "metadata": {
        "id": "Z5_EnHIwpX-J",
        "outputId": "ff38a666-3eb9-4608-8dc4-90db49e8a0be",
        "colab": {
          "base_uri": "https://localhost:8080/"
        }
      },
      "source": [
        "A - B"
      ],
      "execution_count": 54,
      "outputs": [
        {
          "output_type": "execute_result",
          "data": {
            "text/plain": [
              "array([0, 2, 1, 0])"
            ]
          },
          "metadata": {},
          "execution_count": 54
        }
      ]
    },
    {
      "cell_type": "code",
      "metadata": {
        "id": "rsnfzhUKpZ4X",
        "outputId": "3953add3-118b-489d-f59a-eeeb73b34b9a",
        "colab": {
          "base_uri": "https://localhost:8080/"
        }
      },
      "source": [
        "A * B"
      ],
      "execution_count": 55,
      "outputs": [
        {
          "output_type": "execute_result",
          "data": {
            "text/plain": [
              "array([ 9, -1, 12,  4])"
            ]
          },
          "metadata": {},
          "execution_count": 55
        }
      ]
    },
    {
      "cell_type": "markdown",
      "source": [
        "w tablicy, przez którą dzielimy nie może być zera, wyrzuca bład"
      ],
      "metadata": {
        "id": "8hFX-F9WsUOI"
      }
    },
    {
      "cell_type": "code",
      "metadata": {
        "id": "0oJLApSVpdt-",
        "outputId": "64faa68f-cf8f-402b-9b10-01da75dd1574",
        "colab": {
          "base_uri": "https://localhost:8080/"
        }
      },
      "source": [
        "A / B"
      ],
      "execution_count": 60,
      "outputs": [
        {
          "output_type": "execute_result",
          "data": {
            "text/plain": [
              "array([ 1.        , -1.        ,  1.33333333,  1.        ])"
            ]
          },
          "metadata": {},
          "execution_count": 60
        }
      ]
    },
    {
      "cell_type": "markdown",
      "source": [
        "dodawanie do tabeli stałej, mnozenie przez stałą, itp"
      ],
      "metadata": {
        "id": "ciDX3JiDsgAr"
      }
    },
    {
      "cell_type": "code",
      "source": [
        "A + 3"
      ],
      "metadata": {
        "id": "eWcZMzTmsta_",
        "outputId": "07e89ac7-33f4-4fe5-b68c-c9a929019627",
        "colab": {
          "base_uri": "https://localhost:8080/"
        }
      },
      "execution_count": 62,
      "outputs": [
        {
          "output_type": "execute_result",
          "data": {
            "text/plain": [
              "array([6, 4, 7, 5])"
            ]
          },
          "metadata": {},
          "execution_count": 62
        }
      ]
    },
    {
      "cell_type": "code",
      "source": [
        "2 * A"
      ],
      "metadata": {
        "id": "SEJTHKr2sxRI",
        "outputId": "4614977f-a966-4423-d712-76ca545d0f7e",
        "colab": {
          "base_uri": "https://localhost:8080/"
        }
      },
      "execution_count": 63,
      "outputs": [
        {
          "output_type": "execute_result",
          "data": {
            "text/plain": [
              "array([6, 2, 8, 4])"
            ]
          },
          "metadata": {},
          "execution_count": 63
        }
      ]
    },
    {
      "cell_type": "markdown",
      "source": [
        "do tego są też metody, zwłaszcza do pierwszej części"
      ],
      "metadata": {
        "id": "ZD6-dx9qs5kU"
      }
    },
    {
      "cell_type": "code",
      "metadata": {
        "id": "EIDUP8Jbp1zy",
        "outputId": "495b9650-e0cc-40d9-ac94-3c6399d5442c",
        "colab": {
          "base_uri": "https://localhost:8080/"
        }
      },
      "source": [
        "np.add(A, B)"
      ],
      "execution_count": 61,
      "outputs": [
        {
          "output_type": "execute_result",
          "data": {
            "text/plain": [
              "array([6, 0, 7, 4])"
            ]
          },
          "metadata": {},
          "execution_count": 61
        }
      ]
    },
    {
      "cell_type": "code",
      "metadata": {
        "id": "J71l8WJsp4kI",
        "outputId": "1da3cf5a-7efe-4412-f61b-b73fa9f48bea",
        "colab": {
          "base_uri": "https://localhost:8080/"
        }
      },
      "source": [
        "np.subtract(A, B)"
      ],
      "execution_count": 64,
      "outputs": [
        {
          "output_type": "execute_result",
          "data": {
            "text/plain": [
              "array([0, 2, 1, 0])"
            ]
          },
          "metadata": {},
          "execution_count": 64
        }
      ]
    },
    {
      "cell_type": "code",
      "metadata": {
        "id": "QVpq3hgOp64O",
        "outputId": "a6c37005-79e4-4cfb-dc94-5af576fe121e",
        "colab": {
          "base_uri": "https://localhost:8080/"
        }
      },
      "source": [
        "np.multiply(A, B)"
      ],
      "execution_count": 65,
      "outputs": [
        {
          "output_type": "execute_result",
          "data": {
            "text/plain": [
              "array([ 9, -1, 12,  4])"
            ]
          },
          "metadata": {},
          "execution_count": 65
        }
      ]
    },
    {
      "cell_type": "code",
      "metadata": {
        "id": "PI_WB05Op-Ur",
        "outputId": "04e3ca0b-c41d-4fdd-a745-556b33cd1d18",
        "colab": {
          "base_uri": "https://localhost:8080/"
        }
      },
      "source": [
        "np.divide(A, B)"
      ],
      "execution_count": 66,
      "outputs": [
        {
          "output_type": "execute_result",
          "data": {
            "text/plain": [
              "array([ 1.        , -1.        ,  1.33333333,  1.        ])"
            ]
          },
          "metadata": {},
          "execution_count": 66
        }
      ]
    },
    {
      "cell_type": "markdown",
      "source": [
        "i wracamy do stałych"
      ],
      "metadata": {
        "id": "dyacz0I9dydH"
      }
    },
    {
      "cell_type": "code",
      "metadata": {
        "id": "Z46Mb0pipvc6",
        "outputId": "5e36859c-7801-4318-fc01-836de2a5f372",
        "colab": {
          "base_uri": "https://localhost:8080/",
          "height": 35
        }
      },
      "source": [
        "A + 3*B"
      ],
      "execution_count": null,
      "outputs": [
        {
          "output_type": "execute_result",
          "data": {
            "text/plain": [
              "array([12, -2, 13,  8])"
            ]
          },
          "metadata": {
            "tags": []
          },
          "execution_count": 67
        }
      ]
    },
    {
      "cell_type": "markdown",
      "source": [
        "mnożenie macierzowe"
      ],
      "metadata": {
        "id": "4gs6FtoVd_qN"
      }
    },
    {
      "cell_type": "markdown",
      "source": [
        "na początek macierze kwadrtowe 2x2"
      ],
      "metadata": {
        "id": "5A1DGZX_eYnq"
      }
    },
    {
      "cell_type": "code",
      "metadata": {
        "id": "-56cLPk2pynF",
        "outputId": "539205cd-fe7e-4909-9ce4-06f9d53ac4c6",
        "colab": {
          "base_uri": "https://localhost:8080/"
        }
      },
      "source": [
        "X = np.array([[1, 3], [-2, 0]])\n",
        "Y = np.array([[6, 0], [-1, 2]])\n",
        "print(X, '\\n')\n",
        "print(Y)"
      ],
      "execution_count": 4,
      "outputs": [
        {
          "output_type": "stream",
          "name": "stdout",
          "text": [
            "[[ 1  3]\n",
            " [-2  0]] \n",
            "\n",
            "[[ 6  0]\n",
            " [-1  2]]\n"
          ]
        }
      ]
    },
    {
      "cell_type": "markdown",
      "source": [
        "jak działa mnozenie proste - mnożenie po elemencie"
      ],
      "metadata": {
        "id": "r2fcAQ4GeloF"
      }
    },
    {
      "cell_type": "code",
      "metadata": {
        "id": "OkdZ1E3wqXkz",
        "outputId": "2ffe31be-dbcd-4dd5-d14d-7f5735c76c72",
        "colab": {
          "base_uri": "https://localhost:8080/"
        }
      },
      "source": [
        "X * Y"
      ],
      "execution_count": 5,
      "outputs": [
        {
          "output_type": "execute_result",
          "data": {
            "text/plain": [
              "array([[6, 0],\n",
              "       [2, 0]])"
            ]
          },
          "metadata": {},
          "execution_count": 5
        }
      ]
    },
    {
      "cell_type": "markdown",
      "source": [
        "a teraz mnozenie macierzowe"
      ],
      "metadata": {
        "id": "XKlLCg7nfGcD"
      }
    },
    {
      "cell_type": "code",
      "metadata": {
        "id": "yYxx6HZgqjqk",
        "outputId": "12278df4-bc3e-4ecb-b482-0ce4f393944a",
        "colab": {
          "base_uri": "https://localhost:8080/"
        }
      },
      "source": [
        "np.dot(X, Y)"
      ],
      "execution_count": 6,
      "outputs": [
        {
          "output_type": "execute_result",
          "data": {
            "text/plain": [
              "array([[  3,   6],\n",
              "       [-12,   0]])"
            ]
          },
          "metadata": {},
          "execution_count": 6
        }
      ]
    },
    {
      "cell_type": "markdown",
      "source": [
        "inny sposób zapisu, mnożenie macierzy nie jest przemienne"
      ],
      "metadata": {
        "id": "0m5DAi6zfURL"
      }
    },
    {
      "cell_type": "code",
      "metadata": {
        "id": "LRxTNcTAqv1O",
        "outputId": "8f3df382-0558-4f35-f735-f97d8d2c76f8",
        "colab": {
          "base_uri": "https://localhost:8080/"
        }
      },
      "source": [
        "X.dot(Y)"
      ],
      "execution_count": 7,
      "outputs": [
        {
          "output_type": "execute_result",
          "data": {
            "text/plain": [
              "array([[  3,   6],\n",
              "       [-12,   0]])"
            ]
          },
          "metadata": {},
          "execution_count": 7
        }
      ]
    },
    {
      "cell_type": "code",
      "metadata": {
        "id": "YvTf40EsqzEp",
        "outputId": "df43debf-8b6e-48cf-9425-33cc864e603f",
        "colab": {
          "base_uri": "https://localhost:8080/"
        }
      },
      "source": [
        "Y.dot(X)"
      ],
      "execution_count": 8,
      "outputs": [
        {
          "output_type": "execute_result",
          "data": {
            "text/plain": [
              "array([[ 6, 18],\n",
              "       [-5, -3]])"
            ]
          },
          "metadata": {},
          "execution_count": 8
        }
      ]
    },
    {
      "cell_type": "markdown",
      "source": [
        "trzeci sposób zapisu"
      ],
      "metadata": {
        "id": "g34PKoDEfiiu"
      }
    },
    {
      "cell_type": "code",
      "metadata": {
        "id": "ZrOG-Mfiq2Vn",
        "outputId": "f24dcc1e-ba7f-4fb4-990a-3684bf30f745",
        "colab": {
          "base_uri": "https://localhost:8080/"
        }
      },
      "source": [
        "X @ Y"
      ],
      "execution_count": 9,
      "outputs": [
        {
          "output_type": "execute_result",
          "data": {
            "text/plain": [
              "array([[  3,   6],\n",
              "       [-12,   0]])"
            ]
          },
          "metadata": {},
          "execution_count": 9
        }
      ]
    },
    {
      "cell_type": "markdown",
      "metadata": {
        "id": "lJEtsLBt8VTS"
      },
      "source": [
        "### <a name='a5'></a>  Generowanie liczb pseudolosowych"
      ]
    },
    {
      "cell_type": "markdown",
      "source": [
        "ziarno losowania, zeby za każdym razem mieć ten sm wynik"
      ],
      "metadata": {
        "id": "unoczcpNkBuX"
      }
    },
    {
      "cell_type": "code",
      "metadata": {
        "id": "RNe18NQvsgAX"
      },
      "source": [
        "np.random.seed(0)"
      ],
      "execution_count": 10,
      "outputs": []
    },
    {
      "cell_type": "markdown",
      "source": [
        "losowe z rozkładu normalnego"
      ],
      "metadata": {
        "id": "oLoZMIAIkMz0"
      }
    },
    {
      "cell_type": "code",
      "metadata": {
        "id": "Jj0FPV3FsoId",
        "outputId": "1e68ce1f-546c-4aa6-a899-41d01ea2d47a",
        "colab": {
          "base_uri": "https://localhost:8080/"
        }
      },
      "source": [
        "np.random.randn()"
      ],
      "execution_count": 11,
      "outputs": [
        {
          "output_type": "execute_result",
          "data": {
            "text/plain": [
              "1.764052345967664"
            ]
          },
          "metadata": {},
          "execution_count": 11
        }
      ]
    },
    {
      "cell_type": "markdown",
      "source": [
        "parametr - ilość losowych elementów, tablica z jednym wierszem"
      ],
      "metadata": {
        "id": "_z_nc72IkQ7p"
      }
    },
    {
      "cell_type": "code",
      "metadata": {
        "id": "TT49RSTuswVs",
        "outputId": "3a4e266a-5f73-4c35-c499-47f99cf02542",
        "colab": {
          "base_uri": "https://localhost:8080/"
        }
      },
      "source": [
        "np.random.randn(10)"
      ],
      "execution_count": 12,
      "outputs": [
        {
          "output_type": "execute_result",
          "data": {
            "text/plain": [
              "array([ 0.40015721,  0.97873798,  2.2408932 ,  1.86755799, -0.97727788,\n",
              "        0.95008842, -0.15135721, -0.10321885,  0.4105985 ,  0.14404357])"
            ]
          },
          "metadata": {},
          "execution_count": 12
        }
      ]
    },
    {
      "cell_type": "markdown",
      "source": [
        "teraz 40 elementów w 10 wierszach i 4 kolumnach, np do histogramów rozkładu normalnego; wtedy pierwszy parametr można utożsamiać z liczbą próbek, a drugi z liczbą zmiennych"
      ],
      "metadata": {
        "id": "5CJmf1GSkbBM"
      }
    },
    {
      "cell_type": "code",
      "metadata": {
        "id": "vfe9lZ2gs1Zy",
        "outputId": "f6ad87e5-4446-4e19-ef16-e35d1061b12d",
        "colab": {
          "base_uri": "https://localhost:8080/"
        }
      },
      "source": [
        "np.random.randn(10, 4)"
      ],
      "execution_count": 13,
      "outputs": [
        {
          "output_type": "execute_result",
          "data": {
            "text/plain": [
              "array([[ 1.45427351,  0.76103773,  0.12167502,  0.44386323],\n",
              "       [ 0.33367433,  1.49407907, -0.20515826,  0.3130677 ],\n",
              "       [-0.85409574, -2.55298982,  0.6536186 ,  0.8644362 ],\n",
              "       [-0.74216502,  2.26975462, -1.45436567,  0.04575852],\n",
              "       [-0.18718385,  1.53277921,  1.46935877,  0.15494743],\n",
              "       [ 0.37816252, -0.88778575, -1.98079647, -0.34791215],\n",
              "       [ 0.15634897,  1.23029068,  1.20237985, -0.38732682],\n",
              "       [-0.30230275, -1.04855297, -1.42001794, -1.70627019],\n",
              "       [ 1.9507754 , -0.50965218, -0.4380743 , -1.25279536],\n",
              "       [ 0.77749036, -1.61389785, -0.21274028, -0.89546656]])"
            ]
          },
          "metadata": {},
          "execution_count": 13
        }
      ]
    },
    {
      "cell_type": "markdown",
      "source": [
        "rozkład jednostajny na przedziale [0, 1)"
      ],
      "metadata": {
        "id": "Tu1QVtqsk-rP"
      }
    },
    {
      "cell_type": "code",
      "metadata": {
        "id": "uwXIejqEtAII",
        "outputId": "cd5f8f18-1a0b-4871-a204-ba8d743deb57",
        "colab": {
          "base_uri": "https://localhost:8080/"
        }
      },
      "source": [
        "np.random.rand()"
      ],
      "execution_count": 14,
      "outputs": [
        {
          "output_type": "execute_result",
          "data": {
            "text/plain": [
              "0.1965823616800535"
            ]
          },
          "metadata": {},
          "execution_count": 14
        }
      ]
    },
    {
      "cell_type": "code",
      "metadata": {
        "id": "tt_585MMtF4G",
        "outputId": "2d4cad14-51ae-44c8-bdd1-aed2f0b5a1ca",
        "colab": {
          "base_uri": "https://localhost:8080/"
        }
      },
      "source": [
        "np.random.rand(10)"
      ],
      "execution_count": 15,
      "outputs": [
        {
          "output_type": "execute_result",
          "data": {
            "text/plain": [
              "array([0.36872517, 0.82099323, 0.09710128, 0.83794491, 0.09609841,\n",
              "       0.97645947, 0.4686512 , 0.97676109, 0.60484552, 0.73926358])"
            ]
          },
          "metadata": {},
          "execution_count": 15
        }
      ]
    },
    {
      "cell_type": "code",
      "metadata": {
        "id": "Fu70LlibtHme",
        "outputId": "75da62de-91ed-4d3a-c78e-b0359d3bd78a",
        "colab": {
          "base_uri": "https://localhost:8080/"
        }
      },
      "source": [
        "np.random.rand(10, 2)"
      ],
      "execution_count": 16,
      "outputs": [
        {
          "output_type": "execute_result",
          "data": {
            "text/plain": [
              "array([[0.03918779, 0.28280696],\n",
              "       [0.12019656, 0.2961402 ],\n",
              "       [0.11872772, 0.31798318],\n",
              "       [0.41426299, 0.0641475 ],\n",
              "       [0.69247212, 0.56660145],\n",
              "       [0.26538949, 0.52324805],\n",
              "       [0.09394051, 0.5759465 ],\n",
              "       [0.9292962 , 0.31856895],\n",
              "       [0.66741038, 0.13179786],\n",
              "       [0.7163272 , 0.28940609]])"
            ]
          },
          "metadata": {},
          "execution_count": 16
        }
      ]
    },
    {
      "cell_type": "markdown",
      "source": [
        "określamy w niej parametr, losuje liczbę całkowitą z przedziału 0 - parmetr"
      ],
      "metadata": {
        "id": "VZl5aHuFlKah"
      }
    },
    {
      "cell_type": "code",
      "metadata": {
        "id": "rI7_KQXQtLHJ",
        "outputId": "64c1e704-7933-46b9-b04b-91b7a00d7678",
        "colab": {
          "base_uri": "https://localhost:8080/"
        }
      },
      "source": [
        "np.random.randint(10)"
      ],
      "execution_count": 21,
      "outputs": [
        {
          "output_type": "execute_result",
          "data": {
            "text/plain": [
              "8"
            ]
          },
          "metadata": {},
          "execution_count": 21
        }
      ]
    },
    {
      "cell_type": "markdown",
      "source": [
        "można podać parametry startowy i końcowy"
      ],
      "metadata": {
        "id": "vzKfwdRClgC4"
      }
    },
    {
      "cell_type": "code",
      "metadata": {
        "id": "ddLkf7LYtSiD",
        "outputId": "c377afea-5a92-4f2e-f79e-237fb37acf72",
        "colab": {
          "base_uri": "https://localhost:8080/"
        }
      },
      "source": [
        "np.random.randint(low=10, high=101)"
      ],
      "execution_count": 20,
      "outputs": [
        {
          "output_type": "execute_result",
          "data": {
            "text/plain": [
              "70"
            ]
          },
          "metadata": {},
          "execution_count": 20
        }
      ]
    },
    {
      "cell_type": "markdown",
      "source": [
        "i dookreślić ilość"
      ],
      "metadata": {
        "id": "TxlHTHiClqKT"
      }
    },
    {
      "cell_type": "code",
      "metadata": {
        "id": "cQAjDJ6ktY1B",
        "outputId": "bb7a21c9-7ec9-4dd1-e376-fbbf646ca50e",
        "colab": {
          "base_uri": "https://localhost:8080/"
        }
      },
      "source": [
        "np.random.randint(low=10, high=101, size=10)"
      ],
      "execution_count": 22,
      "outputs": [
        {
          "output_type": "execute_result",
          "data": {
            "text/plain": [
              "array([87, 40, 34, 12, 13, 23, 50, 82, 29, 82])"
            ]
          },
          "metadata": {},
          "execution_count": 22
        }
      ]
    },
    {
      "cell_type": "markdown",
      "source": [
        "losowy element z podanego zbioru iterowalnego"
      ],
      "metadata": {
        "id": "UTPtmwQyltLh"
      }
    },
    {
      "cell_type": "code",
      "metadata": {
        "id": "lDhuLIMJteqR",
        "outputId": "ae1d3941-613c-4c3c-974a-03dcc0a083d7",
        "colab": {
          "base_uri": "https://localhost:8080/"
        }
      },
      "source": [
        "np.random.choice([4, 2, 1, 3, 5])"
      ],
      "execution_count": 23,
      "outputs": [
        {
          "output_type": "execute_result",
          "data": {
            "text/plain": [
              "1"
            ]
          },
          "metadata": {},
          "execution_count": 23
        }
      ]
    },
    {
      "cell_type": "code",
      "metadata": {
        "id": "Zo97o5e5toIk",
        "outputId": "fffac755-265e-4b16-ef4c-432f32633cbb",
        "colab": {
          "base_uri": "https://localhost:8080/",
          "height": 35
        }
      },
      "source": [
        "np.random.choice(['python', 'java', 'sql'])"
      ],
      "execution_count": 24,
      "outputs": [
        {
          "output_type": "execute_result",
          "data": {
            "text/plain": [
              "'sql'"
            ],
            "application/vnd.google.colaboratory.intrinsic+json": {
              "type": "string"
            }
          },
          "metadata": {},
          "execution_count": 24
        }
      ]
    },
    {
      "cell_type": "markdown",
      "source": [
        "generujemy tablicę, można ją przetasować i to zmienia postać danych, już tablica wyglda na zawsze inaczej"
      ],
      "metadata": {
        "id": "J0n8ItPll-ps"
      }
    },
    {
      "cell_type": "code",
      "metadata": {
        "id": "V_7pdPoStv51",
        "outputId": "6b88213d-430d-43f0-9fa3-d2c6509ea089",
        "colab": {
          "base_uri": "https://localhost:8080/"
        }
      },
      "source": [
        "data = np.arange(10)\n",
        "data"
      ],
      "execution_count": 25,
      "outputs": [
        {
          "output_type": "execute_result",
          "data": {
            "text/plain": [
              "array([0, 1, 2, 3, 4, 5, 6, 7, 8, 9])"
            ]
          },
          "metadata": {},
          "execution_count": 25
        }
      ]
    },
    {
      "cell_type": "code",
      "metadata": {
        "id": "uGhf7jkHt1HT"
      },
      "source": [
        "np.random.shuffle(data)"
      ],
      "execution_count": 26,
      "outputs": []
    },
    {
      "cell_type": "code",
      "metadata": {
        "id": "7dtnQW5ut7Wk",
        "outputId": "9f1358c9-b261-49cc-85c8-02aa2c16fb8b",
        "colab": {
          "base_uri": "https://localhost:8080/"
        }
      },
      "source": [
        "data"
      ],
      "execution_count": 27,
      "outputs": [
        {
          "output_type": "execute_result",
          "data": {
            "text/plain": [
              "array([7, 2, 1, 6, 0, 5, 9, 3, 4, 8])"
            ]
          },
          "metadata": {},
          "execution_count": 27
        }
      ]
    },
    {
      "cell_type": "markdown",
      "metadata": {
        "id": "p-kIfyzu-vaD"
      },
      "source": [
        "### <a name='a6'></a> Podstawowe funkcje"
      ]
    },
    {
      "cell_type": "markdown",
      "source": [
        "czego nie trzeba już importować z innych bibliotek"
      ],
      "metadata": {
        "id": "LBzG47q1m_aB"
      }
    },
    {
      "cell_type": "markdown",
      "source": [
        "eksponenta dla parametru 1 to stał Eulera"
      ],
      "metadata": {
        "id": "9mLsD_8CnKHH"
      }
    },
    {
      "cell_type": "code",
      "metadata": {
        "id": "woTpWmBOvAlx",
        "outputId": "200ea603-7d62-4341-9a27-2d90dfcdab19",
        "colab": {
          "base_uri": "https://localhost:8080/"
        }
      },
      "source": [
        "np.exp(1)"
      ],
      "execution_count": 28,
      "outputs": [
        {
          "output_type": "execute_result",
          "data": {
            "text/plain": [
              "2.718281828459045"
            ]
          },
          "metadata": {},
          "execution_count": 28
        }
      ]
    },
    {
      "cell_type": "code",
      "source": [
        "np.exp(4)"
      ],
      "metadata": {
        "id": "-XisqZodnGe2",
        "outputId": "2eefcd8e-f475-4256-b736-2225cc8385a8",
        "colab": {
          "base_uri": "https://localhost:8080/"
        }
      },
      "execution_count": 29,
      "outputs": [
        {
          "output_type": "execute_result",
          "data": {
            "text/plain": [
              "54.598150033144236"
            ]
          },
          "metadata": {},
          "execution_count": 29
        }
      ]
    },
    {
      "cell_type": "markdown",
      "source": [
        "pierwiastek kwadratowy"
      ],
      "metadata": {
        "id": "abU7Wy6EnTGU"
      }
    },
    {
      "cell_type": "code",
      "metadata": {
        "id": "QZyUMWJpvE4a",
        "outputId": "2e1fc215-b385-4e49-e17a-f258b075b700",
        "colab": {
          "base_uri": "https://localhost:8080/"
        }
      },
      "source": [
        "np.sqrt(9)"
      ],
      "execution_count": 30,
      "outputs": [
        {
          "output_type": "execute_result",
          "data": {
            "text/plain": [
              "3.0"
            ]
          },
          "metadata": {},
          "execution_count": 30
        }
      ]
    },
    {
      "cell_type": "markdown",
      "source": [
        "przechodzi po obiekcie iterowalnym i sprawdza czy true czy falce, jeśliktórakolwiek to false to zwróci false, w p.p. zwraca true"
      ],
      "metadata": {
        "id": "hIbQpr14nW8R"
      }
    },
    {
      "cell_type": "code",
      "metadata": {
        "id": "uIznDYvLvMUD",
        "outputId": "544d5e46-5a90-47b3-879f-55421f6ac4fa",
        "colab": {
          "base_uri": "https://localhost:8080/"
        }
      },
      "source": [
        "np.all([2, 3, 1, 0])"
      ],
      "execution_count": 32,
      "outputs": [
        {
          "output_type": "execute_result",
          "data": {
            "text/plain": [
              "False"
            ]
          },
          "metadata": {},
          "execution_count": 32
        }
      ]
    },
    {
      "cell_type": "markdown",
      "source": [
        "zwrac prawdę, jeśli przynajmniej jedna prawda"
      ],
      "metadata": {
        "id": "0XLjJpFEnlYY"
      }
    },
    {
      "cell_type": "code",
      "metadata": {
        "id": "g6HbZViyvZc3",
        "outputId": "5c0fc437-9bdc-4262-ec5c-fe981bfcdcb0",
        "colab": {
          "base_uri": "https://localhost:8080/"
        }
      },
      "source": [
        "np.any([0, 1, 0])"
      ],
      "execution_count": 33,
      "outputs": [
        {
          "output_type": "execute_result",
          "data": {
            "text/plain": [
              "True"
            ]
          },
          "metadata": {},
          "execution_count": 33
        }
      ]
    },
    {
      "cell_type": "code",
      "metadata": {
        "id": "VnsPajVZvkUN",
        "outputId": "1ee9f1d8-c9fe-4a2c-9242-def07d0ef28d",
        "colab": {
          "base_uri": "https://localhost:8080/"
        }
      },
      "source": [
        "bool(1.3)"
      ],
      "execution_count": 34,
      "outputs": [
        {
          "output_type": "execute_result",
          "data": {
            "text/plain": [
              "True"
            ]
          },
          "metadata": {},
          "execution_count": 34
        }
      ]
    },
    {
      "cell_type": "markdown",
      "source": [
        "tworzymy mały obiekt na którym będziemy walczyć"
      ],
      "metadata": {
        "id": "la5YX6Lyn60E"
      }
    },
    {
      "cell_type": "markdown",
      "source": [
        "przykład: mamy 5 klas i model zwraca p-stwo, że próbka należy do danej klasy"
      ],
      "metadata": {
        "id": "Vj-ob88XoFxU"
      }
    },
    {
      "cell_type": "code",
      "metadata": {
        "id": "fivP8kXCvqJu",
        "outputId": "f467ae12-989c-4689-c3dd-f8131d16c1da",
        "colab": {
          "base_uri": "https://localhost:8080/"
        }
      },
      "source": [
        "A = np.random.rand(5)\n",
        "A"
      ],
      "execution_count": 37,
      "outputs": [
        {
          "output_type": "execute_result",
          "data": {
            "text/plain": [
              "array([0.88173536, 0.69253159, 0.72525428, 0.50132438, 0.95608363])"
            ]
          },
          "metadata": {},
          "execution_count": 37
        }
      ]
    },
    {
      "cell_type": "markdown",
      "source": [
        "indeks, gdzie tablica osiąga wartość największą,pmietamy, że pierwszy indeks = 0"
      ],
      "metadata": {
        "id": "RgZc76LOoQ1K"
      }
    },
    {
      "cell_type": "code",
      "metadata": {
        "id": "43jhuo1uv1Bk",
        "outputId": "4dc9af15-d4a2-46e2-d0fd-56949257a576",
        "colab": {
          "base_uri": "https://localhost:8080/"
        }
      },
      "source": [
        "np.argmax(A)"
      ],
      "execution_count": 38,
      "outputs": [
        {
          "output_type": "execute_result",
          "data": {
            "text/plain": [
              "4"
            ]
          },
          "metadata": {},
          "execution_count": 38
        }
      ]
    },
    {
      "cell_type": "markdown",
      "source": [
        "wycinamy tę najwyższą wartość"
      ],
      "metadata": {
        "id": "mMun8o1qolbi"
      }
    },
    {
      "cell_type": "code",
      "metadata": {
        "id": "beN7srqwv_P0",
        "outputId": "177f51a5-871d-42f9-aa00-c1d0cc00049c",
        "colab": {
          "base_uri": "https://localhost:8080/"
        }
      },
      "source": [
        "A[np.argmax(A)]"
      ],
      "execution_count": 39,
      "outputs": [
        {
          "output_type": "execute_result",
          "data": {
            "text/plain": [
              "0.9560836347232239"
            ]
          },
          "metadata": {},
          "execution_count": 39
        }
      ]
    },
    {
      "cell_type": "markdown",
      "source": [
        "analogicznie dla minimum"
      ],
      "metadata": {
        "id": "pwfSUn04oqGU"
      }
    },
    {
      "cell_type": "code",
      "metadata": {
        "id": "qvSdOhkowFIf",
        "outputId": "a54e3cfc-4924-4900-8df7-97cc257285fb",
        "colab": {
          "base_uri": "https://localhost:8080/"
        }
      },
      "source": [
        "np.argmin(A)"
      ],
      "execution_count": 40,
      "outputs": [
        {
          "output_type": "execute_result",
          "data": {
            "text/plain": [
              "3"
            ]
          },
          "metadata": {},
          "execution_count": 40
        }
      ]
    },
    {
      "cell_type": "markdown",
      "source": [
        "sortowanie elementów podając indeks"
      ],
      "metadata": {
        "id": "-2PyX56moxmE"
      }
    },
    {
      "cell_type": "code",
      "metadata": {
        "id": "4dToN4oKwJ5a",
        "outputId": "d3d20394-cabe-45e2-9a9e-749ef0a8889d",
        "colab": {
          "base_uri": "https://localhost:8080/"
        }
      },
      "source": [
        "np.argsort(A)"
      ],
      "execution_count": 41,
      "outputs": [
        {
          "output_type": "execute_result",
          "data": {
            "text/plain": [
              "array([3, 1, 2, 0, 4])"
            ]
          },
          "metadata": {},
          "execution_count": 41
        }
      ]
    },
    {
      "cell_type": "markdown",
      "source": [
        "czysto statystyczne"
      ],
      "metadata": {
        "id": "sxYp8sXBpFQi"
      }
    },
    {
      "cell_type": "code",
      "metadata": {
        "id": "gTGuNHQawWzW",
        "outputId": "7cc86f89-1c78-4acd-be4e-78afe91a2c1c",
        "colab": {
          "base_uri": "https://localhost:8080/"
        }
      },
      "source": [
        "np.max(A)"
      ],
      "execution_count": 42,
      "outputs": [
        {
          "output_type": "execute_result",
          "data": {
            "text/plain": [
              "0.9560836347232239"
            ]
          },
          "metadata": {},
          "execution_count": 42
        }
      ]
    },
    {
      "cell_type": "code",
      "metadata": {
        "id": "Z51pdnVrwZZu",
        "outputId": "1ada03a2-3a2d-4672-86ce-a6cb6270e30f",
        "colab": {
          "base_uri": "https://localhost:8080/"
        }
      },
      "source": [
        "np.min(A)"
      ],
      "execution_count": 43,
      "outputs": [
        {
          "output_type": "execute_result",
          "data": {
            "text/plain": [
              "0.5013243819267023"
            ]
          },
          "metadata": {},
          "execution_count": 43
        }
      ]
    },
    {
      "cell_type": "code",
      "metadata": {
        "id": "Mp4unYekwbuK",
        "outputId": "6c0c69c8-b4bf-43b7-eefc-91cd295fa9de",
        "colab": {
          "base_uri": "https://localhost:8080/"
        }
      },
      "source": [
        "np.mean(A)"
      ],
      "execution_count": 44,
      "outputs": [
        {
          "output_type": "execute_result",
          "data": {
            "text/plain": [
              "0.751385849680437"
            ]
          },
          "metadata": {},
          "execution_count": 44
        }
      ]
    },
    {
      "cell_type": "code",
      "metadata": {
        "id": "Yj8kdjjBweFR",
        "outputId": "4c8fc643-883a-4e61-a351-e15d527df2c5",
        "colab": {
          "base_uri": "https://localhost:8080/"
        }
      },
      "source": [
        "np.median(A)"
      ],
      "execution_count": 45,
      "outputs": [
        {
          "output_type": "execute_result",
          "data": {
            "text/plain": [
              "0.7252542798196405"
            ]
          },
          "metadata": {},
          "execution_count": 45
        }
      ]
    },
    {
      "cell_type": "code",
      "metadata": {
        "id": "h7pdm7HZwgA6",
        "outputId": "32bf94b7-a25c-4a76-9e2d-41ad9faed8fc",
        "colab": {
          "base_uri": "https://localhost:8080/"
        }
      },
      "source": [
        "np.std(A)"
      ],
      "execution_count": 46,
      "outputs": [
        {
          "output_type": "execute_result",
          "data": {
            "text/plain": [
              "0.15847371958621503"
            ]
          },
          "metadata": {},
          "execution_count": 46
        }
      ]
    },
    {
      "cell_type": "markdown",
      "metadata": {
        "id": "pV89pfLWAX0J"
      },
      "source": [
        "###  <a name='a7'></a> Indeksowanie, Wycinanie"
      ]
    },
    {
      "cell_type": "markdown",
      "source": [
        "dobieranie się do danych za pomocą indeksowania"
      ],
      "metadata": {
        "id": "42b6y6_dpRZC"
      }
    },
    {
      "cell_type": "code",
      "metadata": {
        "id": "nlGO7ztFxX8W",
        "outputId": "720d4c52-6d42-48c1-d999-896ce9b392bc",
        "colab": {
          "base_uri": "https://localhost:8080/"
        }
      },
      "source": [
        "A = np.arange(20)\n",
        "A"
      ],
      "execution_count": 47,
      "outputs": [
        {
          "output_type": "execute_result",
          "data": {
            "text/plain": [
              "array([ 0,  1,  2,  3,  4,  5,  6,  7,  8,  9, 10, 11, 12, 13, 14, 15, 16,\n",
              "       17, 18, 19])"
            ]
          },
          "metadata": {},
          "execution_count": 47
        }
      ]
    },
    {
      "cell_type": "markdown",
      "source": [
        "jakie atrybuty możmy podać przy wycinaniu: idx - indeks (też start:stop i od do końca i do)"
      ],
      "metadata": {
        "id": "LBtqOqBrpdLI"
      }
    },
    {
      "cell_type": "code",
      "metadata": {
        "id": "NKSqSA5ixcbK"
      },
      "source": [
        "# A[idx], A[start:stop], A[:stop], A[start:]"
      ],
      "execution_count": null,
      "outputs": []
    },
    {
      "cell_type": "code",
      "metadata": {
        "id": "SCLrtABgxsRC",
        "outputId": "0190fe16-eeba-4256-8ac3-5676da100096",
        "colab": {
          "base_uri": "https://localhost:8080/"
        }
      },
      "source": [
        "A[2]"
      ],
      "execution_count": 48,
      "outputs": [
        {
          "output_type": "execute_result",
          "data": {
            "text/plain": [
              "2"
            ]
          },
          "metadata": {},
          "execution_count": 48
        }
      ]
    },
    {
      "cell_type": "markdown",
      "source": [
        "pmiętać o domkniętości i otwartości nawiasów: domknięty jest OD"
      ],
      "metadata": {
        "id": "HnVH4mdbp31j"
      }
    },
    {
      "cell_type": "code",
      "metadata": {
        "id": "VN82-Mmtxvhc",
        "outputId": "010e79c6-3a5d-465d-fb61-1a771f1aaa4d",
        "colab": {
          "base_uri": "https://localhost:8080/"
        }
      },
      "source": [
        "A[2:]"
      ],
      "execution_count": 49,
      "outputs": [
        {
          "output_type": "execute_result",
          "data": {
            "text/plain": [
              "array([ 2,  3,  4,  5,  6,  7,  8,  9, 10, 11, 12, 13, 14, 15, 16, 17, 18,\n",
              "       19])"
            ]
          },
          "metadata": {},
          "execution_count": 49
        }
      ]
    },
    {
      "cell_type": "code",
      "metadata": {
        "id": "Hs7J43_3xykJ",
        "outputId": "e696a3c3-4360-4d65-fe38-7b99e4b8487a",
        "colab": {
          "base_uri": "https://localhost:8080/"
        }
      },
      "source": [
        "A[:2]"
      ],
      "execution_count": 50,
      "outputs": [
        {
          "output_type": "execute_result",
          "data": {
            "text/plain": [
              "array([0, 1])"
            ]
          },
          "metadata": {},
          "execution_count": 50
        }
      ]
    },
    {
      "cell_type": "markdown",
      "source": [
        "wycinanie konkretnych indeksów"
      ],
      "metadata": {
        "id": "hfLTuqH1qK8F"
      }
    },
    {
      "cell_type": "code",
      "metadata": {
        "id": "VYH2BRDkx2Fs",
        "outputId": "5bff6ef6-4c87-4c86-9571-cf56c47f8941",
        "colab": {
          "base_uri": "https://localhost:8080/"
        }
      },
      "source": [
        "A[[0, 2]]"
      ],
      "execution_count": 51,
      "outputs": [
        {
          "output_type": "execute_result",
          "data": {
            "text/plain": [
              "array([0, 2])"
            ]
          },
          "metadata": {},
          "execution_count": 51
        }
      ]
    },
    {
      "cell_type": "markdown",
      "source": [
        "ujemnymi liczy od końca"
      ],
      "metadata": {
        "id": "Qb7JS8zkqPvB"
      }
    },
    {
      "cell_type": "code",
      "metadata": {
        "id": "TmHYX_Rnx6Nr",
        "outputId": "fe782b9b-463a-4bf7-88a3-b9436b15c473",
        "colab": {
          "base_uri": "https://localhost:8080/"
        }
      },
      "source": [
        "A[-1]"
      ],
      "execution_count": 53,
      "outputs": [
        {
          "output_type": "execute_result",
          "data": {
            "text/plain": [
              "19"
            ]
          },
          "metadata": {},
          "execution_count": 53
        }
      ]
    },
    {
      "cell_type": "code",
      "metadata": {
        "id": "FDJ6Skm8x89z",
        "outputId": "cea82046-2417-465b-a1e0-8f069f852f97",
        "colab": {
          "base_uri": "https://localhost:8080/"
        }
      },
      "source": [
        "A[10:15]"
      ],
      "execution_count": 54,
      "outputs": [
        {
          "output_type": "execute_result",
          "data": {
            "text/plain": [
              "array([10, 11, 12, 13, 14])"
            ]
          },
          "metadata": {},
          "execution_count": 54
        }
      ]
    },
    {
      "cell_type": "markdown",
      "source": [
        "przekształcamy tablicę"
      ],
      "metadata": {
        "id": "A_MAJCVSqZmV"
      }
    },
    {
      "cell_type": "code",
      "metadata": {
        "id": "K5sDbg62yBzS",
        "outputId": "678e21c4-0a7f-4cc2-8a67-247cface1107",
        "colab": {
          "base_uri": "https://localhost:8080/"
        }
      },
      "source": [
        "A = A.reshape(4, 5)\n",
        "A"
      ],
      "execution_count": 55,
      "outputs": [
        {
          "output_type": "execute_result",
          "data": {
            "text/plain": [
              "array([[ 0,  1,  2,  3,  4],\n",
              "       [ 5,  6,  7,  8,  9],\n",
              "       [10, 11, 12, 13, 14],\n",
              "       [15, 16, 17, 18, 19]])"
            ]
          },
          "metadata": {},
          "execution_count": 55
        }
      ]
    },
    {
      "cell_type": "markdown",
      "source": [
        "wycinanie konkretnego wiersza"
      ],
      "metadata": {
        "id": "JqDnZJyAqgKq"
      }
    },
    {
      "cell_type": "code",
      "source": [
        "A[1]"
      ],
      "metadata": {
        "id": "Mm1uVgmWqj4f",
        "outputId": "649f1b8e-14eb-4449-c7e4-0969fd05b30e",
        "colab": {
          "base_uri": "https://localhost:8080/"
        }
      },
      "execution_count": 56,
      "outputs": [
        {
          "output_type": "execute_result",
          "data": {
            "text/plain": [
              "array([5, 6, 7, 8, 9])"
            ]
          },
          "metadata": {},
          "execution_count": 56
        }
      ]
    },
    {
      "cell_type": "markdown",
      "source": [
        "wycinanie kolumny"
      ],
      "metadata": {
        "id": "yXI9BWYeqozL"
      }
    },
    {
      "cell_type": "code",
      "source": [
        "A[:, 2]"
      ],
      "metadata": {
        "id": "dQH3iAxzqvtI",
        "outputId": "3c1a0752-f103-4282-db64-ea35a4487349",
        "colab": {
          "base_uri": "https://localhost:8080/"
        }
      },
      "execution_count": 57,
      "outputs": [
        {
          "output_type": "execute_result",
          "data": {
            "text/plain": [
              "array([ 2,  7, 12, 17])"
            ]
          },
          "metadata": {},
          "execution_count": 57
        }
      ]
    },
    {
      "cell_type": "markdown",
      "source": [
        "przedostatnia kolumna"
      ],
      "metadata": {
        "id": "x2BRC-06q2A7"
      }
    },
    {
      "cell_type": "code",
      "source": [
        "A[:, -2]"
      ],
      "metadata": {
        "id": "2t5MnjEwq5iG",
        "outputId": "ecced2ff-979e-4b43-db25-feba01bbff96",
        "colab": {
          "base_uri": "https://localhost:8080/"
        }
      },
      "execution_count": 58,
      "outputs": [
        {
          "output_type": "execute_result",
          "data": {
            "text/plain": [
              "array([ 3,  8, 13, 18])"
            ]
          },
          "metadata": {},
          "execution_count": 58
        }
      ]
    },
    {
      "cell_type": "markdown",
      "source": [
        "chcemy konkretny element, jego położenie, np element 6"
      ],
      "metadata": {
        "id": "7lXOiV7OrCa4"
      }
    },
    {
      "cell_type": "code",
      "source": [
        "A[1, 1]"
      ],
      "metadata": {
        "id": "xYuYrEXtrKX-",
        "outputId": "fc8e6e61-8084-4681-dee5-f2a0cbcd7533",
        "colab": {
          "base_uri": "https://localhost:8080/"
        }
      },
      "execution_count": 59,
      "outputs": [
        {
          "output_type": "execute_result",
          "data": {
            "text/plain": [
              "6"
            ]
          },
          "metadata": {},
          "execution_count": 59
        }
      ]
    },
    {
      "cell_type": "markdown",
      "source": [
        "teraz 8"
      ],
      "metadata": {
        "id": "GQaDOHLkrV-z"
      }
    },
    {
      "cell_type": "code",
      "source": [
        "A[1, 3]"
      ],
      "metadata": {
        "id": "SsAFK7l7rTF6",
        "outputId": "ba47553f-b951-4fa4-cc22-65721cef854d",
        "colab": {
          "base_uri": "https://localhost:8080/"
        }
      },
      "execution_count": 60,
      "outputs": [
        {
          "output_type": "execute_result",
          "data": {
            "text/plain": [
              "8"
            ]
          },
          "metadata": {},
          "execution_count": 60
        }
      ]
    },
    {
      "cell_type": "markdown",
      "source": [
        "chcemy wyciąć kawałek ze środka,podjemy przedziały"
      ],
      "metadata": {
        "id": "2U3_oDtSrayW"
      }
    },
    {
      "cell_type": "code",
      "metadata": {
        "id": "kspvnoRpyIC6",
        "outputId": "ef073041-4466-4a93-e258-fbb91d996ebc",
        "colab": {
          "base_uri": "https://localhost:8080/"
        }
      },
      "source": [
        "A[1:3, 1:4]"
      ],
      "execution_count": 61,
      "outputs": [
        {
          "output_type": "execute_result",
          "data": {
            "text/plain": [
              "array([[ 6,  7,  8],\n",
              "       [11, 12, 13]])"
            ]
          },
          "metadata": {},
          "execution_count": 61
        }
      ]
    },
    {
      "cell_type": "markdown",
      "source": [
        "wzmiana elementu 7 na 14"
      ],
      "metadata": {
        "id": "5P1s0lXCrqQQ"
      }
    },
    {
      "cell_type": "code",
      "metadata": {
        "id": "zhWuxbFFyqNp",
        "outputId": "c8319723-a999-4a46-edb3-9e3ed0cd85f8",
        "colab": {
          "base_uri": "https://localhost:8080/"
        }
      },
      "source": [
        "A[1, 2] = 14\n",
        "A"
      ],
      "execution_count": 62,
      "outputs": [
        {
          "output_type": "execute_result",
          "data": {
            "text/plain": [
              "array([[ 0,  1,  2,  3,  4],\n",
              "       [ 5,  6, 14,  8,  9],\n",
              "       [10, 11, 12, 13, 14],\n",
              "       [15, 16, 17, 18, 19]])"
            ]
          },
          "metadata": {},
          "execution_count": 62
        }
      ]
    },
    {
      "cell_type": "markdown",
      "metadata": {
        "id": "vf4CfFdiD3xX"
      },
      "source": [
        "### <a name='a8'></a> Iteracja po tablicach"
      ]
    },
    {
      "cell_type": "code",
      "metadata": {
        "id": "nroCLVxE0-1D",
        "outputId": "d4476978-7da9-4384-da0e-f4aa61a44ecb",
        "colab": {
          "base_uri": "https://localhost:8080/",
          "height": 87
        }
      },
      "source": [
        "A"
      ],
      "execution_count": null,
      "outputs": [
        {
          "output_type": "execute_result",
          "data": {
            "text/plain": [
              "array([[ 0,  1,  2,  3,  4],\n",
              "       [ 5,  6, 14,  8,  9],\n",
              "       [10, 11, 12, 13, 14],\n",
              "       [15, 16, 17, 18, 19]])"
            ]
          },
          "metadata": {
            "tags": []
          },
          "execution_count": 137
        }
      ]
    },
    {
      "cell_type": "code",
      "metadata": {
        "id": "k3qwe-Z31A0T",
        "outputId": "117f0965-c79b-48fe-fb2d-9e548e1f1cd1",
        "colab": {
          "base_uri": "https://localhost:8080/",
          "height": 87
        }
      },
      "source": [
        "for row in A:\n",
        "    print(row)"
      ],
      "execution_count": null,
      "outputs": [
        {
          "output_type": "stream",
          "text": [
            "[0 1 2 3 4]\n",
            "[ 5  6 14  8  9]\n",
            "[10 11 12 13 14]\n",
            "[15 16 17 18 19]\n"
          ],
          "name": "stdout"
        }
      ]
    },
    {
      "cell_type": "code",
      "metadata": {
        "id": "brrXJa131GMe",
        "outputId": "2ace4025-311a-4be3-8d76-a896445e3418",
        "colab": {
          "base_uri": "https://localhost:8080/",
          "height": 87
        }
      },
      "source": [
        "for row in A:\n",
        "    print(row[:3])"
      ],
      "execution_count": null,
      "outputs": [
        {
          "output_type": "stream",
          "text": [
            "[0 1 2]\n",
            "[ 5  6 14]\n",
            "[10 11 12]\n",
            "[15 16 17]\n"
          ],
          "name": "stdout"
        }
      ]
    },
    {
      "cell_type": "code",
      "metadata": {
        "id": "t-1ke0qM1vQv",
        "outputId": "f1003a8c-78aa-41e5-aa40-fef6a7fedb7d",
        "colab": {
          "base_uri": "https://localhost:8080/",
          "height": 364
        }
      },
      "source": [
        "for item in A.flat:\n",
        "    print(item)"
      ],
      "execution_count": null,
      "outputs": [
        {
          "output_type": "stream",
          "text": [
            "0\n",
            "1\n",
            "2\n",
            "3\n",
            "4\n",
            "5\n",
            "6\n",
            "14\n",
            "8\n",
            "9\n",
            "10\n",
            "11\n",
            "12\n",
            "13\n",
            "14\n",
            "15\n",
            "16\n",
            "17\n",
            "18\n",
            "19\n"
          ],
          "name": "stdout"
        }
      ]
    },
    {
      "cell_type": "markdown",
      "metadata": {
        "id": "ydh5YO0oEa-6"
      },
      "source": [
        "### <a name='a9'></a> Zmiana rozmiaru tablic"
      ]
    },
    {
      "cell_type": "code",
      "metadata": {
        "id": "3ARXQuzC15M0",
        "outputId": "32287e53-84ad-4386-dd02-904699f4b250",
        "colab": {
          "base_uri": "https://localhost:8080/",
          "height": 87
        }
      },
      "source": [
        "A"
      ],
      "execution_count": null,
      "outputs": [
        {
          "output_type": "execute_result",
          "data": {
            "text/plain": [
              "array([[ 0,  1,  2,  3,  4],\n",
              "       [ 5,  6, 14,  8,  9],\n",
              "       [10, 11, 12, 13, 14],\n",
              "       [15, 16, 17, 18, 19]])"
            ]
          },
          "metadata": {
            "tags": []
          },
          "execution_count": 142
        }
      ]
    },
    {
      "cell_type": "code",
      "metadata": {
        "id": "6IsjVflq17Kv",
        "outputId": "95780cdf-ea37-46d9-a8a6-496900c19c31",
        "colab": {
          "base_uri": "https://localhost:8080/",
          "height": 35
        }
      },
      "source": [
        "A.shape"
      ],
      "execution_count": null,
      "outputs": [
        {
          "output_type": "execute_result",
          "data": {
            "text/plain": [
              "(4, 5)"
            ]
          },
          "metadata": {
            "tags": []
          },
          "execution_count": 143
        }
      ]
    },
    {
      "cell_type": "code",
      "metadata": {
        "id": "Lexv-_Ks18dS",
        "outputId": "dd49ca1d-acfc-4c69-d790-413bccdd7fb1",
        "colab": {
          "base_uri": "https://localhost:8080/",
          "height": 104
        }
      },
      "source": [
        "A.reshape(5, 4)"
      ],
      "execution_count": null,
      "outputs": [
        {
          "output_type": "execute_result",
          "data": {
            "text/plain": [
              "array([[ 0,  1,  2,  3],\n",
              "       [ 4,  5,  6, 14],\n",
              "       [ 8,  9, 10, 11],\n",
              "       [12, 13, 14, 15],\n",
              "       [16, 17, 18, 19]])"
            ]
          },
          "metadata": {
            "tags": []
          },
          "execution_count": 144
        }
      ]
    },
    {
      "cell_type": "code",
      "metadata": {
        "id": "KAdM271n2AGC",
        "outputId": "50ba4cc6-57bb-4772-8f1c-698e54d9ee80",
        "colab": {
          "base_uri": "https://localhost:8080/",
          "height": 52
        }
      },
      "source": [
        "A.ravel()"
      ],
      "execution_count": null,
      "outputs": [
        {
          "output_type": "execute_result",
          "data": {
            "text/plain": [
              "array([ 0,  1,  2,  3,  4,  5,  6, 14,  8,  9, 10, 11, 12, 13, 14, 15, 16,\n",
              "       17, 18, 19])"
            ]
          },
          "metadata": {
            "tags": []
          },
          "execution_count": 145
        }
      ]
    },
    {
      "cell_type": "code",
      "metadata": {
        "id": "GSURjntW2ICI",
        "outputId": "54b814e4-d5cf-42c4-c117-f33f5d244c8d",
        "colab": {
          "base_uri": "https://localhost:8080/",
          "height": 104
        }
      },
      "source": [
        "A.T"
      ],
      "execution_count": null,
      "outputs": [
        {
          "output_type": "execute_result",
          "data": {
            "text/plain": [
              "array([[ 0,  5, 10, 15],\n",
              "       [ 1,  6, 11, 16],\n",
              "       [ 2, 14, 12, 17],\n",
              "       [ 3,  8, 13, 18],\n",
              "       [ 4,  9, 14, 19]])"
            ]
          },
          "metadata": {
            "tags": []
          },
          "execution_count": 146
        }
      ]
    },
    {
      "cell_type": "markdown",
      "metadata": {
        "id": "oQbVz1kTs4Lv"
      },
      "source": [
        "### <a name='a10'></a> Maski logiczne"
      ]
    },
    {
      "cell_type": "code",
      "metadata": {
        "id": "ABlPSyvQ2RcE",
        "outputId": "d7b73def-6570-4826-9898-cba1f74b2300",
        "colab": {
          "base_uri": "https://localhost:8080/",
          "height": 191
        }
      },
      "source": [
        "A = np.arange(start=-10, stop=10, step=0.5)\n",
        "A = A.reshape(10, -1)\n",
        "A"
      ],
      "execution_count": null,
      "outputs": [
        {
          "output_type": "execute_result",
          "data": {
            "text/plain": [
              "array([[-10. ,  -9.5,  -9. ,  -8.5],\n",
              "       [ -8. ,  -7.5,  -7. ,  -6.5],\n",
              "       [ -6. ,  -5.5,  -5. ,  -4.5],\n",
              "       [ -4. ,  -3.5,  -3. ,  -2.5],\n",
              "       [ -2. ,  -1.5,  -1. ,  -0.5],\n",
              "       [  0. ,   0.5,   1. ,   1.5],\n",
              "       [  2. ,   2.5,   3. ,   3.5],\n",
              "       [  4. ,   4.5,   5. ,   5.5],\n",
              "       [  6. ,   6.5,   7. ,   7.5],\n",
              "       [  8. ,   8.5,   9. ,   9.5]])"
            ]
          },
          "metadata": {
            "tags": []
          },
          "execution_count": 150
        }
      ]
    },
    {
      "cell_type": "code",
      "metadata": {
        "id": "RxhN-K9i2SXv",
        "outputId": "e255a5e4-eea1-4308-c047-430ef0b65548",
        "colab": {
          "base_uri": "https://localhost:8080/",
          "height": 191
        }
      },
      "source": [
        "A > 0"
      ],
      "execution_count": null,
      "outputs": [
        {
          "output_type": "execute_result",
          "data": {
            "text/plain": [
              "array([[False, False, False, False],\n",
              "       [False, False, False, False],\n",
              "       [False, False, False, False],\n",
              "       [False, False, False, False],\n",
              "       [False, False, False, False],\n",
              "       [False,  True,  True,  True],\n",
              "       [ True,  True,  True,  True],\n",
              "       [ True,  True,  True,  True],\n",
              "       [ True,  True,  True,  True],\n",
              "       [ True,  True,  True,  True]])"
            ]
          },
          "metadata": {
            "tags": []
          },
          "execution_count": 151
        }
      ]
    },
    {
      "cell_type": "code",
      "metadata": {
        "id": "KtsG8-HU2ige",
        "outputId": "168682ac-8680-4502-9a3e-4c6d6191d097",
        "colab": {
          "base_uri": "https://localhost:8080/",
          "height": 191
        }
      },
      "source": [
        "np.bitwise_and(A > -5, A < 5)"
      ],
      "execution_count": null,
      "outputs": [
        {
          "output_type": "execute_result",
          "data": {
            "text/plain": [
              "array([[False, False, False, False],\n",
              "       [False, False, False, False],\n",
              "       [False, False, False,  True],\n",
              "       [ True,  True,  True,  True],\n",
              "       [ True,  True,  True,  True],\n",
              "       [ True,  True,  True,  True],\n",
              "       [ True,  True,  True,  True],\n",
              "       [ True,  True, False, False],\n",
              "       [False, False, False, False],\n",
              "       [False, False, False, False]])"
            ]
          },
          "metadata": {
            "tags": []
          },
          "execution_count": 154
        }
      ]
    },
    {
      "cell_type": "code",
      "metadata": {
        "id": "C4emm4Kp2oHD",
        "outputId": "a6152540-f978-43bd-be9d-8683a5ef9bac",
        "colab": {
          "base_uri": "https://localhost:8080/",
          "height": 52
        }
      },
      "source": [
        "A[np.bitwise_and(A > -5, A < 5)]"
      ],
      "execution_count": null,
      "outputs": [
        {
          "output_type": "execute_result",
          "data": {
            "text/plain": [
              "array([-4.5, -4. , -3.5, -3. , -2.5, -2. , -1.5, -1. , -0.5,  0. ,  0.5,\n",
              "        1. ,  1.5,  2. ,  2.5,  3. ,  3.5,  4. ,  4.5])"
            ]
          },
          "metadata": {
            "tags": []
          },
          "execution_count": 155
        }
      ]
    },
    {
      "cell_type": "code",
      "metadata": {
        "id": "ootgC8yf2-5W",
        "outputId": "35029a75-82ba-4fea-97e8-49f1a65e4c8f",
        "colab": {
          "base_uri": "https://localhost:8080/",
          "height": 191
        }
      },
      "source": [
        "np.bitwise_or(A < -5, A > 5)"
      ],
      "execution_count": null,
      "outputs": [
        {
          "output_type": "execute_result",
          "data": {
            "text/plain": [
              "array([[ True,  True,  True,  True],\n",
              "       [ True,  True,  True,  True],\n",
              "       [ True,  True, False, False],\n",
              "       [False, False, False, False],\n",
              "       [False, False, False, False],\n",
              "       [False, False, False, False],\n",
              "       [False, False, False, False],\n",
              "       [False, False, False,  True],\n",
              "       [ True,  True,  True,  True],\n",
              "       [ True,  True,  True,  True]])"
            ]
          },
          "metadata": {
            "tags": []
          },
          "execution_count": 156
        }
      ]
    }
  ]
}