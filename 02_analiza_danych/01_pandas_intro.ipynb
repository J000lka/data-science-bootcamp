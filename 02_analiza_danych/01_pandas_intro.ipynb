{
  "nbformat": 4,
  "nbformat_minor": 0,
  "metadata": {
    "colab": {
      "name": "01_pandas_intro.ipynb",
      "provenance": [],
      "include_colab_link": true
    },
    "kernelspec": {
      "name": "python3",
      "display_name": "Python 3"
    }
  },
  "cells": [
    {
      "cell_type": "markdown",
      "metadata": {
        "id": "view-in-github",
        "colab_type": "text"
      },
      "source": [
        "<a href=\"https://colab.research.google.com/github/J000lka/data-science-bootcamp/blob/main/02_analiza_danych/01_pandas_intro.ipynb\" target=\"_parent\"><img src=\"https://colab.research.google.com/assets/colab-badge.svg\" alt=\"Open In Colab\"/></a>"
      ]
    },
    {
      "cell_type": "markdown",
      "metadata": {
        "id": "REAyUhKIIJwo"
      },
      "source": [
        "* @author: krakowiakpawel9@gmail.com  \n",
        "* @site: e-smartdata.org"
      ]
    },
    {
      "cell_type": "markdown",
      "metadata": {
        "id": "4bZ3mB0Uazid"
      },
      "source": [
        "### Pandas\n",
        ">Strona biblioteki: [https://pandas.pydata.org/](https://pandas.pydata.org/)  \n",
        ">Dokumentacja: [https://pandas.pydata.org/pandas-docs/stable/](https://pandas.pydata.org/pandas-docs/stable/)\n",
        ">\n",
        ">Podstawowa biblioteka do analizy danych w języku Python.\n",
        ">\n",
        ">Aby zainstalować bibliotekę Pandas użyj polecenia poniżej:\n",
        "```\n",
        "pip install pandas\n",
        "```\n",
        "### Spis treści:\n",
        "1. [Podstawowe struktury danych: pd.Series](#a1)\n",
        "2. [Podstawowe struktury danych: pd.DataFrame](#a2)\n",
        "3. [Selekcja kolumn](#a3)\n",
        "\n"
      ]
    },
    {
      "cell_type": "code",
      "metadata": {
        "id": "AEE5ZeP_mtQo",
        "outputId": "bee277b5-6529-4b50-b4e3-c2f1fcfdcbec",
        "colab": {
          "base_uri": "https://localhost:8080/",
          "height": 35
        }
      },
      "source": [
        "import pandas as pd\n",
        "pd.__version__"
      ],
      "execution_count": 1,
      "outputs": [
        {
          "output_type": "execute_result",
          "data": {
            "text/plain": [
              "'1.3.5'"
            ],
            "application/vnd.google.colaboratory.intrinsic+json": {
              "type": "string"
            }
          },
          "metadata": {},
          "execution_count": 1
        }
      ]
    },
    {
      "cell_type": "markdown",
      "metadata": {
        "id": "HPBD1LuNcqR7"
      },
      "source": [
        "### <a name='a1'></a>  Podstawowe struktury danych: pd.Series"
      ]
    },
    {
      "cell_type": "markdown",
      "source": [
        "pierwszy obiekt, data = lista w python, mamy od razu przypisany indeks, indeksy można kontrolować"
      ],
      "metadata": {
        "id": "5ySWTZTqlW5K"
      }
    },
    {
      "cell_type": "code",
      "metadata": {
        "id": "8sS6-1kH9In2",
        "outputId": "ea839cfe-8e89-473b-ee2a-f8c639ca7478",
        "colab": {
          "base_uri": "https://localhost:8080/"
        }
      },
      "source": [
        "s = pd.Series(data=[3, 2, 4, 6])\n",
        "s"
      ],
      "execution_count": 2,
      "outputs": [
        {
          "output_type": "execute_result",
          "data": {
            "text/plain": [
              "0    3\n",
              "1    2\n",
              "2    4\n",
              "3    6\n",
              "dtype: int64"
            ]
          },
          "metadata": {},
          "execution_count": 2
        }
      ]
    },
    {
      "cell_type": "markdown",
      "source": [
        "domyślnie int64"
      ],
      "metadata": {
        "id": "6FT5lCPpXOEG"
      }
    },
    {
      "cell_type": "code",
      "metadata": {
        "id": "PveDue_e9XKQ",
        "outputId": "b3283e92-6487-4241-95a5-084526fa5c1d",
        "colab": {
          "base_uri": "https://localhost:8080/"
        }
      },
      "source": [
        "s = pd.Series(data=[3, 2, 4, 6], index=['a', 'b', 'c', 'd'], name='sample')\n",
        "s"
      ],
      "execution_count": 3,
      "outputs": [
        {
          "output_type": "execute_result",
          "data": {
            "text/plain": [
              "a    3\n",
              "b    2\n",
              "c    4\n",
              "d    6\n",
              "Name: sample, dtype: int64"
            ]
          },
          "metadata": {},
          "execution_count": 3
        }
      ]
    },
    {
      "cell_type": "markdown",
      "source": [
        "jeśli jedno zmnieni się na float, to wszystkie będą float"
      ],
      "metadata": {
        "id": "dmewDMS3XRAA"
      }
    },
    {
      "cell_type": "code",
      "metadata": {
        "id": "pWVIeaCt9n0r",
        "outputId": "187773b1-e0b2-4cc5-9576-2aab6cfae7a0",
        "colab": {
          "base_uri": "https://localhost:8080/"
        }
      },
      "source": [
        "s = pd.Series(data=[3., 2, 4, 6], index=['a', 'b', 'c', 'd'], name='sample')\n",
        "s"
      ],
      "execution_count": 4,
      "outputs": [
        {
          "output_type": "execute_result",
          "data": {
            "text/plain": [
              "a    3.0\n",
              "b    2.0\n",
              "c    4.0\n",
              "d    6.0\n",
              "Name: sample, dtype: float64"
            ]
          },
          "metadata": {},
          "execution_count": 4
        }
      ]
    },
    {
      "cell_type": "markdown",
      "source": [
        "jak wstawić braki danych, potrzebny numpy, tam atrybut do wstawiania braków danych nan"
      ],
      "metadata": {
        "id": "NGsfROE7XbYC"
      }
    },
    {
      "cell_type": "code",
      "metadata": {
        "id": "W5PpSh849wf4",
        "outputId": "39ca4a46-5b04-4b43-a791-4b76d4e0667c",
        "colab": {
          "base_uri": "https://localhost:8080/"
        }
      },
      "source": [
        "import numpy as np\n",
        "\n",
        "s = pd.Series(data=[3., np.nan, 4, 6], index=['a', 'b', 'c', 'd'], name='sample')\n",
        "s"
      ],
      "execution_count": 5,
      "outputs": [
        {
          "output_type": "execute_result",
          "data": {
            "text/plain": [
              "a    3.0\n",
              "b    NaN\n",
              "c    4.0\n",
              "d    6.0\n",
              "Name: sample, dtype: float64"
            ]
          },
          "metadata": {},
          "execution_count": 5
        }
      ]
    },
    {
      "cell_type": "markdown",
      "source": [
        "nie ma wrtości, to do średniej nie zostnie wzięte pod uwagę, w przeciwieństwie do 0"
      ],
      "metadata": {
        "id": "hnqwCujdXr1X"
      }
    },
    {
      "cell_type": "markdown",
      "source": [
        "obiekt składający się z danych typu bool"
      ],
      "metadata": {
        "id": "AtLPZrSvX4b2"
      }
    },
    {
      "cell_type": "code",
      "metadata": {
        "id": "a8JHEYhf-MMK",
        "outputId": "7c5a521d-c242-42e2-943e-05a996669445",
        "colab": {
          "base_uri": "https://localhost:8080/"
        }
      },
      "source": [
        "s = pd.Series(data=[True, False, False])\n",
        "s"
      ],
      "execution_count": 6,
      "outputs": [
        {
          "output_type": "execute_result",
          "data": {
            "text/plain": [
              "0     True\n",
              "1    False\n",
              "2    False\n",
              "dtype: bool"
            ]
          },
          "metadata": {},
          "execution_count": 6
        }
      ]
    },
    {
      "cell_type": "markdown",
      "source": [
        "wracamy do problemu z datami, jak indeks zaprezentować w innej postaci, np. do szregów czasowych; "
      ],
      "metadata": {
        "id": "0DzBBXmJYFSj"
      }
    },
    {
      "cell_type": "markdown",
      "source": [
        "indeks, trzeba podać date startową i ile chcemy mieć dni od tego dnia"
      ],
      "metadata": {
        "id": "60AZwjHqYaaT"
      }
    },
    {
      "cell_type": "code",
      "metadata": {
        "id": "fKc5cPxu-Wn8",
        "outputId": "8d26718e-c04e-4fe7-ecf9-6aa3c647ac84",
        "colab": {
          "base_uri": "https://localhost:8080/"
        }
      },
      "source": [
        "s = pd.Series(data=np.arange(10, 20), index=pd.date_range(start='20200101', periods=10))\n",
        "s"
      ],
      "execution_count": 15,
      "outputs": [
        {
          "output_type": "execute_result",
          "data": {
            "text/plain": [
              "2020-01-01    10\n",
              "2020-01-02    11\n",
              "2020-01-03    12\n",
              "2020-01-04    13\n",
              "2020-01-05    14\n",
              "2020-01-06    15\n",
              "2020-01-07    16\n",
              "2020-01-08    17\n",
              "2020-01-09    18\n",
              "2020-01-10    19\n",
              "Freq: D, dtype: int64"
            ]
          },
          "metadata": {},
          "execution_count": 15
        }
      ]
    },
    {
      "cell_type": "markdown",
      "source": [
        "jak obejść kwestie np. braku notowań w niektóre dni na niektórych giełdach??"
      ],
      "metadata": {
        "id": "WnfxMLODY1hb"
      }
    },
    {
      "cell_type": "markdown",
      "source": [
        "tak sprawdzamy indeksy"
      ],
      "metadata": {
        "id": "KGK_57vmZwZm"
      }
    },
    {
      "cell_type": "code",
      "source": [
        "s.index"
      ],
      "metadata": {
        "id": "RfhqCZXSZsrA",
        "outputId": "7ec93783-aa62-4d52-fb64-9b7be58709bf",
        "colab": {
          "base_uri": "https://localhost:8080/"
        }
      },
      "execution_count": 16,
      "outputs": [
        {
          "output_type": "execute_result",
          "data": {
            "text/plain": [
              "DatetimeIndex(['2020-01-01', '2020-01-02', '2020-01-03', '2020-01-04',\n",
              "               '2020-01-05', '2020-01-06', '2020-01-07', '2020-01-08',\n",
              "               '2020-01-09', '2020-01-10'],\n",
              "              dtype='datetime64[ns]', freq='D')"
            ]
          },
          "metadata": {},
          "execution_count": 16
        }
      ]
    },
    {
      "cell_type": "markdown",
      "source": [
        "można to przekonwertować na listę"
      ],
      "metadata": {
        "id": "oi4Rq8J5ZyP2"
      }
    },
    {
      "cell_type": "code",
      "metadata": {
        "id": "z4Wu-AMLBnqG",
        "outputId": "1670b5a0-9f64-4dfd-ec3f-617de16893bd",
        "colab": {
          "base_uri": "https://localhost:8080/"
        }
      },
      "source": [
        "list(s.index)"
      ],
      "execution_count": 10,
      "outputs": [
        {
          "output_type": "execute_result",
          "data": {
            "text/plain": [
              "[Timestamp('2020-01-01 00:00:00', freq='D'),\n",
              " Timestamp('2020-01-02 00:00:00', freq='D'),\n",
              " Timestamp('2020-01-03 00:00:00', freq='D'),\n",
              " Timestamp('2020-01-04 00:00:00', freq='D'),\n",
              " Timestamp('2020-01-05 00:00:00', freq='D'),\n",
              " Timestamp('2020-01-06 00:00:00', freq='D'),\n",
              " Timestamp('2020-01-07 00:00:00', freq='D'),\n",
              " Timestamp('2020-01-08 00:00:00', freq='D'),\n",
              " Timestamp('2020-01-09 00:00:00', freq='D'),\n",
              " Timestamp('2020-01-10 00:00:00', freq='D')]"
            ]
          },
          "metadata": {},
          "execution_count": 10
        }
      ]
    },
    {
      "cell_type": "code",
      "metadata": {
        "id": "MYLjYlrKCOg1",
        "outputId": "11fdc861-041c-4c37-b37d-a96febee1622",
        "colab": {
          "base_uri": "https://localhost:8080/"
        }
      },
      "source": [
        "s.dtypes"
      ],
      "execution_count": 11,
      "outputs": [
        {
          "output_type": "execute_result",
          "data": {
            "text/plain": [
              "dtype('int64')"
            ]
          },
          "metadata": {},
          "execution_count": 11
        }
      ]
    },
    {
      "cell_type": "markdown",
      "source": [
        "obiekt series z tekstem"
      ],
      "metadata": {
        "id": "HO36J-ZxZFs6"
      }
    },
    {
      "cell_type": "code",
      "metadata": {
        "id": "jN8WVurwBOzp",
        "outputId": "f173a28f-e93c-49b7-c813-7e21c17bef27",
        "colab": {
          "base_uri": "https://localhost:8080/"
        }
      },
      "source": [
        "s = pd.Series(data=['python', 'java', 'sql'], name='languages')\n",
        "s"
      ],
      "execution_count": 18,
      "outputs": [
        {
          "output_type": "execute_result",
          "data": {
            "text/plain": [
              "0    python\n",
              "1      java\n",
              "2       sql\n",
              "Name: languages, dtype: object"
            ]
          },
          "metadata": {},
          "execution_count": 18
        }
      ]
    },
    {
      "cell_type": "code",
      "metadata": {
        "id": "nRprQXHxBYgY",
        "outputId": "e498cb76-68d2-4372-d05b-14a5749a8ff9",
        "colab": {
          "base_uri": "https://localhost:8080/"
        }
      },
      "source": [
        "type(s)"
      ],
      "execution_count": 13,
      "outputs": [
        {
          "output_type": "execute_result",
          "data": {
            "text/plain": [
              "pandas.core.series.Series"
            ]
          },
          "metadata": {},
          "execution_count": 13
        }
      ]
    },
    {
      "cell_type": "markdown",
      "source": [
        "atrybuty obiektu series"
      ],
      "metadata": {
        "id": "1IM4syjmZSWI"
      }
    },
    {
      "cell_type": "markdown",
      "source": [
        "indeks"
      ],
      "metadata": {
        "id": "aMNVwny8ZWqW"
      }
    },
    {
      "cell_type": "code",
      "metadata": {
        "id": "ZoLpJmZGBbpm",
        "outputId": "4decd906-3bff-4bf1-caf3-ad1917e09833",
        "colab": {
          "base_uri": "https://localhost:8080/"
        }
      },
      "source": [
        "s.index"
      ],
      "execution_count": 14,
      "outputs": [
        {
          "output_type": "execute_result",
          "data": {
            "text/plain": [
              "RangeIndex(start=0, stop=3, step=1)"
            ]
          },
          "metadata": {},
          "execution_count": 14
        }
      ]
    },
    {
      "cell_type": "markdown",
      "source": [
        "teraz wracamy do obiektu z indeksem datowym i tam pojawią sie dodatkowe rzeczy"
      ],
      "metadata": {
        "id": "e9TvY-uSZhKL"
      }
    },
    {
      "cell_type": "markdown",
      "source": [
        "i wracamy do core, jak wypisać wartości"
      ],
      "metadata": {
        "id": "tPWL408FZ77G"
      }
    },
    {
      "cell_type": "code",
      "metadata": {
        "id": "I92yBSQ0B1aW",
        "outputId": "767f3654-c34d-4761-dd96-de6ae813b3b9",
        "colab": {
          "base_uri": "https://localhost:8080/"
        }
      },
      "source": [
        "s.values"
      ],
      "execution_count": 19,
      "outputs": [
        {
          "output_type": "execute_result",
          "data": {
            "text/plain": [
              "array(['python', 'java', 'sql'], dtype=object)"
            ]
          },
          "metadata": {},
          "execution_count": 19
        }
      ]
    },
    {
      "cell_type": "markdown",
      "source": [
        "podaje typ danych, w przypadku tekstu jest O-bject"
      ],
      "metadata": {
        "id": "bXU6b9emaOOD"
      }
    },
    {
      "cell_type": "code",
      "metadata": {
        "id": "TouNZx6JCHSQ",
        "outputId": "51c594d9-6275-4a5f-97ed-28fb633ee3e2",
        "colab": {
          "base_uri": "https://localhost:8080/"
        }
      },
      "source": [
        "s.dtypes"
      ],
      "execution_count": 20,
      "outputs": [
        {
          "output_type": "execute_result",
          "data": {
            "text/plain": [
              "dtype('O')"
            ]
          },
          "metadata": {},
          "execution_count": 20
        }
      ]
    },
    {
      "cell_type": "markdown",
      "source": [
        "jak jest jedna kolumna, to wartość nie jest podawana"
      ],
      "metadata": {
        "id": "xtdU0In8aitZ"
      }
    },
    {
      "cell_type": "code",
      "metadata": {
        "id": "Netyg3hOCTg9",
        "outputId": "05ab915f-9324-46a7-b7fa-888a55bec0ce",
        "colab": {
          "base_uri": "https://localhost:8080/"
        }
      },
      "source": [
        "s.shape"
      ],
      "execution_count": 21,
      "outputs": [
        {
          "output_type": "execute_result",
          "data": {
            "text/plain": [
              "(3,)"
            ]
          },
          "metadata": {},
          "execution_count": 21
        }
      ]
    },
    {
      "cell_type": "markdown",
      "source": [
        "nowy obiekt series, notowania trzech spółek"
      ],
      "metadata": {
        "id": "FzeqFSj-apBi"
      }
    },
    {
      "cell_type": "code",
      "metadata": {
        "id": "2lS6NFTGDG1I",
        "outputId": "522675e7-263b-4139-ca13-307a7c012ebd",
        "colab": {
          "base_uri": "https://localhost:8080/"
        }
      },
      "source": [
        "price = pd.Series(data={'Apple': 200, 'CD Projekt': 60, 'Amazon': 1900})\n",
        "price"
      ],
      "execution_count": 23,
      "outputs": [
        {
          "output_type": "execute_result",
          "data": {
            "text/plain": [
              "Apple          200\n",
              "CD Projekt      60\n",
              "Amazon        1900\n",
              "dtype: int64"
            ]
          },
          "metadata": {},
          "execution_count": 23
        }
      ]
    },
    {
      "cell_type": "markdown",
      "source": [
        "chcemy coś z tego wyciąć, podajemy klucz (indeks), po którym chcemy wyciąć"
      ],
      "metadata": {
        "id": "vkAEjz2KbCUo"
      }
    },
    {
      "cell_type": "code",
      "metadata": {
        "id": "bF06lfKDDYMw",
        "outputId": "d9422f18-9aa0-4afb-92dc-6be7cc6a9843",
        "colab": {
          "base_uri": "https://localhost:8080/"
        }
      },
      "source": [
        "price['CD Projekt']"
      ],
      "execution_count": 24,
      "outputs": [
        {
          "output_type": "execute_result",
          "data": {
            "text/plain": [
              "60"
            ]
          },
          "metadata": {},
          "execution_count": 24
        }
      ]
    },
    {
      "cell_type": "markdown",
      "source": [
        "można podać nazwę, albo numer indeksu"
      ],
      "metadata": {
        "id": "YetjK-bobUvK"
      }
    },
    {
      "cell_type": "code",
      "metadata": {
        "id": "O_YqCu2MDfod",
        "outputId": "a9d9d987-5775-4abe-ad79-d4c95629101a",
        "colab": {
          "base_uri": "https://localhost:8080/"
        }
      },
      "source": [
        "price[1]"
      ],
      "execution_count": 25,
      "outputs": [
        {
          "output_type": "execute_result",
          "data": {
            "text/plain": [
              "60"
            ]
          },
          "metadata": {},
          "execution_count": 25
        }
      ]
    },
    {
      "cell_type": "markdown",
      "source": [
        "PODSTAWOWE FUNKCJE DO ANALIZY DANYCH"
      ],
      "metadata": {
        "id": "dYOzn-6YbY7S"
      }
    },
    {
      "cell_type": "markdown",
      "source": [
        "count zlicza ilość elementów w obiekcie"
      ],
      "metadata": {
        "id": "iA6d5Oi1bd6U"
      }
    },
    {
      "cell_type": "code",
      "metadata": {
        "id": "MdK-N5Z_DrDd",
        "outputId": "a66716d1-a66f-498c-e436-157045b0ef0d",
        "colab": {
          "base_uri": "https://localhost:8080/"
        }
      },
      "source": [
        "price.count()"
      ],
      "execution_count": 26,
      "outputs": [
        {
          "output_type": "execute_result",
          "data": {
            "text/plain": [
              "3"
            ]
          },
          "metadata": {},
          "execution_count": 26
        }
      ]
    },
    {
      "cell_type": "markdown",
      "source": [
        "value_count zlicza wystąpienia danej wartości"
      ],
      "metadata": {
        "id": "_ecIcXB6bi7c"
      }
    },
    {
      "cell_type": "code",
      "metadata": {
        "id": "0VQftb2yDw1h",
        "outputId": "099ae2d6-516d-41bb-9779-e110f40c8755",
        "colab": {
          "base_uri": "https://localhost:8080/"
        }
      },
      "source": [
        "price.value_counts(dropna=False)"
      ],
      "execution_count": 27,
      "outputs": [
        {
          "output_type": "execute_result",
          "data": {
            "text/plain": [
              "200     1\n",
              "60      1\n",
              "1900    1\n",
              "dtype: int64"
            ]
          },
          "metadata": {},
          "execution_count": 27
        }
      ]
    },
    {
      "cell_type": "markdown",
      "source": [
        "suma wartości, max, min, odchylenie standardowe"
      ],
      "metadata": {
        "id": "LFim4rbObzPV"
      }
    },
    {
      "cell_type": "code",
      "metadata": {
        "id": "GSWWEZD5D7uU",
        "outputId": "80077186-276c-42cc-e98e-d50ed5bb47c1",
        "colab": {
          "base_uri": "https://localhost:8080/"
        }
      },
      "source": [
        "price.sum()"
      ],
      "execution_count": 28,
      "outputs": [
        {
          "output_type": "execute_result",
          "data": {
            "text/plain": [
              "2160"
            ]
          },
          "metadata": {},
          "execution_count": 28
        }
      ]
    },
    {
      "cell_type": "code",
      "metadata": {
        "id": "piwxY4LzD988",
        "outputId": "4609e8d5-bde8-4546-af94-4f54c0d4f9ff",
        "colab": {
          "base_uri": "https://localhost:8080/"
        }
      },
      "source": [
        "price.min()"
      ],
      "execution_count": 29,
      "outputs": [
        {
          "output_type": "execute_result",
          "data": {
            "text/plain": [
              "60"
            ]
          },
          "metadata": {},
          "execution_count": 29
        }
      ]
    },
    {
      "cell_type": "code",
      "metadata": {
        "id": "nDXp3tiEEABN",
        "outputId": "04923bdd-4acc-4d1f-f3a4-dafeaa6b8b92",
        "colab": {
          "base_uri": "https://localhost:8080/"
        }
      },
      "source": [
        "price.max()"
      ],
      "execution_count": 30,
      "outputs": [
        {
          "output_type": "execute_result",
          "data": {
            "text/plain": [
              "1900"
            ]
          },
          "metadata": {},
          "execution_count": 30
        }
      ]
    },
    {
      "cell_type": "code",
      "metadata": {
        "id": "YCiMoxYMEBwg",
        "outputId": "79314865-0b76-4aed-8259-3095a6b70313",
        "colab": {
          "base_uri": "https://localhost:8080/"
        }
      },
      "source": [
        "price.std()"
      ],
      "execution_count": 31,
      "outputs": [
        {
          "output_type": "execute_result",
          "data": {
            "text/plain": [
              "1024.3046421841502"
            ]
          },
          "metadata": {},
          "execution_count": 31
        }
      ]
    },
    {
      "cell_type": "markdown",
      "source": [
        "describe pozwala opisać obiekt, podać statystyki zbiorczo"
      ],
      "metadata": {
        "id": "vGtJJtwhb5bj"
      }
    },
    {
      "cell_type": "code",
      "metadata": {
        "id": "SRsgbajiED7q",
        "outputId": "40ea74ca-3f7a-48e7-b116-79ccab25c759",
        "colab": {
          "base_uri": "https://localhost:8080/"
        }
      },
      "source": [
        "price.describe()"
      ],
      "execution_count": 32,
      "outputs": [
        {
          "output_type": "execute_result",
          "data": {
            "text/plain": [
              "count       3.000000\n",
              "mean      720.000000\n",
              "std      1024.304642\n",
              "min        60.000000\n",
              "25%       130.000000\n",
              "50%       200.000000\n",
              "75%      1050.000000\n",
              "max      1900.000000\n",
              "dtype: float64"
            ]
          },
          "metadata": {},
          "execution_count": 32
        }
      ]
    },
    {
      "cell_type": "markdown",
      "source": [
        "braki danych, dodajemy spółkę, dla której nie ma notowania NaN"
      ],
      "metadata": {
        "id": "fRQl3n4LcOVi"
      }
    },
    {
      "cell_type": "code",
      "source": [
        "price = pd.Series(data={'Apple': 200, 'CD Projekt': 60, 'Amazon': 1900, 'KGHM': np.nan})\n",
        "price"
      ],
      "metadata": {
        "id": "1CfdE9s6cQG1",
        "outputId": "d273fa53-93fa-4b52-c333-8e4643f4418d",
        "colab": {
          "base_uri": "https://localhost:8080/"
        }
      },
      "execution_count": 34,
      "outputs": [
        {
          "output_type": "execute_result",
          "data": {
            "text/plain": [
              "Apple          200.0\n",
              "CD Projekt      60.0\n",
              "Amazon        1900.0\n",
              "KGHM             NaN\n",
              "dtype: float64"
            ]
          },
          "metadata": {},
          "execution_count": 34
        }
      ]
    },
    {
      "cell_type": "markdown",
      "source": [
        "count zlicza tylko wartości inne niż pusta"
      ],
      "metadata": {
        "id": "-yB3XTgvcorm"
      }
    },
    {
      "cell_type": "code",
      "source": [
        "price.count()"
      ],
      "metadata": {
        "id": "jcHliIW8clzs",
        "outputId": "df8e6210-a6d7-4601-c263-2bd46d647d8a",
        "colab": {
          "base_uri": "https://localhost:8080/"
        }
      },
      "execution_count": 35,
      "outputs": [
        {
          "output_type": "execute_result",
          "data": {
            "text/plain": [
              "3"
            ]
          },
          "metadata": {},
          "execution_count": 35
        }
      ]
    },
    {
      "cell_type": "code",
      "source": [
        "price.value_counts()"
      ],
      "metadata": {
        "id": "ZsGuIFNrcuBY",
        "outputId": "7b2d922f-a4be-4a96-c4fe-80094b67bf82",
        "colab": {
          "base_uri": "https://localhost:8080/"
        }
      },
      "execution_count": 37,
      "outputs": [
        {
          "output_type": "execute_result",
          "data": {
            "text/plain": [
              "200.0     1\n",
              "60.0      1\n",
              "1900.0    1\n",
              "dtype: int64"
            ]
          },
          "metadata": {},
          "execution_count": 37
        }
      ]
    },
    {
      "cell_type": "markdown",
      "source": [
        "możńa dodac parametr dropna, domyślnie jest na true, jeśli damy false to zliczy też braki danych"
      ],
      "metadata": {
        "id": "DzrSXHQec1uG"
      }
    },
    {
      "cell_type": "code",
      "source": [
        "price.value_counts(dropna = False)"
      ],
      "metadata": {
        "id": "F9kGVuFmc1Lt",
        "outputId": "327add8e-95fa-468e-b2f9-026db46f7cad",
        "colab": {
          "base_uri": "https://localhost:8080/"
        }
      },
      "execution_count": 39,
      "outputs": [
        {
          "output_type": "execute_result",
          "data": {
            "text/plain": [
              "200.0     1\n",
              "60.0      1\n",
              "1900.0    1\n",
              "NaN       1\n",
              "dtype: int64"
            ]
          },
          "metadata": {},
          "execution_count": 39
        }
      ]
    },
    {
      "cell_type": "markdown",
      "source": [
        "describe też zwróci tylko to co występuje i tylko z tego policzy statystyki"
      ],
      "metadata": {
        "id": "3KFRlMr6dUM-"
      }
    },
    {
      "cell_type": "code",
      "source": [
        "price.describe()"
      ],
      "metadata": {
        "id": "GOJfB3L0dbUk",
        "outputId": "eac77663-93f9-4948-d237-219e820e3c9f",
        "colab": {
          "base_uri": "https://localhost:8080/"
        }
      },
      "execution_count": 40,
      "outputs": [
        {
          "output_type": "execute_result",
          "data": {
            "text/plain": [
              "count       3.000000\n",
              "mean      720.000000\n",
              "std      1024.304642\n",
              "min        60.000000\n",
              "25%       130.000000\n",
              "50%       200.000000\n",
              "75%      1050.000000\n",
              "max      1900.000000\n",
              "dtype: float64"
            ]
          },
          "metadata": {},
          "execution_count": 40
        }
      ]
    },
    {
      "cell_type": "markdown",
      "source": [
        "nlargest zwrac tyle ile chcemy wartości najwyższych"
      ],
      "metadata": {
        "id": "5ywrONicdeZd"
      }
    },
    {
      "cell_type": "code",
      "metadata": {
        "id": "8L6WFN0-Enix",
        "outputId": "487557a0-4efb-4ee2-ccbb-30273a730571",
        "colab": {
          "base_uri": "https://localhost:8080/"
        }
      },
      "source": [
        "price.nlargest(2)"
      ],
      "execution_count": 41,
      "outputs": [
        {
          "output_type": "execute_result",
          "data": {
            "text/plain": [
              "Amazon    1900.0\n",
              "Apple      200.0\n",
              "dtype: float64"
            ]
          },
          "metadata": {},
          "execution_count": 41
        }
      ]
    },
    {
      "cell_type": "markdown",
      "source": [
        "nsmallest - tyle ile chcemy wartości najniższych"
      ],
      "metadata": {
        "id": "ZQbNVWw_d6Xk"
      }
    },
    {
      "cell_type": "code",
      "metadata": {
        "id": "bfqDoA1_EzGc",
        "outputId": "92bbbb46-33c6-4d1b-8af9-3a84f48d0c0a",
        "colab": {
          "base_uri": "https://localhost:8080/"
        }
      },
      "source": [
        "price.nsmallest(2)"
      ],
      "execution_count": 42,
      "outputs": [
        {
          "output_type": "execute_result",
          "data": {
            "text/plain": [
              "CD Projekt     60.0\n",
              "Apple         200.0\n",
              "dtype: float64"
            ]
          },
          "metadata": {},
          "execution_count": 42
        }
      ]
    },
    {
      "cell_type": "markdown",
      "source": [
        "rank - zwraca ranking kazdego elementu"
      ],
      "metadata": {
        "id": "e-qnB2qeeCcD"
      }
    },
    {
      "cell_type": "code",
      "metadata": {
        "id": "GKZ5cBPyE8dJ",
        "outputId": "53908da0-3cae-4aff-cfe3-17f511f8586e",
        "colab": {
          "base_uri": "https://localhost:8080/"
        }
      },
      "source": [
        "price.rank()"
      ],
      "execution_count": 43,
      "outputs": [
        {
          "output_type": "execute_result",
          "data": {
            "text/plain": [
              "Apple         2.0\n",
              "CD Projekt    1.0\n",
              "Amazon        3.0\n",
              "KGHM          NaN\n",
              "dtype: float64"
            ]
          },
          "metadata": {},
          "execution_count": 43
        }
      ]
    },
    {
      "cell_type": "markdown",
      "source": [
        "sortowanie wartości, domyślnie sortuje rosnąco, jeśli chcemy zminieć, to dodatkowy atrybut jak niżej"
      ],
      "metadata": {
        "id": "Rp2WAPdseRf9"
      }
    },
    {
      "cell_type": "code",
      "metadata": {
        "id": "lkIhmUvgFD2R",
        "outputId": "410b4400-8526-4d08-88e2-4d0303e0edd9",
        "colab": {
          "base_uri": "https://localhost:8080/"
        }
      },
      "source": [
        "price.sort_values()"
      ],
      "execution_count": 44,
      "outputs": [
        {
          "output_type": "execute_result",
          "data": {
            "text/plain": [
              "CD Projekt      60.0\n",
              "Apple          200.0\n",
              "Amazon        1900.0\n",
              "KGHM             NaN\n",
              "dtype: float64"
            ]
          },
          "metadata": {},
          "execution_count": 44
        }
      ]
    },
    {
      "cell_type": "code",
      "metadata": {
        "id": "Vt9KAED3FJV_",
        "outputId": "eae26e17-4231-4b63-d783-da48d9494d91",
        "colab": {
          "base_uri": "https://localhost:8080/"
        }
      },
      "source": [
        "price.sort_values(ascending=False)"
      ],
      "execution_count": 45,
      "outputs": [
        {
          "output_type": "execute_result",
          "data": {
            "text/plain": [
              "Amazon        1900.0\n",
              "Apple          200.0\n",
              "CD Projekt      60.0\n",
              "KGHM             NaN\n",
              "dtype: float64"
            ]
          },
          "metadata": {},
          "execution_count": 45
        }
      ]
    },
    {
      "cell_type": "markdown",
      "source": [
        "konwertowanie cen na wyrażone w PLN, funkcja apply, instrukcja lambda"
      ],
      "metadata": {
        "id": "9oh7n-LJfjoN"
      }
    },
    {
      "cell_type": "code",
      "source": [
        "price.apply(lambda x: x * 3.8)"
      ],
      "metadata": {
        "id": "ne3e7FM1gSvG",
        "outputId": "4948b829-f900-48cd-9c96-d0af05b7c0a1",
        "colab": {
          "base_uri": "https://localhost:8080/"
        }
      },
      "execution_count": 51,
      "outputs": [
        {
          "output_type": "execute_result",
          "data": {
            "text/plain": [
              "Apple          760.0\n",
              "CD Projekt     228.0\n",
              "Amazon        7220.0\n",
              "KGHM             NaN\n",
              "dtype: float64"
            ]
          },
          "metadata": {},
          "execution_count": 51
        }
      ]
    },
    {
      "cell_type": "markdown",
      "source": [
        "powyższe nie zmienia zmiennej price"
      ],
      "metadata": {
        "id": "Ry6xKonigUvg"
      }
    },
    {
      "cell_type": "code",
      "source": [
        "price"
      ],
      "metadata": {
        "id": "6hsH5Ln4ghjE",
        "outputId": "a941eaf4-bb5f-481f-d598-99052cd1123b",
        "colab": {
          "base_uri": "https://localhost:8080/"
        }
      },
      "execution_count": 52,
      "outputs": [
        {
          "output_type": "execute_result",
          "data": {
            "text/plain": [
              "Apple          200.0\n",
              "CD Projekt      60.0\n",
              "Amazon        1900.0\n",
              "KGHM             NaN\n",
              "dtype: float64"
            ]
          },
          "metadata": {},
          "execution_count": 52
        }
      ]
    },
    {
      "cell_type": "markdown",
      "source": [
        "tworzymy nowy obiekt series price_pln i do tego obiektu przypisujemy ceny w PLN"
      ],
      "metadata": {
        "id": "05zA4bWOglFy"
      }
    },
    {
      "cell_type": "code",
      "metadata": {
        "id": "5CVc8ym7F0Mi"
      },
      "source": [
        "price_pln = price.apply(lambda x: x * 3.8)"
      ],
      "execution_count": 48,
      "outputs": []
    },
    {
      "cell_type": "code",
      "metadata": {
        "id": "kzVKuKpDGID_",
        "outputId": "91f0ff4b-4dd0-4002-f204-1188ed4d68a2",
        "colab": {
          "base_uri": "https://localhost:8080/"
        }
      },
      "source": [
        "price_pln"
      ],
      "execution_count": 50,
      "outputs": [
        {
          "output_type": "execute_result",
          "data": {
            "text/plain": [
              "Apple          760.0\n",
              "CD Projekt     228.0\n",
              "Amazon        7220.0\n",
              "KGHM             NaN\n",
              "dtype: float64"
            ]
          },
          "metadata": {},
          "execution_count": 50
        }
      ]
    },
    {
      "cell_type": "markdown",
      "metadata": {
        "id": "zv4KjA_gh9RT"
      },
      "source": [
        "### <a name='a2'></a>  Podstawowe struktury danych: pd.DataFrame\n"
      ]
    },
    {
      "cell_type": "markdown",
      "source": [],
      "metadata": {
        "id": "fVE1V0_QhFGy"
      }
    },
    {
      "cell_type": "code",
      "metadata": {
        "id": "Opkf9MuoJCn4",
        "outputId": "5207c32e-d750-4acb-ac41-cffee4851bef",
        "colab": {
          "base_uri": "https://localhost:8080/",
          "height": 143
        }
      },
      "source": [
        "df = pd.DataFrame(data=[12, 12, 32])\n",
        "df"
      ],
      "execution_count": 54,
      "outputs": [
        {
          "output_type": "execute_result",
          "data": {
            "text/plain": [
              "    0\n",
              "0  12\n",
              "1  12\n",
              "2  32"
            ],
            "text/html": [
              "\n",
              "  <div id=\"df-6f714d30-91bc-41ce-9c40-8d59ab121444\">\n",
              "    <div class=\"colab-df-container\">\n",
              "      <div>\n",
              "<style scoped>\n",
              "    .dataframe tbody tr th:only-of-type {\n",
              "        vertical-align: middle;\n",
              "    }\n",
              "\n",
              "    .dataframe tbody tr th {\n",
              "        vertical-align: top;\n",
              "    }\n",
              "\n",
              "    .dataframe thead th {\n",
              "        text-align: right;\n",
              "    }\n",
              "</style>\n",
              "<table border=\"1\" class=\"dataframe\">\n",
              "  <thead>\n",
              "    <tr style=\"text-align: right;\">\n",
              "      <th></th>\n",
              "      <th>0</th>\n",
              "    </tr>\n",
              "  </thead>\n",
              "  <tbody>\n",
              "    <tr>\n",
              "      <th>0</th>\n",
              "      <td>12</td>\n",
              "    </tr>\n",
              "    <tr>\n",
              "      <th>1</th>\n",
              "      <td>12</td>\n",
              "    </tr>\n",
              "    <tr>\n",
              "      <th>2</th>\n",
              "      <td>32</td>\n",
              "    </tr>\n",
              "  </tbody>\n",
              "</table>\n",
              "</div>\n",
              "      <button class=\"colab-df-convert\" onclick=\"convertToInteractive('df-6f714d30-91bc-41ce-9c40-8d59ab121444')\"\n",
              "              title=\"Convert this dataframe to an interactive table.\"\n",
              "              style=\"display:none;\">\n",
              "        \n",
              "  <svg xmlns=\"http://www.w3.org/2000/svg\" height=\"24px\"viewBox=\"0 0 24 24\"\n",
              "       width=\"24px\">\n",
              "    <path d=\"M0 0h24v24H0V0z\" fill=\"none\"/>\n",
              "    <path d=\"M18.56 5.44l.94 2.06.94-2.06 2.06-.94-2.06-.94-.94-2.06-.94 2.06-2.06.94zm-11 1L8.5 8.5l.94-2.06 2.06-.94-2.06-.94L8.5 2.5l-.94 2.06-2.06.94zm10 10l.94 2.06.94-2.06 2.06-.94-2.06-.94-.94-2.06-.94 2.06-2.06.94z\"/><path d=\"M17.41 7.96l-1.37-1.37c-.4-.4-.92-.59-1.43-.59-.52 0-1.04.2-1.43.59L10.3 9.45l-7.72 7.72c-.78.78-.78 2.05 0 2.83L4 21.41c.39.39.9.59 1.41.59.51 0 1.02-.2 1.41-.59l7.78-7.78 2.81-2.81c.8-.78.8-2.07 0-2.86zM5.41 20L4 18.59l7.72-7.72 1.47 1.35L5.41 20z\"/>\n",
              "  </svg>\n",
              "      </button>\n",
              "      \n",
              "  <style>\n",
              "    .colab-df-container {\n",
              "      display:flex;\n",
              "      flex-wrap:wrap;\n",
              "      gap: 12px;\n",
              "    }\n",
              "\n",
              "    .colab-df-convert {\n",
              "      background-color: #E8F0FE;\n",
              "      border: none;\n",
              "      border-radius: 50%;\n",
              "      cursor: pointer;\n",
              "      display: none;\n",
              "      fill: #1967D2;\n",
              "      height: 32px;\n",
              "      padding: 0 0 0 0;\n",
              "      width: 32px;\n",
              "    }\n",
              "\n",
              "    .colab-df-convert:hover {\n",
              "      background-color: #E2EBFA;\n",
              "      box-shadow: 0px 1px 2px rgba(60, 64, 67, 0.3), 0px 1px 3px 1px rgba(60, 64, 67, 0.15);\n",
              "      fill: #174EA6;\n",
              "    }\n",
              "\n",
              "    [theme=dark] .colab-df-convert {\n",
              "      background-color: #3B4455;\n",
              "      fill: #D2E3FC;\n",
              "    }\n",
              "\n",
              "    [theme=dark] .colab-df-convert:hover {\n",
              "      background-color: #434B5C;\n",
              "      box-shadow: 0px 1px 3px 1px rgba(0, 0, 0, 0.15);\n",
              "      filter: drop-shadow(0px 1px 2px rgba(0, 0, 0, 0.3));\n",
              "      fill: #FFFFFF;\n",
              "    }\n",
              "  </style>\n",
              "\n",
              "      <script>\n",
              "        const buttonEl =\n",
              "          document.querySelector('#df-6f714d30-91bc-41ce-9c40-8d59ab121444 button.colab-df-convert');\n",
              "        buttonEl.style.display =\n",
              "          google.colab.kernel.accessAllowed ? 'block' : 'none';\n",
              "\n",
              "        async function convertToInteractive(key) {\n",
              "          const element = document.querySelector('#df-6f714d30-91bc-41ce-9c40-8d59ab121444');\n",
              "          const dataTable =\n",
              "            await google.colab.kernel.invokeFunction('convertToInteractive',\n",
              "                                                     [key], {});\n",
              "          if (!dataTable) return;\n",
              "\n",
              "          const docLinkHtml = 'Like what you see? Visit the ' +\n",
              "            '<a target=\"_blank\" href=https://colab.research.google.com/notebooks/data_table.ipynb>data table notebook</a>'\n",
              "            + ' to learn more about interactive tables.';\n",
              "          element.innerHTML = '';\n",
              "          dataTable['output_type'] = 'display_data';\n",
              "          await google.colab.output.renderOutput(dataTable, element);\n",
              "          const docLink = document.createElement('div');\n",
              "          docLink.innerHTML = docLinkHtml;\n",
              "          element.appendChild(docLink);\n",
              "        }\n",
              "      </script>\n",
              "    </div>\n",
              "  </div>\n",
              "  "
            ]
          },
          "metadata": {},
          "execution_count": 54
        }
      ]
    },
    {
      "cell_type": "code",
      "metadata": {
        "id": "2FvgaUExJV-v",
        "outputId": "f65124e2-85fd-4e39-c8a8-e1c9fd732494",
        "colab": {
          "base_uri": "https://localhost:8080/",
          "height": 143
        }
      },
      "source": [
        "df = pd.DataFrame(data=[12, 12, 32], index=['first', 'second', 'third'], columns=['col_1'])\n",
        "df"
      ],
      "execution_count": 55,
      "outputs": [
        {
          "output_type": "execute_result",
          "data": {
            "text/plain": [
              "        col_1\n",
              "first      12\n",
              "second     12\n",
              "third      32"
            ],
            "text/html": [
              "\n",
              "  <div id=\"df-78753958-ec60-4256-b072-c8bb9b8eeb41\">\n",
              "    <div class=\"colab-df-container\">\n",
              "      <div>\n",
              "<style scoped>\n",
              "    .dataframe tbody tr th:only-of-type {\n",
              "        vertical-align: middle;\n",
              "    }\n",
              "\n",
              "    .dataframe tbody tr th {\n",
              "        vertical-align: top;\n",
              "    }\n",
              "\n",
              "    .dataframe thead th {\n",
              "        text-align: right;\n",
              "    }\n",
              "</style>\n",
              "<table border=\"1\" class=\"dataframe\">\n",
              "  <thead>\n",
              "    <tr style=\"text-align: right;\">\n",
              "      <th></th>\n",
              "      <th>col_1</th>\n",
              "    </tr>\n",
              "  </thead>\n",
              "  <tbody>\n",
              "    <tr>\n",
              "      <th>first</th>\n",
              "      <td>12</td>\n",
              "    </tr>\n",
              "    <tr>\n",
              "      <th>second</th>\n",
              "      <td>12</td>\n",
              "    </tr>\n",
              "    <tr>\n",
              "      <th>third</th>\n",
              "      <td>32</td>\n",
              "    </tr>\n",
              "  </tbody>\n",
              "</table>\n",
              "</div>\n",
              "      <button class=\"colab-df-convert\" onclick=\"convertToInteractive('df-78753958-ec60-4256-b072-c8bb9b8eeb41')\"\n",
              "              title=\"Convert this dataframe to an interactive table.\"\n",
              "              style=\"display:none;\">\n",
              "        \n",
              "  <svg xmlns=\"http://www.w3.org/2000/svg\" height=\"24px\"viewBox=\"0 0 24 24\"\n",
              "       width=\"24px\">\n",
              "    <path d=\"M0 0h24v24H0V0z\" fill=\"none\"/>\n",
              "    <path d=\"M18.56 5.44l.94 2.06.94-2.06 2.06-.94-2.06-.94-.94-2.06-.94 2.06-2.06.94zm-11 1L8.5 8.5l.94-2.06 2.06-.94-2.06-.94L8.5 2.5l-.94 2.06-2.06.94zm10 10l.94 2.06.94-2.06 2.06-.94-2.06-.94-.94-2.06-.94 2.06-2.06.94z\"/><path d=\"M17.41 7.96l-1.37-1.37c-.4-.4-.92-.59-1.43-.59-.52 0-1.04.2-1.43.59L10.3 9.45l-7.72 7.72c-.78.78-.78 2.05 0 2.83L4 21.41c.39.39.9.59 1.41.59.51 0 1.02-.2 1.41-.59l7.78-7.78 2.81-2.81c.8-.78.8-2.07 0-2.86zM5.41 20L4 18.59l7.72-7.72 1.47 1.35L5.41 20z\"/>\n",
              "  </svg>\n",
              "      </button>\n",
              "      \n",
              "  <style>\n",
              "    .colab-df-container {\n",
              "      display:flex;\n",
              "      flex-wrap:wrap;\n",
              "      gap: 12px;\n",
              "    }\n",
              "\n",
              "    .colab-df-convert {\n",
              "      background-color: #E8F0FE;\n",
              "      border: none;\n",
              "      border-radius: 50%;\n",
              "      cursor: pointer;\n",
              "      display: none;\n",
              "      fill: #1967D2;\n",
              "      height: 32px;\n",
              "      padding: 0 0 0 0;\n",
              "      width: 32px;\n",
              "    }\n",
              "\n",
              "    .colab-df-convert:hover {\n",
              "      background-color: #E2EBFA;\n",
              "      box-shadow: 0px 1px 2px rgba(60, 64, 67, 0.3), 0px 1px 3px 1px rgba(60, 64, 67, 0.15);\n",
              "      fill: #174EA6;\n",
              "    }\n",
              "\n",
              "    [theme=dark] .colab-df-convert {\n",
              "      background-color: #3B4455;\n",
              "      fill: #D2E3FC;\n",
              "    }\n",
              "\n",
              "    [theme=dark] .colab-df-convert:hover {\n",
              "      background-color: #434B5C;\n",
              "      box-shadow: 0px 1px 3px 1px rgba(0, 0, 0, 0.15);\n",
              "      filter: drop-shadow(0px 1px 2px rgba(0, 0, 0, 0.3));\n",
              "      fill: #FFFFFF;\n",
              "    }\n",
              "  </style>\n",
              "\n",
              "      <script>\n",
              "        const buttonEl =\n",
              "          document.querySelector('#df-78753958-ec60-4256-b072-c8bb9b8eeb41 button.colab-df-convert');\n",
              "        buttonEl.style.display =\n",
              "          google.colab.kernel.accessAllowed ? 'block' : 'none';\n",
              "\n",
              "        async function convertToInteractive(key) {\n",
              "          const element = document.querySelector('#df-78753958-ec60-4256-b072-c8bb9b8eeb41');\n",
              "          const dataTable =\n",
              "            await google.colab.kernel.invokeFunction('convertToInteractive',\n",
              "                                                     [key], {});\n",
              "          if (!dataTable) return;\n",
              "\n",
              "          const docLinkHtml = 'Like what you see? Visit the ' +\n",
              "            '<a target=\"_blank\" href=https://colab.research.google.com/notebooks/data_table.ipynb>data table notebook</a>'\n",
              "            + ' to learn more about interactive tables.';\n",
              "          element.innerHTML = '';\n",
              "          dataTable['output_type'] = 'display_data';\n",
              "          await google.colab.output.renderOutput(dataTable, element);\n",
              "          const docLink = document.createElement('div');\n",
              "          docLink.innerHTML = docLinkHtml;\n",
              "          element.appendChild(docLink);\n",
              "        }\n",
              "      </script>\n",
              "    </div>\n",
              "  </div>\n",
              "  "
            ]
          },
          "metadata": {},
          "execution_count": 55
        }
      ]
    },
    {
      "cell_type": "markdown",
      "source": [
        "bardziej złożony obiekt, przekazujemy jako słownik"
      ],
      "metadata": {
        "id": "_morZOF5h7JY"
      }
    },
    {
      "cell_type": "code",
      "metadata": {
        "id": "ZNAN_48qJh0d",
        "outputId": "140b7c74-c433-4aed-9286-5c93442f7829",
        "colab": {
          "base_uri": "https://localhost:8080/",
          "height": 112
        }
      },
      "source": [
        "df = pd.DataFrame(data={'WIG20': ['PKN ORLEN', 'PKO BP'],\n",
        "                        'mWIG40': ['Amica', 'Playway']})\n",
        "df"
      ],
      "execution_count": 58,
      "outputs": [
        {
          "output_type": "execute_result",
          "data": {
            "text/plain": [
              "       WIG20   mWIG40\n",
              "0  PKN ORLEN    Amica\n",
              "1     PKO BP  Playway"
            ],
            "text/html": [
              "\n",
              "  <div id=\"df-8ff99c66-fa9f-452d-9f59-760da0814ab2\">\n",
              "    <div class=\"colab-df-container\">\n",
              "      <div>\n",
              "<style scoped>\n",
              "    .dataframe tbody tr th:only-of-type {\n",
              "        vertical-align: middle;\n",
              "    }\n",
              "\n",
              "    .dataframe tbody tr th {\n",
              "        vertical-align: top;\n",
              "    }\n",
              "\n",
              "    .dataframe thead th {\n",
              "        text-align: right;\n",
              "    }\n",
              "</style>\n",
              "<table border=\"1\" class=\"dataframe\">\n",
              "  <thead>\n",
              "    <tr style=\"text-align: right;\">\n",
              "      <th></th>\n",
              "      <th>WIG20</th>\n",
              "      <th>mWIG40</th>\n",
              "    </tr>\n",
              "  </thead>\n",
              "  <tbody>\n",
              "    <tr>\n",
              "      <th>0</th>\n",
              "      <td>PKN ORLEN</td>\n",
              "      <td>Amica</td>\n",
              "    </tr>\n",
              "    <tr>\n",
              "      <th>1</th>\n",
              "      <td>PKO BP</td>\n",
              "      <td>Playway</td>\n",
              "    </tr>\n",
              "  </tbody>\n",
              "</table>\n",
              "</div>\n",
              "      <button class=\"colab-df-convert\" onclick=\"convertToInteractive('df-8ff99c66-fa9f-452d-9f59-760da0814ab2')\"\n",
              "              title=\"Convert this dataframe to an interactive table.\"\n",
              "              style=\"display:none;\">\n",
              "        \n",
              "  <svg xmlns=\"http://www.w3.org/2000/svg\" height=\"24px\"viewBox=\"0 0 24 24\"\n",
              "       width=\"24px\">\n",
              "    <path d=\"M0 0h24v24H0V0z\" fill=\"none\"/>\n",
              "    <path d=\"M18.56 5.44l.94 2.06.94-2.06 2.06-.94-2.06-.94-.94-2.06-.94 2.06-2.06.94zm-11 1L8.5 8.5l.94-2.06 2.06-.94-2.06-.94L8.5 2.5l-.94 2.06-2.06.94zm10 10l.94 2.06.94-2.06 2.06-.94-2.06-.94-.94-2.06-.94 2.06-2.06.94z\"/><path d=\"M17.41 7.96l-1.37-1.37c-.4-.4-.92-.59-1.43-.59-.52 0-1.04.2-1.43.59L10.3 9.45l-7.72 7.72c-.78.78-.78 2.05 0 2.83L4 21.41c.39.39.9.59 1.41.59.51 0 1.02-.2 1.41-.59l7.78-7.78 2.81-2.81c.8-.78.8-2.07 0-2.86zM5.41 20L4 18.59l7.72-7.72 1.47 1.35L5.41 20z\"/>\n",
              "  </svg>\n",
              "      </button>\n",
              "      \n",
              "  <style>\n",
              "    .colab-df-container {\n",
              "      display:flex;\n",
              "      flex-wrap:wrap;\n",
              "      gap: 12px;\n",
              "    }\n",
              "\n",
              "    .colab-df-convert {\n",
              "      background-color: #E8F0FE;\n",
              "      border: none;\n",
              "      border-radius: 50%;\n",
              "      cursor: pointer;\n",
              "      display: none;\n",
              "      fill: #1967D2;\n",
              "      height: 32px;\n",
              "      padding: 0 0 0 0;\n",
              "      width: 32px;\n",
              "    }\n",
              "\n",
              "    .colab-df-convert:hover {\n",
              "      background-color: #E2EBFA;\n",
              "      box-shadow: 0px 1px 2px rgba(60, 64, 67, 0.3), 0px 1px 3px 1px rgba(60, 64, 67, 0.15);\n",
              "      fill: #174EA6;\n",
              "    }\n",
              "\n",
              "    [theme=dark] .colab-df-convert {\n",
              "      background-color: #3B4455;\n",
              "      fill: #D2E3FC;\n",
              "    }\n",
              "\n",
              "    [theme=dark] .colab-df-convert:hover {\n",
              "      background-color: #434B5C;\n",
              "      box-shadow: 0px 1px 3px 1px rgba(0, 0, 0, 0.15);\n",
              "      filter: drop-shadow(0px 1px 2px rgba(0, 0, 0, 0.3));\n",
              "      fill: #FFFFFF;\n",
              "    }\n",
              "  </style>\n",
              "\n",
              "      <script>\n",
              "        const buttonEl =\n",
              "          document.querySelector('#df-8ff99c66-fa9f-452d-9f59-760da0814ab2 button.colab-df-convert');\n",
              "        buttonEl.style.display =\n",
              "          google.colab.kernel.accessAllowed ? 'block' : 'none';\n",
              "\n",
              "        async function convertToInteractive(key) {\n",
              "          const element = document.querySelector('#df-8ff99c66-fa9f-452d-9f59-760da0814ab2');\n",
              "          const dataTable =\n",
              "            await google.colab.kernel.invokeFunction('convertToInteractive',\n",
              "                                                     [key], {});\n",
              "          if (!dataTable) return;\n",
              "\n",
              "          const docLinkHtml = 'Like what you see? Visit the ' +\n",
              "            '<a target=\"_blank\" href=https://colab.research.google.com/notebooks/data_table.ipynb>data table notebook</a>'\n",
              "            + ' to learn more about interactive tables.';\n",
              "          element.innerHTML = '';\n",
              "          dataTable['output_type'] = 'display_data';\n",
              "          await google.colab.output.renderOutput(dataTable, element);\n",
              "          const docLink = document.createElement('div');\n",
              "          docLink.innerHTML = docLinkHtml;\n",
              "          element.appendChild(docLink);\n",
              "        }\n",
              "      </script>\n",
              "    </div>\n",
              "  </div>\n",
              "  "
            ]
          },
          "metadata": {},
          "execution_count": 58
        }
      ]
    },
    {
      "cell_type": "markdown",
      "source": [
        "df można worzyć przy pomocy słownika, listy, zagnieżdżonej listy"
      ],
      "metadata": {
        "id": "PRbk2kc1kk3-"
      }
    },
    {
      "cell_type": "markdown",
      "source": [
        "obiekt z trzech kolumn, data jako jedna lista, która jest zagniżdżona "
      ],
      "metadata": {
        "id": "lVcr8jQEk2O3"
      }
    },
    {
      "cell_type": "code",
      "metadata": {
        "id": "ps71fEpnJ-2P",
        "outputId": "384bbbd3-20e8-49b8-9a19-898141e546e2",
        "colab": {
          "base_uri": "https://localhost:8080/",
          "height": 112
        }
      },
      "source": [
        "df = pd.DataFrame(data=[[10, 12, 13], [23, 12, 10]], index=['first', 'second'], columns=['col_1', 'col_2', 'col_3'])\n",
        "df"
      ],
      "execution_count": 77,
      "outputs": [
        {
          "output_type": "execute_result",
          "data": {
            "text/plain": [
              "        col_1  col_2  col_3\n",
              "first      10     12     13\n",
              "second     23     12     10"
            ],
            "text/html": [
              "\n",
              "  <div id=\"df-39eb8277-af93-4a0d-b960-18871f51bc61\">\n",
              "    <div class=\"colab-df-container\">\n",
              "      <div>\n",
              "<style scoped>\n",
              "    .dataframe tbody tr th:only-of-type {\n",
              "        vertical-align: middle;\n",
              "    }\n",
              "\n",
              "    .dataframe tbody tr th {\n",
              "        vertical-align: top;\n",
              "    }\n",
              "\n",
              "    .dataframe thead th {\n",
              "        text-align: right;\n",
              "    }\n",
              "</style>\n",
              "<table border=\"1\" class=\"dataframe\">\n",
              "  <thead>\n",
              "    <tr style=\"text-align: right;\">\n",
              "      <th></th>\n",
              "      <th>col_1</th>\n",
              "      <th>col_2</th>\n",
              "      <th>col_3</th>\n",
              "    </tr>\n",
              "  </thead>\n",
              "  <tbody>\n",
              "    <tr>\n",
              "      <th>first</th>\n",
              "      <td>10</td>\n",
              "      <td>12</td>\n",
              "      <td>13</td>\n",
              "    </tr>\n",
              "    <tr>\n",
              "      <th>second</th>\n",
              "      <td>23</td>\n",
              "      <td>12</td>\n",
              "      <td>10</td>\n",
              "    </tr>\n",
              "  </tbody>\n",
              "</table>\n",
              "</div>\n",
              "      <button class=\"colab-df-convert\" onclick=\"convertToInteractive('df-39eb8277-af93-4a0d-b960-18871f51bc61')\"\n",
              "              title=\"Convert this dataframe to an interactive table.\"\n",
              "              style=\"display:none;\">\n",
              "        \n",
              "  <svg xmlns=\"http://www.w3.org/2000/svg\" height=\"24px\"viewBox=\"0 0 24 24\"\n",
              "       width=\"24px\">\n",
              "    <path d=\"M0 0h24v24H0V0z\" fill=\"none\"/>\n",
              "    <path d=\"M18.56 5.44l.94 2.06.94-2.06 2.06-.94-2.06-.94-.94-2.06-.94 2.06-2.06.94zm-11 1L8.5 8.5l.94-2.06 2.06-.94-2.06-.94L8.5 2.5l-.94 2.06-2.06.94zm10 10l.94 2.06.94-2.06 2.06-.94-2.06-.94-.94-2.06-.94 2.06-2.06.94z\"/><path d=\"M17.41 7.96l-1.37-1.37c-.4-.4-.92-.59-1.43-.59-.52 0-1.04.2-1.43.59L10.3 9.45l-7.72 7.72c-.78.78-.78 2.05 0 2.83L4 21.41c.39.39.9.59 1.41.59.51 0 1.02-.2 1.41-.59l7.78-7.78 2.81-2.81c.8-.78.8-2.07 0-2.86zM5.41 20L4 18.59l7.72-7.72 1.47 1.35L5.41 20z\"/>\n",
              "  </svg>\n",
              "      </button>\n",
              "      \n",
              "  <style>\n",
              "    .colab-df-container {\n",
              "      display:flex;\n",
              "      flex-wrap:wrap;\n",
              "      gap: 12px;\n",
              "    }\n",
              "\n",
              "    .colab-df-convert {\n",
              "      background-color: #E8F0FE;\n",
              "      border: none;\n",
              "      border-radius: 50%;\n",
              "      cursor: pointer;\n",
              "      display: none;\n",
              "      fill: #1967D2;\n",
              "      height: 32px;\n",
              "      padding: 0 0 0 0;\n",
              "      width: 32px;\n",
              "    }\n",
              "\n",
              "    .colab-df-convert:hover {\n",
              "      background-color: #E2EBFA;\n",
              "      box-shadow: 0px 1px 2px rgba(60, 64, 67, 0.3), 0px 1px 3px 1px rgba(60, 64, 67, 0.15);\n",
              "      fill: #174EA6;\n",
              "    }\n",
              "\n",
              "    [theme=dark] .colab-df-convert {\n",
              "      background-color: #3B4455;\n",
              "      fill: #D2E3FC;\n",
              "    }\n",
              "\n",
              "    [theme=dark] .colab-df-convert:hover {\n",
              "      background-color: #434B5C;\n",
              "      box-shadow: 0px 1px 3px 1px rgba(0, 0, 0, 0.15);\n",
              "      filter: drop-shadow(0px 1px 2px rgba(0, 0, 0, 0.3));\n",
              "      fill: #FFFFFF;\n",
              "    }\n",
              "  </style>\n",
              "\n",
              "      <script>\n",
              "        const buttonEl =\n",
              "          document.querySelector('#df-39eb8277-af93-4a0d-b960-18871f51bc61 button.colab-df-convert');\n",
              "        buttonEl.style.display =\n",
              "          google.colab.kernel.accessAllowed ? 'block' : 'none';\n",
              "\n",
              "        async function convertToInteractive(key) {\n",
              "          const element = document.querySelector('#df-39eb8277-af93-4a0d-b960-18871f51bc61');\n",
              "          const dataTable =\n",
              "            await google.colab.kernel.invokeFunction('convertToInteractive',\n",
              "                                                     [key], {});\n",
              "          if (!dataTable) return;\n",
              "\n",
              "          const docLinkHtml = 'Like what you see? Visit the ' +\n",
              "            '<a target=\"_blank\" href=https://colab.research.google.com/notebooks/data_table.ipynb>data table notebook</a>'\n",
              "            + ' to learn more about interactive tables.';\n",
              "          element.innerHTML = '';\n",
              "          dataTable['output_type'] = 'display_data';\n",
              "          await google.colab.output.renderOutput(dataTable, element);\n",
              "          const docLink = document.createElement('div');\n",
              "          docLink.innerHTML = docLinkHtml;\n",
              "          element.appendChild(docLink);\n",
              "        }\n",
              "      </script>\n",
              "    </div>\n",
              "  </div>\n",
              "  "
            ]
          },
          "metadata": {},
          "execution_count": 77
        }
      ]
    },
    {
      "cell_type": "markdown",
      "source": [
        "jak wyciąć z obiektu nazwy kolumn, obiekt typu indeks"
      ],
      "metadata": {
        "id": "bveLwFJglMHL"
      }
    },
    {
      "cell_type": "code",
      "metadata": {
        "id": "8mCrzhv-KUX-",
        "outputId": "6834cab6-a282-4df7-bc5e-a8b59a5c3f68",
        "colab": {
          "base_uri": "https://localhost:8080/"
        }
      },
      "source": [
        "df.columns"
      ],
      "execution_count": 60,
      "outputs": [
        {
          "output_type": "execute_result",
          "data": {
            "text/plain": [
              "Index(['col_1', 'col_2', 'col_3'], dtype='object')"
            ]
          },
          "metadata": {},
          "execution_count": 60
        }
      ]
    },
    {
      "cell_type": "code",
      "metadata": {
        "id": "IPKg5MMdKaaa",
        "outputId": "921c6cda-a9fb-470f-e008-39396341d179",
        "colab": {
          "base_uri": "https://localhost:8080/"
        }
      },
      "source": [
        "df.index"
      ],
      "execution_count": 61,
      "outputs": [
        {
          "output_type": "execute_result",
          "data": {
            "text/plain": [
              "Index(['first', 'second'], dtype='object')"
            ]
          },
          "metadata": {},
          "execution_count": 61
        }
      ]
    },
    {
      "cell_type": "code",
      "metadata": {
        "id": "ja7TQ0ioKdrG",
        "outputId": "2d7b90b7-7259-4ab6-ebe1-982623843df4",
        "colab": {
          "base_uri": "https://localhost:8080/"
        }
      },
      "source": [
        "df.values"
      ],
      "execution_count": 62,
      "outputs": [
        {
          "output_type": "execute_result",
          "data": {
            "text/plain": [
              "array([[10, 12, 13],\n",
              "       [23, 12, 10]])"
            ]
          },
          "metadata": {},
          "execution_count": 62
        }
      ]
    },
    {
      "cell_type": "markdown",
      "source": [
        "informaje nt. obiektu"
      ],
      "metadata": {
        "id": "z-b2xgJhlxUv"
      }
    },
    {
      "cell_type": "code",
      "metadata": {
        "id": "oY69tbP2KkHy",
        "outputId": "92e535e0-f1e6-4d2d-88ff-c1b5d691647c",
        "colab": {
          "base_uri": "https://localhost:8080/"
        }
      },
      "source": [
        "df.info()"
      ],
      "execution_count": 63,
      "outputs": [
        {
          "output_type": "stream",
          "name": "stdout",
          "text": [
            "<class 'pandas.core.frame.DataFrame'>\n",
            "Index: 2 entries, first to second\n",
            "Data columns (total 3 columns):\n",
            " #   Column  Non-Null Count  Dtype\n",
            "---  ------  --------------  -----\n",
            " 0   col_1   2 non-null      int64\n",
            " 1   col_2   2 non-null      int64\n",
            " 2   col_3   2 non-null      int64\n",
            "dtypes: int64(3)\n",
            "memory usage: 64.0+ bytes\n"
          ]
        }
      ]
    },
    {
      "cell_type": "markdown",
      "source": [
        "describe zwraca df opisujący df"
      ],
      "metadata": {
        "id": "JLaiJ0RBmNWn"
      }
    },
    {
      "cell_type": "code",
      "metadata": {
        "id": "pDdiZ6XpKzIK",
        "outputId": "d045dfae-2637-429b-8fcc-c07c9a081e71",
        "colab": {
          "base_uri": "https://localhost:8080/",
          "height": 300
        }
      },
      "source": [
        "df.describe()"
      ],
      "execution_count": 64,
      "outputs": [
        {
          "output_type": "execute_result",
          "data": {
            "text/plain": [
              "           col_1  col_2     col_3\n",
              "count   2.000000    2.0   2.00000\n",
              "mean   16.500000   12.0  11.50000\n",
              "std     9.192388    0.0   2.12132\n",
              "min    10.000000   12.0  10.00000\n",
              "25%    13.250000   12.0  10.75000\n",
              "50%    16.500000   12.0  11.50000\n",
              "75%    19.750000   12.0  12.25000\n",
              "max    23.000000   12.0  13.00000"
            ],
            "text/html": [
              "\n",
              "  <div id=\"df-e497ce28-9167-47b2-9f4b-5d48076335e0\">\n",
              "    <div class=\"colab-df-container\">\n",
              "      <div>\n",
              "<style scoped>\n",
              "    .dataframe tbody tr th:only-of-type {\n",
              "        vertical-align: middle;\n",
              "    }\n",
              "\n",
              "    .dataframe tbody tr th {\n",
              "        vertical-align: top;\n",
              "    }\n",
              "\n",
              "    .dataframe thead th {\n",
              "        text-align: right;\n",
              "    }\n",
              "</style>\n",
              "<table border=\"1\" class=\"dataframe\">\n",
              "  <thead>\n",
              "    <tr style=\"text-align: right;\">\n",
              "      <th></th>\n",
              "      <th>col_1</th>\n",
              "      <th>col_2</th>\n",
              "      <th>col_3</th>\n",
              "    </tr>\n",
              "  </thead>\n",
              "  <tbody>\n",
              "    <tr>\n",
              "      <th>count</th>\n",
              "      <td>2.000000</td>\n",
              "      <td>2.0</td>\n",
              "      <td>2.00000</td>\n",
              "    </tr>\n",
              "    <tr>\n",
              "      <th>mean</th>\n",
              "      <td>16.500000</td>\n",
              "      <td>12.0</td>\n",
              "      <td>11.50000</td>\n",
              "    </tr>\n",
              "    <tr>\n",
              "      <th>std</th>\n",
              "      <td>9.192388</td>\n",
              "      <td>0.0</td>\n",
              "      <td>2.12132</td>\n",
              "    </tr>\n",
              "    <tr>\n",
              "      <th>min</th>\n",
              "      <td>10.000000</td>\n",
              "      <td>12.0</td>\n",
              "      <td>10.00000</td>\n",
              "    </tr>\n",
              "    <tr>\n",
              "      <th>25%</th>\n",
              "      <td>13.250000</td>\n",
              "      <td>12.0</td>\n",
              "      <td>10.75000</td>\n",
              "    </tr>\n",
              "    <tr>\n",
              "      <th>50%</th>\n",
              "      <td>16.500000</td>\n",
              "      <td>12.0</td>\n",
              "      <td>11.50000</td>\n",
              "    </tr>\n",
              "    <tr>\n",
              "      <th>75%</th>\n",
              "      <td>19.750000</td>\n",
              "      <td>12.0</td>\n",
              "      <td>12.25000</td>\n",
              "    </tr>\n",
              "    <tr>\n",
              "      <th>max</th>\n",
              "      <td>23.000000</td>\n",
              "      <td>12.0</td>\n",
              "      <td>13.00000</td>\n",
              "    </tr>\n",
              "  </tbody>\n",
              "</table>\n",
              "</div>\n",
              "      <button class=\"colab-df-convert\" onclick=\"convertToInteractive('df-e497ce28-9167-47b2-9f4b-5d48076335e0')\"\n",
              "              title=\"Convert this dataframe to an interactive table.\"\n",
              "              style=\"display:none;\">\n",
              "        \n",
              "  <svg xmlns=\"http://www.w3.org/2000/svg\" height=\"24px\"viewBox=\"0 0 24 24\"\n",
              "       width=\"24px\">\n",
              "    <path d=\"M0 0h24v24H0V0z\" fill=\"none\"/>\n",
              "    <path d=\"M18.56 5.44l.94 2.06.94-2.06 2.06-.94-2.06-.94-.94-2.06-.94 2.06-2.06.94zm-11 1L8.5 8.5l.94-2.06 2.06-.94-2.06-.94L8.5 2.5l-.94 2.06-2.06.94zm10 10l.94 2.06.94-2.06 2.06-.94-2.06-.94-.94-2.06-.94 2.06-2.06.94z\"/><path d=\"M17.41 7.96l-1.37-1.37c-.4-.4-.92-.59-1.43-.59-.52 0-1.04.2-1.43.59L10.3 9.45l-7.72 7.72c-.78.78-.78 2.05 0 2.83L4 21.41c.39.39.9.59 1.41.59.51 0 1.02-.2 1.41-.59l7.78-7.78 2.81-2.81c.8-.78.8-2.07 0-2.86zM5.41 20L4 18.59l7.72-7.72 1.47 1.35L5.41 20z\"/>\n",
              "  </svg>\n",
              "      </button>\n",
              "      \n",
              "  <style>\n",
              "    .colab-df-container {\n",
              "      display:flex;\n",
              "      flex-wrap:wrap;\n",
              "      gap: 12px;\n",
              "    }\n",
              "\n",
              "    .colab-df-convert {\n",
              "      background-color: #E8F0FE;\n",
              "      border: none;\n",
              "      border-radius: 50%;\n",
              "      cursor: pointer;\n",
              "      display: none;\n",
              "      fill: #1967D2;\n",
              "      height: 32px;\n",
              "      padding: 0 0 0 0;\n",
              "      width: 32px;\n",
              "    }\n",
              "\n",
              "    .colab-df-convert:hover {\n",
              "      background-color: #E2EBFA;\n",
              "      box-shadow: 0px 1px 2px rgba(60, 64, 67, 0.3), 0px 1px 3px 1px rgba(60, 64, 67, 0.15);\n",
              "      fill: #174EA6;\n",
              "    }\n",
              "\n",
              "    [theme=dark] .colab-df-convert {\n",
              "      background-color: #3B4455;\n",
              "      fill: #D2E3FC;\n",
              "    }\n",
              "\n",
              "    [theme=dark] .colab-df-convert:hover {\n",
              "      background-color: #434B5C;\n",
              "      box-shadow: 0px 1px 3px 1px rgba(0, 0, 0, 0.15);\n",
              "      filter: drop-shadow(0px 1px 2px rgba(0, 0, 0, 0.3));\n",
              "      fill: #FFFFFF;\n",
              "    }\n",
              "  </style>\n",
              "\n",
              "      <script>\n",
              "        const buttonEl =\n",
              "          document.querySelector('#df-e497ce28-9167-47b2-9f4b-5d48076335e0 button.colab-df-convert');\n",
              "        buttonEl.style.display =\n",
              "          google.colab.kernel.accessAllowed ? 'block' : 'none';\n",
              "\n",
              "        async function convertToInteractive(key) {\n",
              "          const element = document.querySelector('#df-e497ce28-9167-47b2-9f4b-5d48076335e0');\n",
              "          const dataTable =\n",
              "            await google.colab.kernel.invokeFunction('convertToInteractive',\n",
              "                                                     [key], {});\n",
              "          if (!dataTable) return;\n",
              "\n",
              "          const docLinkHtml = 'Like what you see? Visit the ' +\n",
              "            '<a target=\"_blank\" href=https://colab.research.google.com/notebooks/data_table.ipynb>data table notebook</a>'\n",
              "            + ' to learn more about interactive tables.';\n",
              "          element.innerHTML = '';\n",
              "          dataTable['output_type'] = 'display_data';\n",
              "          await google.colab.output.renderOutput(dataTable, element);\n",
              "          const docLink = document.createElement('div');\n",
              "          docLink.innerHTML = docLinkHtml;\n",
              "          element.appendChild(docLink);\n",
              "        }\n",
              "      </script>\n",
              "    </div>\n",
              "  </div>\n",
              "  "
            ]
          },
          "metadata": {},
          "execution_count": 64
        }
      ]
    },
    {
      "cell_type": "code",
      "metadata": {
        "id": "8fmD6w-JK6nz",
        "outputId": "00a17e7c-e34d-4e2e-ec79-1f1b17967189",
        "colab": {
          "base_uri": "https://localhost:8080/",
          "height": 143
        }
      },
      "source": [
        "df.describe().T"
      ],
      "execution_count": 65,
      "outputs": [
        {
          "output_type": "execute_result",
          "data": {
            "text/plain": [
              "       count  mean       std   min    25%   50%    75%   max\n",
              "col_1    2.0  16.5  9.192388  10.0  13.25  16.5  19.75  23.0\n",
              "col_2    2.0  12.0  0.000000  12.0  12.00  12.0  12.00  12.0\n",
              "col_3    2.0  11.5  2.121320  10.0  10.75  11.5  12.25  13.0"
            ],
            "text/html": [
              "\n",
              "  <div id=\"df-d18dafef-bcb7-4d7b-9c61-bc42431b030e\">\n",
              "    <div class=\"colab-df-container\">\n",
              "      <div>\n",
              "<style scoped>\n",
              "    .dataframe tbody tr th:only-of-type {\n",
              "        vertical-align: middle;\n",
              "    }\n",
              "\n",
              "    .dataframe tbody tr th {\n",
              "        vertical-align: top;\n",
              "    }\n",
              "\n",
              "    .dataframe thead th {\n",
              "        text-align: right;\n",
              "    }\n",
              "</style>\n",
              "<table border=\"1\" class=\"dataframe\">\n",
              "  <thead>\n",
              "    <tr style=\"text-align: right;\">\n",
              "      <th></th>\n",
              "      <th>count</th>\n",
              "      <th>mean</th>\n",
              "      <th>std</th>\n",
              "      <th>min</th>\n",
              "      <th>25%</th>\n",
              "      <th>50%</th>\n",
              "      <th>75%</th>\n",
              "      <th>max</th>\n",
              "    </tr>\n",
              "  </thead>\n",
              "  <tbody>\n",
              "    <tr>\n",
              "      <th>col_1</th>\n",
              "      <td>2.0</td>\n",
              "      <td>16.5</td>\n",
              "      <td>9.192388</td>\n",
              "      <td>10.0</td>\n",
              "      <td>13.25</td>\n",
              "      <td>16.5</td>\n",
              "      <td>19.75</td>\n",
              "      <td>23.0</td>\n",
              "    </tr>\n",
              "    <tr>\n",
              "      <th>col_2</th>\n",
              "      <td>2.0</td>\n",
              "      <td>12.0</td>\n",
              "      <td>0.000000</td>\n",
              "      <td>12.0</td>\n",
              "      <td>12.00</td>\n",
              "      <td>12.0</td>\n",
              "      <td>12.00</td>\n",
              "      <td>12.0</td>\n",
              "    </tr>\n",
              "    <tr>\n",
              "      <th>col_3</th>\n",
              "      <td>2.0</td>\n",
              "      <td>11.5</td>\n",
              "      <td>2.121320</td>\n",
              "      <td>10.0</td>\n",
              "      <td>10.75</td>\n",
              "      <td>11.5</td>\n",
              "      <td>12.25</td>\n",
              "      <td>13.0</td>\n",
              "    </tr>\n",
              "  </tbody>\n",
              "</table>\n",
              "</div>\n",
              "      <button class=\"colab-df-convert\" onclick=\"convertToInteractive('df-d18dafef-bcb7-4d7b-9c61-bc42431b030e')\"\n",
              "              title=\"Convert this dataframe to an interactive table.\"\n",
              "              style=\"display:none;\">\n",
              "        \n",
              "  <svg xmlns=\"http://www.w3.org/2000/svg\" height=\"24px\"viewBox=\"0 0 24 24\"\n",
              "       width=\"24px\">\n",
              "    <path d=\"M0 0h24v24H0V0z\" fill=\"none\"/>\n",
              "    <path d=\"M18.56 5.44l.94 2.06.94-2.06 2.06-.94-2.06-.94-.94-2.06-.94 2.06-2.06.94zm-11 1L8.5 8.5l.94-2.06 2.06-.94-2.06-.94L8.5 2.5l-.94 2.06-2.06.94zm10 10l.94 2.06.94-2.06 2.06-.94-2.06-.94-.94-2.06-.94 2.06-2.06.94z\"/><path d=\"M17.41 7.96l-1.37-1.37c-.4-.4-.92-.59-1.43-.59-.52 0-1.04.2-1.43.59L10.3 9.45l-7.72 7.72c-.78.78-.78 2.05 0 2.83L4 21.41c.39.39.9.59 1.41.59.51 0 1.02-.2 1.41-.59l7.78-7.78 2.81-2.81c.8-.78.8-2.07 0-2.86zM5.41 20L4 18.59l7.72-7.72 1.47 1.35L5.41 20z\"/>\n",
              "  </svg>\n",
              "      </button>\n",
              "      \n",
              "  <style>\n",
              "    .colab-df-container {\n",
              "      display:flex;\n",
              "      flex-wrap:wrap;\n",
              "      gap: 12px;\n",
              "    }\n",
              "\n",
              "    .colab-df-convert {\n",
              "      background-color: #E8F0FE;\n",
              "      border: none;\n",
              "      border-radius: 50%;\n",
              "      cursor: pointer;\n",
              "      display: none;\n",
              "      fill: #1967D2;\n",
              "      height: 32px;\n",
              "      padding: 0 0 0 0;\n",
              "      width: 32px;\n",
              "    }\n",
              "\n",
              "    .colab-df-convert:hover {\n",
              "      background-color: #E2EBFA;\n",
              "      box-shadow: 0px 1px 2px rgba(60, 64, 67, 0.3), 0px 1px 3px 1px rgba(60, 64, 67, 0.15);\n",
              "      fill: #174EA6;\n",
              "    }\n",
              "\n",
              "    [theme=dark] .colab-df-convert {\n",
              "      background-color: #3B4455;\n",
              "      fill: #D2E3FC;\n",
              "    }\n",
              "\n",
              "    [theme=dark] .colab-df-convert:hover {\n",
              "      background-color: #434B5C;\n",
              "      box-shadow: 0px 1px 3px 1px rgba(0, 0, 0, 0.15);\n",
              "      filter: drop-shadow(0px 1px 2px rgba(0, 0, 0, 0.3));\n",
              "      fill: #FFFFFF;\n",
              "    }\n",
              "  </style>\n",
              "\n",
              "      <script>\n",
              "        const buttonEl =\n",
              "          document.querySelector('#df-d18dafef-bcb7-4d7b-9c61-bc42431b030e button.colab-df-convert');\n",
              "        buttonEl.style.display =\n",
              "          google.colab.kernel.accessAllowed ? 'block' : 'none';\n",
              "\n",
              "        async function convertToInteractive(key) {\n",
              "          const element = document.querySelector('#df-d18dafef-bcb7-4d7b-9c61-bc42431b030e');\n",
              "          const dataTable =\n",
              "            await google.colab.kernel.invokeFunction('convertToInteractive',\n",
              "                                                     [key], {});\n",
              "          if (!dataTable) return;\n",
              "\n",
              "          const docLinkHtml = 'Like what you see? Visit the ' +\n",
              "            '<a target=\"_blank\" href=https://colab.research.google.com/notebooks/data_table.ipynb>data table notebook</a>'\n",
              "            + ' to learn more about interactive tables.';\n",
              "          element.innerHTML = '';\n",
              "          dataTable['output_type'] = 'display_data';\n",
              "          await google.colab.output.renderOutput(dataTable, element);\n",
              "          const docLink = document.createElement('div');\n",
              "          docLink.innerHTML = docLinkHtml;\n",
              "          element.appendChild(docLink);\n",
              "        }\n",
              "      </script>\n",
              "    </div>\n",
              "  </div>\n",
              "  "
            ]
          },
          "metadata": {},
          "execution_count": 65
        }
      ]
    },
    {
      "cell_type": "markdown",
      "metadata": {
        "id": "qReOsJ9QlGXh"
      },
      "source": [
        "### <a name='a3'> </a> Selekcja kolumn"
      ]
    },
    {
      "cell_type": "code",
      "metadata": {
        "id": "S6cV2kNz3jqD",
        "outputId": "3759625b-6daf-4bbd-e600-e8e35b758a74",
        "colab": {
          "base_uri": "https://localhost:8080/",
          "height": 112
        }
      },
      "source": [
        "df"
      ],
      "execution_count": 66,
      "outputs": [
        {
          "output_type": "execute_result",
          "data": {
            "text/plain": [
              "        col_1  col_2  col_3\n",
              "first      10     12     13\n",
              "second     23     12     10"
            ],
            "text/html": [
              "\n",
              "  <div id=\"df-4752df87-7d25-4fbe-b239-cbacdd498d6f\">\n",
              "    <div class=\"colab-df-container\">\n",
              "      <div>\n",
              "<style scoped>\n",
              "    .dataframe tbody tr th:only-of-type {\n",
              "        vertical-align: middle;\n",
              "    }\n",
              "\n",
              "    .dataframe tbody tr th {\n",
              "        vertical-align: top;\n",
              "    }\n",
              "\n",
              "    .dataframe thead th {\n",
              "        text-align: right;\n",
              "    }\n",
              "</style>\n",
              "<table border=\"1\" class=\"dataframe\">\n",
              "  <thead>\n",
              "    <tr style=\"text-align: right;\">\n",
              "      <th></th>\n",
              "      <th>col_1</th>\n",
              "      <th>col_2</th>\n",
              "      <th>col_3</th>\n",
              "    </tr>\n",
              "  </thead>\n",
              "  <tbody>\n",
              "    <tr>\n",
              "      <th>first</th>\n",
              "      <td>10</td>\n",
              "      <td>12</td>\n",
              "      <td>13</td>\n",
              "    </tr>\n",
              "    <tr>\n",
              "      <th>second</th>\n",
              "      <td>23</td>\n",
              "      <td>12</td>\n",
              "      <td>10</td>\n",
              "    </tr>\n",
              "  </tbody>\n",
              "</table>\n",
              "</div>\n",
              "      <button class=\"colab-df-convert\" onclick=\"convertToInteractive('df-4752df87-7d25-4fbe-b239-cbacdd498d6f')\"\n",
              "              title=\"Convert this dataframe to an interactive table.\"\n",
              "              style=\"display:none;\">\n",
              "        \n",
              "  <svg xmlns=\"http://www.w3.org/2000/svg\" height=\"24px\"viewBox=\"0 0 24 24\"\n",
              "       width=\"24px\">\n",
              "    <path d=\"M0 0h24v24H0V0z\" fill=\"none\"/>\n",
              "    <path d=\"M18.56 5.44l.94 2.06.94-2.06 2.06-.94-2.06-.94-.94-2.06-.94 2.06-2.06.94zm-11 1L8.5 8.5l.94-2.06 2.06-.94-2.06-.94L8.5 2.5l-.94 2.06-2.06.94zm10 10l.94 2.06.94-2.06 2.06-.94-2.06-.94-.94-2.06-.94 2.06-2.06.94z\"/><path d=\"M17.41 7.96l-1.37-1.37c-.4-.4-.92-.59-1.43-.59-.52 0-1.04.2-1.43.59L10.3 9.45l-7.72 7.72c-.78.78-.78 2.05 0 2.83L4 21.41c.39.39.9.59 1.41.59.51 0 1.02-.2 1.41-.59l7.78-7.78 2.81-2.81c.8-.78.8-2.07 0-2.86zM5.41 20L4 18.59l7.72-7.72 1.47 1.35L5.41 20z\"/>\n",
              "  </svg>\n",
              "      </button>\n",
              "      \n",
              "  <style>\n",
              "    .colab-df-container {\n",
              "      display:flex;\n",
              "      flex-wrap:wrap;\n",
              "      gap: 12px;\n",
              "    }\n",
              "\n",
              "    .colab-df-convert {\n",
              "      background-color: #E8F0FE;\n",
              "      border: none;\n",
              "      border-radius: 50%;\n",
              "      cursor: pointer;\n",
              "      display: none;\n",
              "      fill: #1967D2;\n",
              "      height: 32px;\n",
              "      padding: 0 0 0 0;\n",
              "      width: 32px;\n",
              "    }\n",
              "\n",
              "    .colab-df-convert:hover {\n",
              "      background-color: #E2EBFA;\n",
              "      box-shadow: 0px 1px 2px rgba(60, 64, 67, 0.3), 0px 1px 3px 1px rgba(60, 64, 67, 0.15);\n",
              "      fill: #174EA6;\n",
              "    }\n",
              "\n",
              "    [theme=dark] .colab-df-convert {\n",
              "      background-color: #3B4455;\n",
              "      fill: #D2E3FC;\n",
              "    }\n",
              "\n",
              "    [theme=dark] .colab-df-convert:hover {\n",
              "      background-color: #434B5C;\n",
              "      box-shadow: 0px 1px 3px 1px rgba(0, 0, 0, 0.15);\n",
              "      filter: drop-shadow(0px 1px 2px rgba(0, 0, 0, 0.3));\n",
              "      fill: #FFFFFF;\n",
              "    }\n",
              "  </style>\n",
              "\n",
              "      <script>\n",
              "        const buttonEl =\n",
              "          document.querySelector('#df-4752df87-7d25-4fbe-b239-cbacdd498d6f button.colab-df-convert');\n",
              "        buttonEl.style.display =\n",
              "          google.colab.kernel.accessAllowed ? 'block' : 'none';\n",
              "\n",
              "        async function convertToInteractive(key) {\n",
              "          const element = document.querySelector('#df-4752df87-7d25-4fbe-b239-cbacdd498d6f');\n",
              "          const dataTable =\n",
              "            await google.colab.kernel.invokeFunction('convertToInteractive',\n",
              "                                                     [key], {});\n",
              "          if (!dataTable) return;\n",
              "\n",
              "          const docLinkHtml = 'Like what you see? Visit the ' +\n",
              "            '<a target=\"_blank\" href=https://colab.research.google.com/notebooks/data_table.ipynb>data table notebook</a>'\n",
              "            + ' to learn more about interactive tables.';\n",
              "          element.innerHTML = '';\n",
              "          dataTable['output_type'] = 'display_data';\n",
              "          await google.colab.output.renderOutput(dataTable, element);\n",
              "          const docLink = document.createElement('div');\n",
              "          docLink.innerHTML = docLinkHtml;\n",
              "          element.appendChild(docLink);\n",
              "        }\n",
              "      </script>\n",
              "    </div>\n",
              "  </div>\n",
              "  "
            ]
          },
          "metadata": {},
          "execution_count": 66
        }
      ]
    },
    {
      "cell_type": "markdown",
      "source": [
        "jak wycinać kolumny z tego obiektu"
      ],
      "metadata": {
        "id": "a9Z5SVRtnE5d"
      }
    },
    {
      "cell_type": "code",
      "metadata": {
        "id": "fgcruj41L0u7",
        "outputId": "3bf863c4-7ff9-4847-b0c1-1f3d28607ab2",
        "colab": {
          "base_uri": "https://localhost:8080/"
        }
      },
      "source": [
        "df['col_1']"
      ],
      "execution_count": 67,
      "outputs": [
        {
          "output_type": "execute_result",
          "data": {
            "text/plain": [
              "first     10\n",
              "second    23\n",
              "Name: col_1, dtype: int64"
            ]
          },
          "metadata": {},
          "execution_count": 67
        }
      ]
    },
    {
      "cell_type": "code",
      "metadata": {
        "id": "YC-WeF1lL8zG",
        "outputId": "3f6c0cc9-ba99-4324-d562-577190314a2e",
        "colab": {
          "base_uri": "https://localhost:8080/"
        }
      },
      "source": [
        "type(df['col_1'])"
      ],
      "execution_count": 68,
      "outputs": [
        {
          "output_type": "execute_result",
          "data": {
            "text/plain": [
              "pandas.core.series.Series"
            ]
          },
          "metadata": {},
          "execution_count": 68
        }
      ]
    },
    {
      "cell_type": "markdown",
      "source": [
        "jeżeli chcemy wyciąć kolumnę i otrzymać w rezultacie df to tak: "
      ],
      "metadata": {
        "id": "8SciROXRndai"
      }
    },
    {
      "cell_type": "code",
      "metadata": {
        "id": "gD5Eg6g9MAS4",
        "outputId": "87bbd75f-31e5-457f-f34c-6158dc321612",
        "colab": {
          "base_uri": "https://localhost:8080/",
          "height": 112
        }
      },
      "source": [
        "df[['col_1']]"
      ],
      "execution_count": 69,
      "outputs": [
        {
          "output_type": "execute_result",
          "data": {
            "text/plain": [
              "        col_1\n",
              "first      10\n",
              "second     23"
            ],
            "text/html": [
              "\n",
              "  <div id=\"df-ee32250a-cbcd-40b2-9904-fcd906148c19\">\n",
              "    <div class=\"colab-df-container\">\n",
              "      <div>\n",
              "<style scoped>\n",
              "    .dataframe tbody tr th:only-of-type {\n",
              "        vertical-align: middle;\n",
              "    }\n",
              "\n",
              "    .dataframe tbody tr th {\n",
              "        vertical-align: top;\n",
              "    }\n",
              "\n",
              "    .dataframe thead th {\n",
              "        text-align: right;\n",
              "    }\n",
              "</style>\n",
              "<table border=\"1\" class=\"dataframe\">\n",
              "  <thead>\n",
              "    <tr style=\"text-align: right;\">\n",
              "      <th></th>\n",
              "      <th>col_1</th>\n",
              "    </tr>\n",
              "  </thead>\n",
              "  <tbody>\n",
              "    <tr>\n",
              "      <th>first</th>\n",
              "      <td>10</td>\n",
              "    </tr>\n",
              "    <tr>\n",
              "      <th>second</th>\n",
              "      <td>23</td>\n",
              "    </tr>\n",
              "  </tbody>\n",
              "</table>\n",
              "</div>\n",
              "      <button class=\"colab-df-convert\" onclick=\"convertToInteractive('df-ee32250a-cbcd-40b2-9904-fcd906148c19')\"\n",
              "              title=\"Convert this dataframe to an interactive table.\"\n",
              "              style=\"display:none;\">\n",
              "        \n",
              "  <svg xmlns=\"http://www.w3.org/2000/svg\" height=\"24px\"viewBox=\"0 0 24 24\"\n",
              "       width=\"24px\">\n",
              "    <path d=\"M0 0h24v24H0V0z\" fill=\"none\"/>\n",
              "    <path d=\"M18.56 5.44l.94 2.06.94-2.06 2.06-.94-2.06-.94-.94-2.06-.94 2.06-2.06.94zm-11 1L8.5 8.5l.94-2.06 2.06-.94-2.06-.94L8.5 2.5l-.94 2.06-2.06.94zm10 10l.94 2.06.94-2.06 2.06-.94-2.06-.94-.94-2.06-.94 2.06-2.06.94z\"/><path d=\"M17.41 7.96l-1.37-1.37c-.4-.4-.92-.59-1.43-.59-.52 0-1.04.2-1.43.59L10.3 9.45l-7.72 7.72c-.78.78-.78 2.05 0 2.83L4 21.41c.39.39.9.59 1.41.59.51 0 1.02-.2 1.41-.59l7.78-7.78 2.81-2.81c.8-.78.8-2.07 0-2.86zM5.41 20L4 18.59l7.72-7.72 1.47 1.35L5.41 20z\"/>\n",
              "  </svg>\n",
              "      </button>\n",
              "      \n",
              "  <style>\n",
              "    .colab-df-container {\n",
              "      display:flex;\n",
              "      flex-wrap:wrap;\n",
              "      gap: 12px;\n",
              "    }\n",
              "\n",
              "    .colab-df-convert {\n",
              "      background-color: #E8F0FE;\n",
              "      border: none;\n",
              "      border-radius: 50%;\n",
              "      cursor: pointer;\n",
              "      display: none;\n",
              "      fill: #1967D2;\n",
              "      height: 32px;\n",
              "      padding: 0 0 0 0;\n",
              "      width: 32px;\n",
              "    }\n",
              "\n",
              "    .colab-df-convert:hover {\n",
              "      background-color: #E2EBFA;\n",
              "      box-shadow: 0px 1px 2px rgba(60, 64, 67, 0.3), 0px 1px 3px 1px rgba(60, 64, 67, 0.15);\n",
              "      fill: #174EA6;\n",
              "    }\n",
              "\n",
              "    [theme=dark] .colab-df-convert {\n",
              "      background-color: #3B4455;\n",
              "      fill: #D2E3FC;\n",
              "    }\n",
              "\n",
              "    [theme=dark] .colab-df-convert:hover {\n",
              "      background-color: #434B5C;\n",
              "      box-shadow: 0px 1px 3px 1px rgba(0, 0, 0, 0.15);\n",
              "      filter: drop-shadow(0px 1px 2px rgba(0, 0, 0, 0.3));\n",
              "      fill: #FFFFFF;\n",
              "    }\n",
              "  </style>\n",
              "\n",
              "      <script>\n",
              "        const buttonEl =\n",
              "          document.querySelector('#df-ee32250a-cbcd-40b2-9904-fcd906148c19 button.colab-df-convert');\n",
              "        buttonEl.style.display =\n",
              "          google.colab.kernel.accessAllowed ? 'block' : 'none';\n",
              "\n",
              "        async function convertToInteractive(key) {\n",
              "          const element = document.querySelector('#df-ee32250a-cbcd-40b2-9904-fcd906148c19');\n",
              "          const dataTable =\n",
              "            await google.colab.kernel.invokeFunction('convertToInteractive',\n",
              "                                                     [key], {});\n",
              "          if (!dataTable) return;\n",
              "\n",
              "          const docLinkHtml = 'Like what you see? Visit the ' +\n",
              "            '<a target=\"_blank\" href=https://colab.research.google.com/notebooks/data_table.ipynb>data table notebook</a>'\n",
              "            + ' to learn more about interactive tables.';\n",
              "          element.innerHTML = '';\n",
              "          dataTable['output_type'] = 'display_data';\n",
              "          await google.colab.output.renderOutput(dataTable, element);\n",
              "          const docLink = document.createElement('div');\n",
              "          docLink.innerHTML = docLinkHtml;\n",
              "          element.appendChild(docLink);\n",
              "        }\n",
              "      </script>\n",
              "    </div>\n",
              "  </div>\n",
              "  "
            ]
          },
          "metadata": {},
          "execution_count": 69
        }
      ]
    },
    {
      "cell_type": "code",
      "metadata": {
        "id": "c2eJ11GVMMpD",
        "outputId": "39e44e0c-cd58-4b4d-c431-6d1da2f02ee6",
        "colab": {
          "base_uri": "https://localhost:8080/"
        }
      },
      "source": [
        "type(df[['col_1']])"
      ],
      "execution_count": 70,
      "outputs": [
        {
          "output_type": "execute_result",
          "data": {
            "text/plain": [
              "pandas.core.frame.DataFrame"
            ]
          },
          "metadata": {},
          "execution_count": 70
        }
      ]
    },
    {
      "cell_type": "markdown",
      "source": [
        "jak zmieniać nazwy kolumn w df, funkcją wycinanie, wycina się nazwy i zmienia na inne\n"
      ],
      "metadata": {
        "id": "dV_f6N7Ynpue"
      }
    },
    {
      "cell_type": "code",
      "metadata": {
        "id": "aB6SdGqBMPoL",
        "outputId": "95b16324-137d-4a65-9bcd-c0a4bd0587cf",
        "colab": {
          "base_uri": "https://localhost:8080/",
          "height": 112
        }
      },
      "source": [
        "df.columns = ['a', 'sprzedaz_grudzien', 'c']\n",
        "df"
      ],
      "execution_count": 78,
      "outputs": [
        {
          "output_type": "execute_result",
          "data": {
            "text/plain": [
              "         a  sprzedaz_grudzien   c\n",
              "first   10                 12  13\n",
              "second  23                 12  10"
            ],
            "text/html": [
              "\n",
              "  <div id=\"df-d83861af-aaa0-4b66-a78d-18d93c2ccde9\">\n",
              "    <div class=\"colab-df-container\">\n",
              "      <div>\n",
              "<style scoped>\n",
              "    .dataframe tbody tr th:only-of-type {\n",
              "        vertical-align: middle;\n",
              "    }\n",
              "\n",
              "    .dataframe tbody tr th {\n",
              "        vertical-align: top;\n",
              "    }\n",
              "\n",
              "    .dataframe thead th {\n",
              "        text-align: right;\n",
              "    }\n",
              "</style>\n",
              "<table border=\"1\" class=\"dataframe\">\n",
              "  <thead>\n",
              "    <tr style=\"text-align: right;\">\n",
              "      <th></th>\n",
              "      <th>a</th>\n",
              "      <th>sprzedaz_grudzien</th>\n",
              "      <th>c</th>\n",
              "    </tr>\n",
              "  </thead>\n",
              "  <tbody>\n",
              "    <tr>\n",
              "      <th>first</th>\n",
              "      <td>10</td>\n",
              "      <td>12</td>\n",
              "      <td>13</td>\n",
              "    </tr>\n",
              "    <tr>\n",
              "      <th>second</th>\n",
              "      <td>23</td>\n",
              "      <td>12</td>\n",
              "      <td>10</td>\n",
              "    </tr>\n",
              "  </tbody>\n",
              "</table>\n",
              "</div>\n",
              "      <button class=\"colab-df-convert\" onclick=\"convertToInteractive('df-d83861af-aaa0-4b66-a78d-18d93c2ccde9')\"\n",
              "              title=\"Convert this dataframe to an interactive table.\"\n",
              "              style=\"display:none;\">\n",
              "        \n",
              "  <svg xmlns=\"http://www.w3.org/2000/svg\" height=\"24px\"viewBox=\"0 0 24 24\"\n",
              "       width=\"24px\">\n",
              "    <path d=\"M0 0h24v24H0V0z\" fill=\"none\"/>\n",
              "    <path d=\"M18.56 5.44l.94 2.06.94-2.06 2.06-.94-2.06-.94-.94-2.06-.94 2.06-2.06.94zm-11 1L8.5 8.5l.94-2.06 2.06-.94-2.06-.94L8.5 2.5l-.94 2.06-2.06.94zm10 10l.94 2.06.94-2.06 2.06-.94-2.06-.94-.94-2.06-.94 2.06-2.06.94z\"/><path d=\"M17.41 7.96l-1.37-1.37c-.4-.4-.92-.59-1.43-.59-.52 0-1.04.2-1.43.59L10.3 9.45l-7.72 7.72c-.78.78-.78 2.05 0 2.83L4 21.41c.39.39.9.59 1.41.59.51 0 1.02-.2 1.41-.59l7.78-7.78 2.81-2.81c.8-.78.8-2.07 0-2.86zM5.41 20L4 18.59l7.72-7.72 1.47 1.35L5.41 20z\"/>\n",
              "  </svg>\n",
              "      </button>\n",
              "      \n",
              "  <style>\n",
              "    .colab-df-container {\n",
              "      display:flex;\n",
              "      flex-wrap:wrap;\n",
              "      gap: 12px;\n",
              "    }\n",
              "\n",
              "    .colab-df-convert {\n",
              "      background-color: #E8F0FE;\n",
              "      border: none;\n",
              "      border-radius: 50%;\n",
              "      cursor: pointer;\n",
              "      display: none;\n",
              "      fill: #1967D2;\n",
              "      height: 32px;\n",
              "      padding: 0 0 0 0;\n",
              "      width: 32px;\n",
              "    }\n",
              "\n",
              "    .colab-df-convert:hover {\n",
              "      background-color: #E2EBFA;\n",
              "      box-shadow: 0px 1px 2px rgba(60, 64, 67, 0.3), 0px 1px 3px 1px rgba(60, 64, 67, 0.15);\n",
              "      fill: #174EA6;\n",
              "    }\n",
              "\n",
              "    [theme=dark] .colab-df-convert {\n",
              "      background-color: #3B4455;\n",
              "      fill: #D2E3FC;\n",
              "    }\n",
              "\n",
              "    [theme=dark] .colab-df-convert:hover {\n",
              "      background-color: #434B5C;\n",
              "      box-shadow: 0px 1px 3px 1px rgba(0, 0, 0, 0.15);\n",
              "      filter: drop-shadow(0px 1px 2px rgba(0, 0, 0, 0.3));\n",
              "      fill: #FFFFFF;\n",
              "    }\n",
              "  </style>\n",
              "\n",
              "      <script>\n",
              "        const buttonEl =\n",
              "          document.querySelector('#df-d83861af-aaa0-4b66-a78d-18d93c2ccde9 button.colab-df-convert');\n",
              "        buttonEl.style.display =\n",
              "          google.colab.kernel.accessAllowed ? 'block' : 'none';\n",
              "\n",
              "        async function convertToInteractive(key) {\n",
              "          const element = document.querySelector('#df-d83861af-aaa0-4b66-a78d-18d93c2ccde9');\n",
              "          const dataTable =\n",
              "            await google.colab.kernel.invokeFunction('convertToInteractive',\n",
              "                                                     [key], {});\n",
              "          if (!dataTable) return;\n",
              "\n",
              "          const docLinkHtml = 'Like what you see? Visit the ' +\n",
              "            '<a target=\"_blank\" href=https://colab.research.google.com/notebooks/data_table.ipynb>data table notebook</a>'\n",
              "            + ' to learn more about interactive tables.';\n",
              "          element.innerHTML = '';\n",
              "          dataTable['output_type'] = 'display_data';\n",
              "          await google.colab.output.renderOutput(dataTable, element);\n",
              "          const docLink = document.createElement('div');\n",
              "          docLink.innerHTML = docLinkHtml;\n",
              "          element.appendChild(docLink);\n",
              "        }\n",
              "      </script>\n",
              "    </div>\n",
              "  </div>\n",
              "  "
            ]
          },
          "metadata": {},
          "execution_count": 78
        }
      ]
    },
    {
      "cell_type": "markdown",
      "source": [
        "jak można sie szybciej dobrać do doanych, bez nawiasu kwadratowego, przy czym nie może być spacji w nazwie kolumny"
      ],
      "metadata": {
        "id": "7iHkt6Kho4fw"
      }
    },
    {
      "cell_type": "code",
      "metadata": {
        "id": "NXisze0qMWE4",
        "outputId": "6fcab5dc-22a2-4296-ffed-7845428e7a86",
        "colab": {
          "base_uri": "https://localhost:8080/"
        }
      },
      "source": [
        "df.sprzedaz_grudzien "
      ],
      "execution_count": 79,
      "outputs": [
        {
          "output_type": "execute_result",
          "data": {
            "text/plain": [
              "first     12\n",
              "second    12\n",
              "Name: sprzedaz_grudzien, dtype: int64"
            ]
          },
          "metadata": {},
          "execution_count": 79
        }
      ]
    },
    {
      "cell_type": "markdown",
      "source": [
        "tworzenie nowej kolumny"
      ],
      "metadata": {
        "id": "svE4AAxLpg6Z"
      }
    },
    {
      "cell_type": "code",
      "metadata": {
        "id": "R2EKx5apMjTc",
        "outputId": "c4166071-d333-4acc-aeff-6e00a732faa7",
        "colab": {
          "base_uri": "https://localhost:8080/",
          "height": 112
        }
      },
      "source": [
        "df['d'] = df.a + df.c\n",
        "df"
      ],
      "execution_count": 80,
      "outputs": [
        {
          "output_type": "execute_result",
          "data": {
            "text/plain": [
              "         a  sprzedaz_grudzien   c   d\n",
              "first   10                 12  13  23\n",
              "second  23                 12  10  33"
            ],
            "text/html": [
              "\n",
              "  <div id=\"df-e78dddf3-4181-4e52-8ae5-e2a0fe275292\">\n",
              "    <div class=\"colab-df-container\">\n",
              "      <div>\n",
              "<style scoped>\n",
              "    .dataframe tbody tr th:only-of-type {\n",
              "        vertical-align: middle;\n",
              "    }\n",
              "\n",
              "    .dataframe tbody tr th {\n",
              "        vertical-align: top;\n",
              "    }\n",
              "\n",
              "    .dataframe thead th {\n",
              "        text-align: right;\n",
              "    }\n",
              "</style>\n",
              "<table border=\"1\" class=\"dataframe\">\n",
              "  <thead>\n",
              "    <tr style=\"text-align: right;\">\n",
              "      <th></th>\n",
              "      <th>a</th>\n",
              "      <th>sprzedaz_grudzien</th>\n",
              "      <th>c</th>\n",
              "      <th>d</th>\n",
              "    </tr>\n",
              "  </thead>\n",
              "  <tbody>\n",
              "    <tr>\n",
              "      <th>first</th>\n",
              "      <td>10</td>\n",
              "      <td>12</td>\n",
              "      <td>13</td>\n",
              "      <td>23</td>\n",
              "    </tr>\n",
              "    <tr>\n",
              "      <th>second</th>\n",
              "      <td>23</td>\n",
              "      <td>12</td>\n",
              "      <td>10</td>\n",
              "      <td>33</td>\n",
              "    </tr>\n",
              "  </tbody>\n",
              "</table>\n",
              "</div>\n",
              "      <button class=\"colab-df-convert\" onclick=\"convertToInteractive('df-e78dddf3-4181-4e52-8ae5-e2a0fe275292')\"\n",
              "              title=\"Convert this dataframe to an interactive table.\"\n",
              "              style=\"display:none;\">\n",
              "        \n",
              "  <svg xmlns=\"http://www.w3.org/2000/svg\" height=\"24px\"viewBox=\"0 0 24 24\"\n",
              "       width=\"24px\">\n",
              "    <path d=\"M0 0h24v24H0V0z\" fill=\"none\"/>\n",
              "    <path d=\"M18.56 5.44l.94 2.06.94-2.06 2.06-.94-2.06-.94-.94-2.06-.94 2.06-2.06.94zm-11 1L8.5 8.5l.94-2.06 2.06-.94-2.06-.94L8.5 2.5l-.94 2.06-2.06.94zm10 10l.94 2.06.94-2.06 2.06-.94-2.06-.94-.94-2.06-.94 2.06-2.06.94z\"/><path d=\"M17.41 7.96l-1.37-1.37c-.4-.4-.92-.59-1.43-.59-.52 0-1.04.2-1.43.59L10.3 9.45l-7.72 7.72c-.78.78-.78 2.05 0 2.83L4 21.41c.39.39.9.59 1.41.59.51 0 1.02-.2 1.41-.59l7.78-7.78 2.81-2.81c.8-.78.8-2.07 0-2.86zM5.41 20L4 18.59l7.72-7.72 1.47 1.35L5.41 20z\"/>\n",
              "  </svg>\n",
              "      </button>\n",
              "      \n",
              "  <style>\n",
              "    .colab-df-container {\n",
              "      display:flex;\n",
              "      flex-wrap:wrap;\n",
              "      gap: 12px;\n",
              "    }\n",
              "\n",
              "    .colab-df-convert {\n",
              "      background-color: #E8F0FE;\n",
              "      border: none;\n",
              "      border-radius: 50%;\n",
              "      cursor: pointer;\n",
              "      display: none;\n",
              "      fill: #1967D2;\n",
              "      height: 32px;\n",
              "      padding: 0 0 0 0;\n",
              "      width: 32px;\n",
              "    }\n",
              "\n",
              "    .colab-df-convert:hover {\n",
              "      background-color: #E2EBFA;\n",
              "      box-shadow: 0px 1px 2px rgba(60, 64, 67, 0.3), 0px 1px 3px 1px rgba(60, 64, 67, 0.15);\n",
              "      fill: #174EA6;\n",
              "    }\n",
              "\n",
              "    [theme=dark] .colab-df-convert {\n",
              "      background-color: #3B4455;\n",
              "      fill: #D2E3FC;\n",
              "    }\n",
              "\n",
              "    [theme=dark] .colab-df-convert:hover {\n",
              "      background-color: #434B5C;\n",
              "      box-shadow: 0px 1px 3px 1px rgba(0, 0, 0, 0.15);\n",
              "      filter: drop-shadow(0px 1px 2px rgba(0, 0, 0, 0.3));\n",
              "      fill: #FFFFFF;\n",
              "    }\n",
              "  </style>\n",
              "\n",
              "      <script>\n",
              "        const buttonEl =\n",
              "          document.querySelector('#df-e78dddf3-4181-4e52-8ae5-e2a0fe275292 button.colab-df-convert');\n",
              "        buttonEl.style.display =\n",
              "          google.colab.kernel.accessAllowed ? 'block' : 'none';\n",
              "\n",
              "        async function convertToInteractive(key) {\n",
              "          const element = document.querySelector('#df-e78dddf3-4181-4e52-8ae5-e2a0fe275292');\n",
              "          const dataTable =\n",
              "            await google.colab.kernel.invokeFunction('convertToInteractive',\n",
              "                                                     [key], {});\n",
              "          if (!dataTable) return;\n",
              "\n",
              "          const docLinkHtml = 'Like what you see? Visit the ' +\n",
              "            '<a target=\"_blank\" href=https://colab.research.google.com/notebooks/data_table.ipynb>data table notebook</a>'\n",
              "            + ' to learn more about interactive tables.';\n",
              "          element.innerHTML = '';\n",
              "          dataTable['output_type'] = 'display_data';\n",
              "          await google.colab.output.renderOutput(dataTable, element);\n",
              "          const docLink = document.createElement('div');\n",
              "          docLink.innerHTML = docLinkHtml;\n",
              "          element.appendChild(docLink);\n",
              "        }\n",
              "      </script>\n",
              "    </div>\n",
              "  </div>\n",
              "  "
            ]
          },
          "metadata": {},
          "execution_count": 80
        }
      ]
    },
    {
      "cell_type": "markdown",
      "source": [
        "inne metody wycinania"
      ],
      "metadata": {
        "id": "d9d45SflqCYm"
      }
    },
    {
      "cell_type": "code",
      "metadata": {
        "id": "Qr2Jm6kXNAsP",
        "outputId": "37cfee13-8dfd-4ce2-c43d-c0b5870fb19b",
        "colab": {
          "base_uri": "https://localhost:8080/",
          "height": 112
        }
      },
      "source": [
        "df = pd.DataFrame(data=[[10, 12, 13], [23, 12, 10]], index=['first', 'second'], columns=['col_1', 'col_2', 'col_3'])\n",
        "df"
      ],
      "execution_count": 81,
      "outputs": [
        {
          "output_type": "execute_result",
          "data": {
            "text/plain": [
              "        col_1  col_2  col_3\n",
              "first      10     12     13\n",
              "second     23     12     10"
            ],
            "text/html": [
              "\n",
              "  <div id=\"df-96d16643-aad3-4aa5-aa54-5cd691a81ba4\">\n",
              "    <div class=\"colab-df-container\">\n",
              "      <div>\n",
              "<style scoped>\n",
              "    .dataframe tbody tr th:only-of-type {\n",
              "        vertical-align: middle;\n",
              "    }\n",
              "\n",
              "    .dataframe tbody tr th {\n",
              "        vertical-align: top;\n",
              "    }\n",
              "\n",
              "    .dataframe thead th {\n",
              "        text-align: right;\n",
              "    }\n",
              "</style>\n",
              "<table border=\"1\" class=\"dataframe\">\n",
              "  <thead>\n",
              "    <tr style=\"text-align: right;\">\n",
              "      <th></th>\n",
              "      <th>col_1</th>\n",
              "      <th>col_2</th>\n",
              "      <th>col_3</th>\n",
              "    </tr>\n",
              "  </thead>\n",
              "  <tbody>\n",
              "    <tr>\n",
              "      <th>first</th>\n",
              "      <td>10</td>\n",
              "      <td>12</td>\n",
              "      <td>13</td>\n",
              "    </tr>\n",
              "    <tr>\n",
              "      <th>second</th>\n",
              "      <td>23</td>\n",
              "      <td>12</td>\n",
              "      <td>10</td>\n",
              "    </tr>\n",
              "  </tbody>\n",
              "</table>\n",
              "</div>\n",
              "      <button class=\"colab-df-convert\" onclick=\"convertToInteractive('df-96d16643-aad3-4aa5-aa54-5cd691a81ba4')\"\n",
              "              title=\"Convert this dataframe to an interactive table.\"\n",
              "              style=\"display:none;\">\n",
              "        \n",
              "  <svg xmlns=\"http://www.w3.org/2000/svg\" height=\"24px\"viewBox=\"0 0 24 24\"\n",
              "       width=\"24px\">\n",
              "    <path d=\"M0 0h24v24H0V0z\" fill=\"none\"/>\n",
              "    <path d=\"M18.56 5.44l.94 2.06.94-2.06 2.06-.94-2.06-.94-.94-2.06-.94 2.06-2.06.94zm-11 1L8.5 8.5l.94-2.06 2.06-.94-2.06-.94L8.5 2.5l-.94 2.06-2.06.94zm10 10l.94 2.06.94-2.06 2.06-.94-2.06-.94-.94-2.06-.94 2.06-2.06.94z\"/><path d=\"M17.41 7.96l-1.37-1.37c-.4-.4-.92-.59-1.43-.59-.52 0-1.04.2-1.43.59L10.3 9.45l-7.72 7.72c-.78.78-.78 2.05 0 2.83L4 21.41c.39.39.9.59 1.41.59.51 0 1.02-.2 1.41-.59l7.78-7.78 2.81-2.81c.8-.78.8-2.07 0-2.86zM5.41 20L4 18.59l7.72-7.72 1.47 1.35L5.41 20z\"/>\n",
              "  </svg>\n",
              "      </button>\n",
              "      \n",
              "  <style>\n",
              "    .colab-df-container {\n",
              "      display:flex;\n",
              "      flex-wrap:wrap;\n",
              "      gap: 12px;\n",
              "    }\n",
              "\n",
              "    .colab-df-convert {\n",
              "      background-color: #E8F0FE;\n",
              "      border: none;\n",
              "      border-radius: 50%;\n",
              "      cursor: pointer;\n",
              "      display: none;\n",
              "      fill: #1967D2;\n",
              "      height: 32px;\n",
              "      padding: 0 0 0 0;\n",
              "      width: 32px;\n",
              "    }\n",
              "\n",
              "    .colab-df-convert:hover {\n",
              "      background-color: #E2EBFA;\n",
              "      box-shadow: 0px 1px 2px rgba(60, 64, 67, 0.3), 0px 1px 3px 1px rgba(60, 64, 67, 0.15);\n",
              "      fill: #174EA6;\n",
              "    }\n",
              "\n",
              "    [theme=dark] .colab-df-convert {\n",
              "      background-color: #3B4455;\n",
              "      fill: #D2E3FC;\n",
              "    }\n",
              "\n",
              "    [theme=dark] .colab-df-convert:hover {\n",
              "      background-color: #434B5C;\n",
              "      box-shadow: 0px 1px 3px 1px rgba(0, 0, 0, 0.15);\n",
              "      filter: drop-shadow(0px 1px 2px rgba(0, 0, 0, 0.3));\n",
              "      fill: #FFFFFF;\n",
              "    }\n",
              "  </style>\n",
              "\n",
              "      <script>\n",
              "        const buttonEl =\n",
              "          document.querySelector('#df-96d16643-aad3-4aa5-aa54-5cd691a81ba4 button.colab-df-convert');\n",
              "        buttonEl.style.display =\n",
              "          google.colab.kernel.accessAllowed ? 'block' : 'none';\n",
              "\n",
              "        async function convertToInteractive(key) {\n",
              "          const element = document.querySelector('#df-96d16643-aad3-4aa5-aa54-5cd691a81ba4');\n",
              "          const dataTable =\n",
              "            await google.colab.kernel.invokeFunction('convertToInteractive',\n",
              "                                                     [key], {});\n",
              "          if (!dataTable) return;\n",
              "\n",
              "          const docLinkHtml = 'Like what you see? Visit the ' +\n",
              "            '<a target=\"_blank\" href=https://colab.research.google.com/notebooks/data_table.ipynb>data table notebook</a>'\n",
              "            + ' to learn more about interactive tables.';\n",
              "          element.innerHTML = '';\n",
              "          dataTable['output_type'] = 'display_data';\n",
              "          await google.colab.output.renderOutput(dataTable, element);\n",
              "          const docLink = document.createElement('div');\n",
              "          docLink.innerHTML = docLinkHtml;\n",
              "          element.appendChild(docLink);\n",
              "        }\n",
              "      </script>\n",
              "    </div>\n",
              "  </div>\n",
              "  "
            ]
          },
          "metadata": {},
          "execution_count": 81
        }
      ]
    },
    {
      "cell_type": "markdown",
      "source": [
        "loc pozwala wycinać obiekty po nazwach wierszy, po indeksach"
      ],
      "metadata": {
        "id": "nIyU2Qy8qGT2"
      }
    },
    {
      "cell_type": "code",
      "metadata": {
        "id": "86wP7oR2NKLR",
        "outputId": "b29420d3-afe7-49f3-a418-fc428923359d",
        "colab": {
          "base_uri": "https://localhost:8080/"
        }
      },
      "source": [
        "df.loc['first']"
      ],
      "execution_count": 82,
      "outputs": [
        {
          "output_type": "execute_result",
          "data": {
            "text/plain": [
              "col_1    10\n",
              "col_2    12\n",
              "col_3    13\n",
              "Name: first, dtype: int64"
            ]
          },
          "metadata": {},
          "execution_count": 82
        }
      ]
    },
    {
      "cell_type": "markdown",
      "source": [
        "wycięcie konkretnej wartości (pierwszy indeks i druga kolumna)"
      ],
      "metadata": {
        "id": "loMWnxymqlva"
      }
    },
    {
      "cell_type": "code",
      "metadata": {
        "id": "IeTuOgQLNfiW",
        "outputId": "d22210e2-4c3d-4271-ec3a-db0adee2a31b",
        "colab": {
          "base_uri": "https://localhost:8080/"
        }
      },
      "source": [
        "df.loc['first', 'col_2']"
      ],
      "execution_count": 84,
      "outputs": [
        {
          "output_type": "execute_result",
          "data": {
            "text/plain": [
              "12"
            ]
          },
          "metadata": {},
          "execution_count": 84
        }
      ]
    },
    {
      "cell_type": "markdown",
      "source": [
        "wycięcie kolumny, dwukropek zamiast indeksu"
      ],
      "metadata": {
        "id": "dTC3drfvqvDf"
      }
    },
    {
      "cell_type": "code",
      "metadata": {
        "id": "x5MYhjyUNlbv",
        "outputId": "c1d9a61a-002d-49ad-e831-218e0c4bb182",
        "colab": {
          "base_uri": "https://localhost:8080/"
        }
      },
      "source": [
        "df.loc[:, 'col_2']"
      ],
      "execution_count": 85,
      "outputs": [
        {
          "output_type": "execute_result",
          "data": {
            "text/plain": [
              "first     12\n",
              "second    12\n",
              "Name: col_2, dtype: int64"
            ]
          },
          "metadata": {},
          "execution_count": 85
        }
      ]
    },
    {
      "cell_type": "markdown",
      "source": [
        "jeśłi zamiast nazwy indeksu chcemy numer indeksu to iloc, iloc(0) to pierwszy indeks"
      ],
      "metadata": {
        "id": "4WZ6n1OUqWaH"
      }
    },
    {
      "cell_type": "code",
      "metadata": {
        "id": "MgrWuqkQNSMC",
        "outputId": "e835e26a-8ae8-458c-a2cf-fb97a76f539e",
        "colab": {
          "base_uri": "https://localhost:8080/"
        }
      },
      "source": [
        "df.iloc[0]"
      ],
      "execution_count": 83,
      "outputs": [
        {
          "output_type": "execute_result",
          "data": {
            "text/plain": [
              "col_1    10\n",
              "col_2    12\n",
              "col_3    13\n",
              "Name: first, dtype: int64"
            ]
          },
          "metadata": {},
          "execution_count": 83
        }
      ]
    },
    {
      "cell_type": "markdown",
      "source": [
        "iloc działa tak samo, trzeba podać numer indeksu wiersza i numer indeksu kolumny"
      ],
      "metadata": {
        "id": "oiTc9PXjq3j4"
      }
    },
    {
      "cell_type": "code",
      "metadata": {
        "id": "OsNZJtkoNYcp",
        "outputId": "c3748cf2-0ded-4049-e845-a0a94308c83e",
        "colab": {
          "base_uri": "https://localhost:8080/"
        }
      },
      "source": [
        "df.iloc[0, 1]"
      ],
      "execution_count": 86,
      "outputs": [
        {
          "output_type": "execute_result",
          "data": {
            "text/plain": [
              "12"
            ]
          },
          "metadata": {},
          "execution_count": 86
        }
      ]
    },
    {
      "cell_type": "code",
      "metadata": {
        "id": "nH1la7FXNwGB"
      },
      "source": [],
      "execution_count": null,
      "outputs": []
    }
  ]
}